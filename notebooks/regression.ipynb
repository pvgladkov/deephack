{
 "cells": [
  {
   "cell_type": "code",
   "execution_count": 394,
   "metadata": {
    "collapsed": true
   },
   "outputs": [],
   "source": [
    "import os\n",
    "import json\n",
    "import pandas as pd\n",
    "import numpy as np\n",
    "import itertools\n",
    "from turing.features import nlp\n",
    "from turing.features.common import desctiptive_stats\n",
    "from turing.features.freq import top_words, top_lemmas, word_counts, lemma_counts\n",
    "import xgboost as xgb\n",
    "from scipy.stats import spearmanr\n",
    "from random import shuffle, randint\n",
    "import matplotlib.pyplot as plt\n",
    "%matplotlib inline\n",
    "import matplotlib.pyplot as plt\n",
    "from sklearn.metrics.pairwise import cosine_similarity\n",
    "plt.rcParams[\"figure.figsize\"] = (30,15)\n",
    "\n",
    "from collections import defaultdict, Counter\n",
    "from sklearn.metrics import roc_auc_score, mean_squared_error\n",
    "import warnings\n",
    "warnings.filterwarnings('ignore')\n",
    "from sklearn.metrics.pairwise import cosine_similarity, linear_kernel, polynomial_kernel, rbf_kernel, chi2_kernel, additive_chi2_kernel, manhattan_distances\n",
    "\n",
    "from sklearn.feature_extraction.text import CountVectorizer, TfidfVectorizer"
   ]
  },
  {
   "cell_type": "code",
   "execution_count": 404,
   "metadata": {},
   "outputs": [],
   "source": [
    "doc = json.load(open(\"../../turing-data/train_20170724.json\"))\n",
    "doc2 = json.load(open(\"../../turing-data/train_20170725.json\"))\n",
    "doc3 = json.load(open(\"../../turing-data/train_20170726.json\"))\n",
    "\n",
    "tdoc = json.load(open(\"../../turing-data/test_20170727.json\"))\n",
    "\n",
    "clf1 = json.load(open(\"data/p/clf_train_20170724.json\"))\n",
    "clf2 = json.load(open(\"data/p/clf_train_20170725.json\"))\n",
    "clf3 = json.load(open(\"data/p/clf_train_20170726.json\"))\n",
    "\n",
    "p_train = pd.DataFrame.from_csv(\"data/p2/eval_t.csv\")\n",
    "p_test = pd.DataFrame.from_csv(\"data/p2/all_own_test.csv\")\n",
    "\n",
    "p = pd.concat([p_train, p_test])\n",
    "\n",
    "diags = doc + doc2 + doc3"
   ]
  },
  {
   "cell_type": "code",
   "execution_count": 377,
   "metadata": {
    "collapsed": true
   },
   "outputs": [],
   "source": [
    "ALL_DOCUMENTS = []\n",
    "ALL_CONTEXTS = []\n",
    "ALL_UTTERANCES = []\n",
    "\n",
    "for d in diags:\n",
    "    context = d[\"context\"]\n",
    "    utterances = []\n",
    "    for t in d[\"thread\"]:\n",
    "        utterances.append(t[\"text\"])\n",
    "    ALL_DOCUMENTS.append(context)\n",
    "    ALL_DOCUMENTS.extend(utterances)\n",
    "    \n",
    "    ALL_CONTEXTS.append(context)\n",
    "    ALL_UTTERANCES.extend(utterances)"
   ]
  },
  {
   "cell_type": "code",
   "execution_count": 6,
   "metadata": {},
   "outputs": [
    {
     "data": {
      "text/plain": [
       "{u'context': u'In the James Bond series by Ian Fleming, James Bond, reads The Times. As described by Fleming in From Russia, with Love: \"The Times was the only paper that Bond ever read.\"',\n",
       " u'dialogId': 319946573,\n",
       " u'thread': [{u'text': u'Hi', u'time': 567000000, u'userId': u'Alice'},\n",
       "  {u'text': u'good day to you! how are you?',\n",
       "   u'time': 567000000,\n",
       "   u'userId': u'Bob'},\n",
       "  {u'text': u'Great. Have you seen any of James Bond movies?',\n",
       "   u'time': 567000000,\n",
       "   u'userId': u'Alice'},\n",
       "  {u'text': u'The Times', u'time': 567000000, u'userId': u'Bob'},\n",
       "  {u'text': u'That is newspaper', u'time': 567000000, u'userId': u'Alice'},\n",
       "  {u'text': u'what is a \" r noshitsherlock \"?',\n",
       "   u'time': 567000000,\n",
       "   u'userId': u'Bob'},\n",
       "  {u'text': u\"I don't know\", u'time': 567000000, u'userId': u'Alice'},\n",
       "  {u'text': u\"i'm a bot, and i'm not even a bot .\",\n",
       "   u'time': 567000000,\n",
       "   u'userId': u'Bob'},\n",
       "  {u'text': u'Well, sorry to hear that',\n",
       "   u'time': 567000000,\n",
       "   u'userId': u'Alice'}],\n",
       " u'users': [{u'id': u'Alice'}, {u'id': u'Bob'}]}"
      ]
     },
     "execution_count": 6,
     "metadata": {},
     "output_type": "execute_result"
    }
   ],
   "source": [
    "tdoc[1]"
   ]
  },
  {
   "cell_type": "code",
   "execution_count": 7,
   "metadata": {
    "collapsed": true
   },
   "outputs": [],
   "source": [
    "def is_bot(diag, user):\n",
    "    text = \" \".join([x[\"text\"] for x in diag[\"thread\"] if x[\"userId\"] == user])\n",
    "    \n",
    "    if len(text) == 0:\n",
    "        return False\n",
    "    \n",
    "    if \"avilable\" in text:\n",
    "        return True\n",
    "    \n",
    "    if \"Hint: first\" in text:\n",
    "        return True\n",
    "    \n",
    "    if \" .\" in text or \" ,\" in text or \" '\" in text:\n",
    "        return True\n",
    "    \n",
    "    if \"\\n\" in text:\n",
    "        return True\n",
    "    \n",
    "    if \">\" in text:\n",
    "        return True\n",
    "    \n",
    "    return False"
   ]
  },
  {
   "cell_type": "code",
   "execution_count": 8,
   "metadata": {
    "collapsed": true
   },
   "outputs": [],
   "source": [
    "def get_score(diag, user):\n",
    "    return filter(lambda x: x[\"userId\"] == user, diag[\"evaluation\"])[0][\"quality\"]"
   ]
  },
  {
   "cell_type": "code",
   "execution_count": 9,
   "metadata": {
    "collapsed": true
   },
   "outputs": [],
   "source": [
    "# def correlation_old(diags, bst):\n",
    "#     df = make_features(diags, True)\n",
    "    \n",
    "#     label_column = df[\"label\"]\n",
    "#     features = df.drop([\"label\", \"dialogId\", \"user\"], axis=1)\n",
    "#     dtest = xgb.DMatrix(features.values, feature_names=features.columns)\n",
    "    \n",
    "#     preds = bst.predict(dtest)\n",
    "    \n",
    "#     for i, diag in enumerate(diags):\n",
    "#         for j, name in enumerate([\"Alice\",\"Bob\"]):\n",
    "#             if is_bot(diag, name):\n",
    "#                 preds[2*i+j] = 0\n",
    "\n",
    "#     df[\"prediction\"] = preds\n",
    "    \n",
    "# #     print df[[\"label\",\"prediction\"]]\n",
    "    \n",
    "#     return spearmanr(df[\"label\"].values, df[\"prediction\"].values)"
   ]
  },
  {
   "cell_type": "code",
   "execution_count": 10,
   "metadata": {},
   "outputs": [],
   "source": [
    "def correlation(test_diags, test_set, bst, rules = True):\n",
    "    label_column = test_set[\"label\"]\n",
    "    features = test_set.drop([\"label\", \"dialogId\", \"user\"], axis=1)\n",
    "    dtest = xgb.DMatrix(features.values, feature_names=features.columns)\n",
    "    \n",
    "    preds = bst.predict(dtest)\n",
    "\n",
    "    if rules:\n",
    "        for i, diag in enumerate(test_diags):\n",
    "            for j, name in enumerate([\"Alice\",\"Bob\"]):\n",
    "                if is_bot(diag, name):\n",
    "                    preds[2*i+j] = 0\n",
    "    \n",
    "    return spearmanr(test_set[\"label\"].values, preds)"
   ]
  },
  {
   "cell_type": "code",
   "execution_count": 417,
   "metadata": {},
   "outputs": [],
   "source": [
    "def cv(diags, test_ratio=0.2, folds=5, params=None, **kwargs):\n",
    "    scores = []\n",
    "    df_feats = make_features(diags, True)\n",
    "    \n",
    "    for i in range(0,len(diags),len(diags)/folds)[:-1]:\n",
    "        test_set = df_feats[2*i:2*i+2*int(test_ratio*len(diags))]\n",
    "        test_diags = diags[i:i+int(test_ratio*len(diags))]\n",
    "        train_set = pd.concat([df_feats[0:2*i],df_feats[2*i+2*int(test_ratio*len(diags)):]])\n",
    "        \n",
    "        label_column = train_set[\"label\"]\n",
    "        features = train_set.drop([\"label\", \"dialogId\", \"user\"], axis=1)\n",
    "\n",
    "        dtrain = xgb.DMatrix(features.values, label_column.values, feature_names=features.columns)\n",
    "        bst = xgb.train(param, dtrain, num_boost_round=50)\n",
    "        \n",
    "        scores.append(correlation(test_diags, test_set, bst, **kwargs).correlation)\n",
    "        print scores[-1]\n",
    "        \n",
    "    return np.mean(scores)"
   ]
  },
  {
   "cell_type": "code",
   "execution_count": 12,
   "metadata": {
    "collapsed": true
   },
   "outputs": [],
   "source": [
    "def flatten_dialogs(diags):\n",
    "    res = []\n",
    "    for d in diags:\n",
    "        for t in d[\"thread\"]:\n",
    "            if len(t[\"text\"].strip(\" *\")) > 10 and \"\\n\" not in t[\"text\"]:\n",
    "                res.append((d[\"dialogId\"],t[\"userId\"],t[\"text\"].encode(\"utf-8\")))\n",
    "    \n",
    "    return pd.DataFrame.from_records(res, columns=[\"dialogId\",\"userId\",\"text\"])"
   ]
  },
  {
   "cell_type": "code",
   "execution_count": 13,
   "metadata": {
    "collapsed": true
   },
   "outputs": [],
   "source": [
    "df_texts = flatten_dialogs(diags + tdoc)\n",
    "df_texts.to_csv(\"data/texts\", sep=\"\\t\",encoding=\"utf-8\")"
   ]
  },
  {
   "cell_type": "code",
   "execution_count": 16,
   "metadata": {},
   "outputs": [],
   "source": [
    "ppl_df = pd.DataFrame.from_csv(\"data/ppl_scores\", index_col=0).reset_index()\n",
    "ppl_df_big = pd.concat([df_texts,ppl_df],axis=1)"
   ]
  },
  {
   "cell_type": "code",
   "execution_count": 398,
   "metadata": {
    "collapsed": true
   },
   "outputs": [],
   "source": [
    "def make_submit(test_diags, train_diags):\n",
    "    train_set = make_features(train_diags,True)\n",
    "    test_set = make_features(test_diags,False)\n",
    "    \n",
    "    label_column = train_set[\"label\"]\n",
    "    train_features = train_set.drop([\"label\", \"dialogId\", \"user\"], axis=1)\n",
    "    \n",
    "    test_features = test_set.drop([\"dialogId\", \"user\"], axis=1)\n",
    "    \n",
    "    dtrain = xgb.DMatrix(train_features.values, label_column.values, feature_names=train_features.columns)\n",
    "    dtest = xgb.DMatrix(test_features.values, feature_names=test_features.columns)\n",
    "    \n",
    "    bst = xgb.train(param, dtrain, num_boost_round=150)\n",
    "    preds = bst.predict(dtest)\n",
    "    \n",
    "\n",
    "    for i, diag in enumerate(tdoc):\n",
    "        for j, name in enumerate([\"Alice\",\"Bob\"]):\n",
    "            if is_bot(diag, name):\n",
    "                preds[2*i+j] = 0\n",
    "\n",
    "    test_set[\"prediction\"] = preds\n",
    "    \n",
    "    \n",
    "    scores = defaultdict(dict)\n",
    "    for i in range(0,len(test_set)):\n",
    "        row = test_set.iloc[i]\n",
    "        scores[row[\"dialogId\"]][row[\"user\"]] = row[\"prediction\"]\n",
    "        \n",
    "    records = []\n",
    "    for dialog_id in scores:\n",
    "        records.append((dialog_id,scores[dialog_id][\"Alice\"],scores[dialog_id][\"Bob\"]))\n",
    "    \n",
    "    return pd.DataFrame.from_records(records, columns=[\"dialogId\",\"Alice\",\"Bob\"])"
   ]
  },
  {
   "cell_type": "code",
   "execution_count": 401,
   "metadata": {},
   "outputs": [],
   "source": [
    "submit = make_submit(tdoc, diags)"
   ]
  },
  {
   "cell_type": "code",
   "execution_count": 402,
   "metadata": {
    "collapsed": true
   },
   "outputs": [],
   "source": [
    "submit.to_csv(\"submit27allfeats.csv\", index=False)"
   ]
  },
  {
   "cell_type": "code",
   "execution_count": 30,
   "metadata": {},
   "outputs": [
    {
     "data": {
      "text/plain": [
       "{u'context': u'In 1938 the Nazis altered about one-third of the toponyms of the area, eliminating, Germanizing, or simplifying a number of Old Prussian names, as well as those Polish or Lithuanian names originating from colonists and refugees to Prussia during and after the Protestant Reformation. More than 1,500 places were ordered to be renamed by 16 July 1938 following a decree issued by Gauleiter and Oberpr\\xe4sident Erich Koch and initiated by Adolf Hitler. Many who would not cooperate with the rulers of Nazi Germany were sent to concentration camps and held prisoner there until their death or liberation.',\n",
       " u'dialogId': 1356952707,\n",
       " u'thread': [{u'text': u'Hello, my friend. Hope this chat will go well. I will ask you a question in a second, please wait',\n",
       "   u'time': 269000000,\n",
       "   u'userId': u'Bob'},\n",
       "  {u'text': u'What was the number of prussian names in 1938?',\n",
       "   u'time': 269000000,\n",
       "   u'userId': u'Bob'},\n",
       "  {u'text': u'100?', u'time': 269000000, u'userId': u'Alice'},\n",
       "  {u'text': u'You can do better. Hint: first 3 answer letters is \"old\".',\n",
       "   u'time': 269000000,\n",
       "   u'userId': u'Bob'},\n",
       "  {u'text': u'old', u'time': 269000000, u'userId': u'Alice'},\n",
       "  {u'text': u'Still incorrect :( Lets speak about something else...',\n",
       "   u'time': 269000000,\n",
       "   u'userId': u'Bob'},\n",
       "  {u'text': u'else?', u'time': 269000000, u'userId': u'Alice'},\n",
       "  {u'text': u'No.', u'time': 269000000, u'userId': u'Bob'},\n",
       "  {u'text': u'no?', u'time': 269000000, u'userId': u'Alice'},\n",
       "  {u'text': u'No.', u'time': 269000000, u'userId': u'Bob'},\n",
       "  {u'text': u'no?', u'time': 269000000, u'userId': u'Alice'},\n",
       "  {u'text': u'No.', u'time': 269000000, u'userId': u'Bob'},\n",
       "  {u'text': u'no?', u'time': 269000000, u'userId': u'Alice'},\n",
       "  {u'text': u'No.', u'time': 269000000, u'userId': u'Bob'},\n",
       "  {u'text': u'no?', u'time': 269000000, u'userId': u'Alice'},\n",
       "  {u'text': u'No.', u'time': 269000000, u'userId': u'Bob'},\n",
       "  {u'text': u'no?', u'time': 269000000, u'userId': u'Alice'},\n",
       "  {u'text': u'No.', u'time': 269000000, u'userId': u'Bob'},\n",
       "  {u'text': u'no?', u'time': 269000000, u'userId': u'Alice'},\n",
       "  {u'text': u'No.', u'time': 269000000, u'userId': u'Bob'},\n",
       "  {u'text': u'no?', u'time': 269000000, u'userId': u'Alice'},\n",
       "  {u'text': u'No.', u'time': 269000000, u'userId': u'Bob'},\n",
       "  {u'text': u'no?', u'time': 269000000, u'userId': u'Alice'},\n",
       "  {u'text': u'No.', u'time': 269000000, u'userId': u'Bob'},\n",
       "  {u'text': u'no?', u'time': 269000000, u'userId': u'Alice'},\n",
       "  {u'text': u'No.', u'time': 269000000, u'userId': u'Bob'},\n",
       "  {u'text': u'no?', u'time': 269000000, u'userId': u'Alice'},\n",
       "  {u'text': u'No.', u'time': 269000000, u'userId': u'Bob'},\n",
       "  {u'text': u'non', u'time': 269000000, u'userId': u'Alice'},\n",
       "  {u'text': u'What a joke.', u'time': 269000000, u'userId': u'Bob'},\n",
       "  {u'text': u'Bear walk in the forest',\n",
       "   u'time': 269000000,\n",
       "   u'userId': u'Alice'},\n",
       "  {u'text': u'Https: forest', u'time': 269000000, u'userId': u'Bob'},\n",
       "  {u'text': u'Suddenly it observe burning car',\n",
       "   u'time': 269000000,\n",
       "   u'userId': u'Alice'},\n",
       "  {u'text': u'Forest', u'time': 269000000, u'userId': u'Bob'},\n",
       "  {u'text': u'AAAAAnd seat in!', u'time': 269000000, u'userId': u'Alice'},\n",
       "  {u'text': u'!!', u'time': 269000000, u'userId': u'Bob'}],\n",
       " u'users': [{u'id': u'Alice'}, {u'id': u'Bob'}]}"
      ]
     },
     "execution_count": 30,
     "metadata": {},
     "output_type": "execute_result"
    }
   ],
   "source": [
    "tdoc[0]"
   ]
  },
  {
   "cell_type": "markdown",
   "metadata": {},
   "source": [
    "## Tema feats"
   ]
  },
  {
   "cell_type": "code",
   "execution_count": 378,
   "metadata": {
    "collapsed": true
   },
   "outputs": [],
   "source": [
    "ANALYZER = \"char\"\n",
    "# ANALYZER = \"word\"\n",
    "NGRAM_RANGE = (2, 2)"
   ]
  },
  {
   "cell_type": "code",
   "execution_count": 381,
   "metadata": {},
   "outputs": [],
   "source": [
    "ngrams_count_vectorizer = lambda: CountVectorizer(analyzer=ANALYZER, ngram_range=NGRAM_RANGE)\n",
    "tfidf_vectorizer = lambda: TfidfVectorizer(analyzer=ANALYZER, ngram_range=NGRAM_RANGE)\n",
    "\n",
    "all_docs_count_ngrams = ngrams_count_vectorizer().fit(ALL_DOCUMENTS)\n",
    "utterances_count_ngrams = ngrams_count_vectorizer().fit(ALL_UTTERANCES)\n",
    "\n",
    "all_docs_tfidf_ngrams = tfidf_vectorizer().fit(ALL_DOCUMENTS)\n",
    "utterances_tfidf_ngrams = tfidf_vectorizer().fit(ALL_UTTERANCES)"
   ]
  },
  {
   "cell_type": "code",
   "execution_count": 382,
   "metadata": {
    "collapsed": true
   },
   "outputs": [],
   "source": [
    "def make_vector_features(mode=\"count\", scope=\"utterance\"):\n",
    "    if mode == \"count\":\n",
    "        if scope == \"all\":\n",
    "            vectorizer = all_docs_count_ngrams\n",
    "        else:\n",
    "            vectorizer = utterances_count_ngrams\n",
    "    else:\n",
    "        if scope == \"all\":\n",
    "            vectorizer = all_docs_tfidf_ngrams\n",
    "        else:\n",
    "            vectorizer = utterances_tfidf_ngrams\n",
    "    \n",
    "    def count_vector_all_replics(diag, user):\n",
    "        self, other = [], []\n",
    "        for msg in diag[\"thread\"]:\n",
    "            if msg[\"userId\"] == user:\n",
    "                self.append(msg[\"text\"])\n",
    "            else:\n",
    "                other.append(msg[\"text\"])\n",
    "\n",
    "        if self and other:\n",
    "            sim_metrics = pd.Series()\n",
    "            self_vec, other_vec = vectorizer.transform([\" \".join(self), \" \".join(other)]).toarray()\n",
    "            self_vec = pd.Series(data=self_vec, index=[\"self_countvec_{}\".format(i) for i in range(0, self_vec.shape[0])])\n",
    "            other_vec = pd.Series(data=other_vec, index=[\"self_countvec_{}\".format(i) for i in range(0, other_vec.shape[0])])\n",
    "\n",
    "#             sim_metrics.append(self_vec)\n",
    "#             sim_metrics.append(other_vec)\n",
    "\n",
    "            self_vec = self_vec.reshape((1,-1))\n",
    "            other_vec = other_vec.reshape((1,-1))\n",
    "            sim_metrics[\"cosine_sim\"] = cosine_similarity(self_vec, other_vec).flatten()[0]\n",
    "#             sim_metrics[\"linear_sim\"] = linear_kernel(self_vec, other_vec)[0]\n",
    "#             sim_metrics[\"polynomial_sim\"] = polynomial_kernel(self_vec, other_vec)[0]\n",
    "            sim_metrics[\"rbf_sim\"] = rbf_kernel(self_vec, other_vec).flatten()[0]\n",
    "#             sim_metrics[\"chi2_sim\"] = chi2_kernel(self_vec, other_vec)[0]\n",
    "            sim_metrics[\"additive_chi2_sim\"] = additive_chi2_kernel(self_vec, other_vec).flatten()[0]\n",
    "#             sim_metrics[\"manhattan_sim\"] = manhattan_distances(self_vec, other_vec)[0]\n",
    "            return sim_metrics\n",
    "        else:\n",
    "            return pd.Series()\n",
    "\n",
    "    return count_vector_all_replics\n",
    "# count_vector_all_replics(diags[2], \"Alice\")"
   ]
  },
  {
   "cell_type": "code",
   "execution_count": 400,
   "metadata": {
    "collapsed": true
   },
   "outputs": [],
   "source": [
    "def w2vT(diag, user):\n",
    "    self_thread = filter(lambda x: x[\"userId\"] == user, diag[\"thread\"])\n",
    "    other_thread = filter(lambda x: x[\"userId\"] != user, diag[\"thread\"])\n",
    "    \n",
    "    res = pd.Series()\n",
    "    \n",
    "    try:\n",
    "        self_vector = np.mean([\n",
    "                word.vector for word in nlp(unicode(\" \".join([x[\"text\"] for x in self_thread])))\n",
    "            ],axis=0)\n",
    "\n",
    "        other_vector = np.mean([\n",
    "                word.vector for word in nlp(unicode(\" \".join([x[\"text\"] for x in other_thread])))\n",
    "            ],axis=0)\n",
    "        \n",
    "        avg_utterances_vector = np.mean([self_vector, other_vector], axis=0)\n",
    "        \n",
    "        context_vector = np.mean([\n",
    "            word.vector for word in nlp(diag[\"context\"])\n",
    "        ], axis=0)\n",
    "\n",
    "        self_ser = pd.Series(data=self_vector, index=[\"self_w2v_{}\".format(i) for i in range(0, self_vector.shape[0])])\n",
    "        other_ser = pd.Series(data=other_vector, index=[\"other_w2v_{}\".format(i) for i in range(0, other_vector.shape[0])])\n",
    "#         res = self_ser.append(other_ser)\n",
    "        \n",
    "        self_vector = self_vector.reshape((1,-1))\n",
    "        other_vector = other_vector.reshape((1,-1))\n",
    "        avg_utterances_vector = avg_utterances_vector.reshape((1,-1))\n",
    "        context_vector = context_vector.reshape((1,-1))\n",
    "        \n",
    "        res[\"w2v_sim\"] = cosine_similarity(self_vector, other_vector).flatten()[0]\n",
    "        w2v_sim_ctx_self = cosine_similarity(self_vector, context_vector).flatten()[0]\n",
    "        w2v_sim_ctx_other = cosine_similarity(other_vector, context_vector).flatten()[0]\n",
    "        res[\"w2v_other_better_ctx\"] = w2v_sim_ctx_other / w2v_sim_ctx_self if w2v_sim_ctx_self else 1\n",
    "#         res[\"w2v_sim_ctx_utterances\"] = cosine_similarity(avg_utterances_vector, context_vector)[0]\n",
    "        return res\n",
    "    except:\n",
    "        return pd.Series()"
   ]
  },
  {
   "cell_type": "code",
   "execution_count": 384,
   "metadata": {
    "collapsed": true
   },
   "outputs": [],
   "source": [
    "def token_info_gain(diag, user):\n",
    "    \"\"\" Computes information gain metrics \"\"\"\n",
    "    self, other = _get_threads(diag, user)\n",
    "    \n",
    "    self_tokens = set()\n",
    "    for u in self:\n",
    "        self_tokens.update(u.split(\" \"))\n",
    "    \n",
    "    other_tokens = set()\n",
    "    for u in other:\n",
    "        other_tokens.update(u.split(\" \"))\n",
    "        \n",
    "    total = len(self_tokens) + len(other_tokens)\n",
    "    res = pd.Series()\n",
    "    res[\"extra_tokens_self\"] = (float(len(self_tokens ^ other_tokens)) / total) if total else 0\n",
    "    res[\"extra_tokens_other\"] = (float(len(other_tokens ^ self_tokens)) / total) if total else 0\n",
    "    return res\n",
    "    "
   ]
  },
  {
   "cell_type": "code",
   "execution_count": 385,
   "metadata": {
    "collapsed": true
   },
   "outputs": [],
   "source": [
    "def dialog_flow_metrics(diag, user):\n",
    "    \"\"\" Computes dialog flow metrics \"\"\"\n",
    "    self, other = _get_threads(diag, user)\n",
    "    ctx = diag[\"context\"]\n",
    "    \n",
    "    res = pd.Series()\n",
    "    \n",
    "    avg_ctx = np.mean([\n",
    "        word.vector for word in nlp(ctx)\n",
    "    ], axis=0).reshape((1,-1))\n",
    "    \n",
    "    self_flow = []\n",
    "    other_flow = []\n",
    "    for s, o in itertools.izip_longest(self, other):\n",
    "        if s:\n",
    "            vector = np.mean([word.vector for word in nlp(s)], axis=0).reshape((1,-1))\n",
    "            sim = cosine_similarity(avg_ctx, vector).flatten()[0]\n",
    "            self_flow.append(sim)\n",
    "        else:\n",
    "            self_flow.append(0)\n",
    "        \n",
    "        if o:\n",
    "            vector = np.mean([word.vector for word in nlp(o)], axis=0).reshape((1,-1))\n",
    "            sim = cosine_similarity(avg_ctx, vector).flatten()[0]\n",
    "            other_flow.append(sim)\n",
    "        else:\n",
    "            other_flow.append(0)\n",
    "    \n",
    "    if self_flow and other_flow:\n",
    "        corr = spearmanr(self_flow, other_flow).correlation\n",
    "        res[\"dialog_flow_ctx_corr\"] = corr\n",
    "    return res"
   ]
  },
  {
   "cell_type": "code",
   "execution_count": 390,
   "metadata": {
    "collapsed": true
   },
   "outputs": [],
   "source": [
    "def _get_threads(diag, user):\n",
    "    \"\"\" Return threads of self and other, relative to given user \"\"\"\n",
    "    self_thread = [u[\"text\"] for u in filter(lambda x: x[\"userId\"] == user, diag[\"thread\"])]\n",
    "    other_thread = [u[\"text\"] for u in filter(lambda x: x[\"userId\"] != user, diag[\"thread\"])]\n",
    "    return self_thread, other_thread"
   ]
  },
  {
   "cell_type": "markdown",
   "metadata": {},
   "source": [
    "# Features"
   ]
  },
  {
   "cell_type": "code",
   "execution_count": 18,
   "metadata": {
    "collapsed": true
   },
   "outputs": [],
   "source": [
    "DEPS_OPTIONS = json.load(open(\"data/deps_list.json\", \"r\"))\n",
    "\n",
    "def _find_root(sentence):\n",
    "    for token in sentence:\n",
    "        if token.dep_ == \"ROOT\":\n",
    "            return token\n",
    "\n",
    "    raise ValueError()\n",
    "\n",
    "\n",
    "def _depth(node):\n",
    "    return 1 + np.max([_depth(child) for child in node.children])\n",
    "\n",
    "\n",
    "def _depth_up(node):\n",
    "    if node.dep_ == \"ROOT\":\n",
    "        return 0\n",
    "\n",
    "    return 1 + _depth_up(node.head)\n",
    "\n",
    "def syntax_stats(diag, user):\n",
    "    def depth_stats(nlp_sentence, prefix):\n",
    "        stats = desctiptive_stats([_depth_up(x) for x in nlp_sentence])\n",
    "        stats.index = map(lambda x: \"{}_syntax_depth_{}\".format(prefix, x), stats.index)\n",
    "        return stats\n",
    "\n",
    "    def child_stats(nlp_sentence, prefix):\n",
    "        stats = desctiptive_stats([len(list(x.children)) for x in nlp_sentence])\n",
    "        stats.index = map(lambda x: \"{}_syntax_children_{}\".format(prefix, x), stats.index)\n",
    "        return stats\n",
    "\n",
    "    def dependency_stats(nlp_sentence, prefix):\n",
    "        counter = Counter()\n",
    "        for token in nlp_sentence:\n",
    "            for dep in token.dep_.split(\"||\"):\n",
    "                counter[dep] += 1\n",
    "\n",
    "        abs_counts = pd.Series(data=[counter[pos] for pos in DEPS_OPTIONS],\n",
    "                               index=[\"{}_syntax_{}_abs\".format(prefix, pos) for pos in DEPS_OPTIONS])\n",
    "\n",
    "        relative_counts = pd.Series(data=[float(counter[pos]) / len(nlp_sentence) for pos in DEPS_OPTIONS],\n",
    "                                    index=[\"{}_syntax_{}_rel\".format(prefix,pos) for pos in DEPS_OPTIONS])\n",
    "\n",
    "        return abs_counts.append(relative_counts)\n",
    "\n",
    "    self_thread = \" \".join([x[\"text\"] for x in filter(lambda x: x[\"userId\"] == user, diag[\"thread\"])])\n",
    "    other_thread = \" \".join([x[\"text\"] for x in filter(lambda x: x[\"userId\"] != user, diag[\"thread\"])])\n",
    "    \n",
    "    self_thread = nlp(unicode(self_thread))\n",
    "    other_thread = nlp(unicode(other_thread))\n",
    "    \n",
    "    \n",
    "    try:\n",
    "        res = pd.Series()\n",
    "        res = res.append(depth_stats(self_thread,\"self\"))\n",
    "        res = res.append(depth_stats(other_thread,\"other\"))\n",
    "        res = res.append(child_stats(self_thread,\"self\"))\n",
    "        res = res.append(child_stats(other_thread,\"other\"))\n",
    "        res = res.append(dependency_stats(self_thread,\"self\"))\n",
    "        res = res.append(dependency_stats(other_thread,\"other\"))\n",
    "\n",
    "        return res\n",
    "    except:\n",
    "        return pd.Series()"
   ]
  },
  {
   "cell_type": "code",
   "execution_count": 19,
   "metadata": {},
   "outputs": [],
   "source": [
    "POS_OPTIONS = [\"ADJ\",\"ADP\",\"ADV\",\"AUX\",\"CCONJ\",\"DET\",\"INTJ\",\"NOUN\",\"NUM\",\"PART\",\"PRON\",\"PROPN\",\"PUNCT\",\"SCONJ\",\n",
    "               \"SYM\",\"VERB\",\"X\"]\n",
    "\n",
    "\n",
    "def pos_stats(diag, user):\n",
    "    def tag(parsed, prefix):\n",
    "\n",
    "        if parsed:\n",
    "            counter = Counter()\n",
    "            for token in parsed:\n",
    "                counter[token.pos_] += 1\n",
    "\n",
    "            abs_counts = pd.Series(data=[counter[pos] for pos in POS_OPTIONS],\n",
    "                                   index=[\"{}_pos_{}_abs\".format(prefix, pos) for pos in POS_OPTIONS])\n",
    "\n",
    "            relative_counts = pd.Series(data=[float(counter[pos]) / len(parsed) for pos in POS_OPTIONS],\n",
    "                                        index=[\"{}_pos_{}_rel\".format(prefix, pos) for pos in POS_OPTIONS])\n",
    "\n",
    "            return abs_counts.append(relative_counts)\n",
    "        else:\n",
    "            return pd.Series()\n",
    "    \n",
    "    self_thread = [x[\"text\"] for x in filter(lambda x: x[\"userId\"] == user, diag[\"thread\"])]\n",
    "    other_thread = [x[\"text\"] for x in filter(lambda x: x[\"userId\"] != user, diag[\"thread\"])]\n",
    "    \n",
    "    self_feat = tag(nlp(unicode(\" \".join(self_thread))),\"self\")\n",
    "    other_feat = tag(nlp(unicode(\" \".join(other_thread))),\"other\")\n",
    "\n",
    "    return self_feat.append(other_feat)"
   ]
  },
  {
   "cell_type": "code",
   "execution_count": 20,
   "metadata": {
    "collapsed": true
   },
   "outputs": [],
   "source": [
    "# df = flatten_dialogs(diags)\n",
    "# df.to_csv(\"data/texts\", sep=\"\\t\",encoding=\"utf-8\")\n",
    "# ppl_df = pd.DataFrame.from_csv(\"data/ppl_scores\", index_col=0).reset_index()\n",
    "# ppl_df = pd.concat([df,ppl_df], axis=1)\n",
    "\n",
    "def ngram_ppl(diag, user):\n",
    "    res = pd.Series()\n",
    "    \n",
    "    res[\"self_ngram_logprob2\"] = np.mean(ppl_df_big[ppl_df_big.dialogId == diag[\"dialogId\"]][ppl_df_big.userId == user][\"logprob\"])\n",
    "    res[\"self_ngram_ppl\"] = np.mean(ppl_df_big[ppl_df_big.dialogId == diag[\"dialogId\"]][ppl_df_big.userId == user][\"ppl\"])\n",
    "    res[\"other_ngram_logprob\"] = np.mean(ppl_df_big[ppl_df_big.dialogId == diag[\"dialogId\"]][ppl_df_big.userId != user][\"logprob\"])\n",
    "    res[\"other_ngram_ppl\"] = np.mean(ppl_df_big[ppl_df_big.dialogId == diag[\"dialogId\"]][ppl_df_big.userId != user][\"ppl\"])\n",
    "\n",
    "    \n",
    "    return res"
   ]
  },
  {
   "cell_type": "code",
   "execution_count": 21,
   "metadata": {
    "collapsed": true
   },
   "outputs": [],
   "source": [
    "def lengths(diag, user):\n",
    "    res = pd.Series()\n",
    "    self_thread = filter(lambda x: x[\"userId\"] == user, diag[\"thread\"])\n",
    "    other_thread = filter(lambda x: x[\"userId\"] != user, diag[\"thread\"])\n",
    "    res[\"self_phrases_cnt\"] = len(self_thread)\n",
    "    res[\"other_phrases_cnt\"] = len(other_thread)\n",
    "    \n",
    "    res[\"self_words_cnt\"] = len([w for s in self_thread for w in s])\n",
    "    res[\"other_words_cnt\"] = len([w for s in other_thread for w in s])\n",
    "    \n",
    "    res[\"self_avg_words\"] = 0 if res[\"self_phrases_cnt\"] == 0 else float(res[\"self_words_cnt\"])/res[\"self_phrases_cnt\"] \n",
    "    res[\"other_avg_words\"] = 0 if res[\"other_phrases_cnt\"] == 0 else float(res[\"other_words_cnt\"])/res[\"other_phrases_cnt\"]\n",
    "    \n",
    "    return res"
   ]
  },
  {
   "cell_type": "code",
   "execution_count": 251,
   "metadata": {
    "collapsed": true
   },
   "outputs": [],
   "source": [
    "def context_similarity(diag, user):\n",
    "    context_vector = np.mean([\n",
    "        word.vector for word in nlp(diag[\"context\"])\n",
    "    ], axis=0).reshape((1,-1))\n",
    "    \n",
    "    self_thread = filter(lambda x: x[\"userId\"] == user, diag[\"thread\"])\n",
    "    other_thread = filter(lambda x: x[\"userId\"] != user, diag[\"thread\"])\n",
    "    \n",
    "    try:\n",
    "        self_vector = np.mean([\n",
    "                word.vector for word in nlp(unicode(self_thread[0][\"text\"]))\n",
    "            ],axis=0).reshape((1,-1))\n",
    "\n",
    "        other_vector = np.mean([\n",
    "                word.vector for word in nlp(unicode(other_thread[0][\"text\"]))\n",
    "            ],axis=0).reshape((1,-1))\n",
    "\n",
    "        res = pd.Series()\n",
    "\n",
    "        res[\"self_context_cosine\"] = 0 if not self_thread else cosine_similarity(self_vector, context_vector).flatten()[0]\n",
    "        res[\"other_context_cosine\"] = 0 if not other_thread else cosine_similarity(other_vector, context_vector).flatten()[0]\n",
    "        return res\n",
    "    except:\n",
    "        return pd.Series()"
   ]
  },
  {
   "cell_type": "code",
   "execution_count": 32,
   "metadata": {
    "collapsed": true
   },
   "outputs": [],
   "source": [
    "def w2v(diag, user):\n",
    "    self_thread = filter(lambda x: x[\"userId\"] == user, diag[\"thread\"])\n",
    "    other_thread = filter(lambda x: x[\"userId\"] != user, diag[\"thread\"])\n",
    "    \n",
    "    try:\n",
    "        self_vector = np.mean([\n",
    "                word.vector for word in nlp(unicode(\" \".join([x[\"text\"] for x in self_thread])))\n",
    "            ],axis=0)\n",
    "\n",
    "        other_vector = np.mean([\n",
    "                word.vector for word in nlp(unicode(\" \".join([x[\"text\"] for x in other_thread])))\n",
    "            ],axis=0)\n",
    "        \n",
    "        self_ser = pd.Series(data=self_vector, index=[\"self_w2v_{}\".format(i) for i in range(0, self_vector.shape[0])])\n",
    "        other_ser = pd.Series(data=other_vector, index=[\"other_w2v_{}\".format(i) for i in range(0, other_vector.shape[0])])\n",
    "        return self_ser.append(other_ser)\n",
    "    except:\n",
    "        return pd.Series()"
   ]
  },
  {
   "cell_type": "code",
   "execution_count": 24,
   "metadata": {
    "collapsed": true
   },
   "outputs": [],
   "source": [
    "def freq_stat(diag, user):\n",
    "\n",
    "    def topN_count(parsed_text):\n",
    "        return len(filter(lambda x: x.orth_.lower() in top_words, parsed_text))\n",
    "\n",
    "    def topN_count_lemma(parsed_text):\n",
    "        return len(filter(lambda x: x.lemma_ in top_lemmas, parsed_text))\n",
    "\n",
    "    def no_vocab_tokens(parsed_text):\n",
    "        return len(filter(lambda x: x.lemma_ not in lemma_counts, parsed_text))\n",
    "\n",
    "    def avg_index_lemma(parsed_text):\n",
    "        freqs = [freq_idx_lemmas.get(token.lemma_, None) for token in parsed_text]\n",
    "        logs = [math.log(x) for x in filter(lambda x: x, freqs)]\n",
    "        if logs:\n",
    "            return np.mean(logs)\n",
    "        else:\n",
    "            return None\n",
    "\n",
    "    res = pd.Series()\n",
    "    self_thread = [nlp(unicode(x)) for x in filter(lambda x: x[\"userId\"] == user, diag[\"thread\"])]\n",
    "    other_thread = [nlp(unicode(x)) for x in filter(lambda x: x[\"userId\"] != user, diag[\"thread\"])]\n",
    "    \n",
    "    res[\"self_topN_count\"] = np.mean([\n",
    "        topN_count(x) for x in self_thread\n",
    "    ])\n",
    "    res[\"other_topN_count\"] = np.mean([\n",
    "        topN_count(x) for x in other_thread\n",
    "    ])\n",
    "    \n",
    "    res[\"self_no_vocab_tokens\"] = np.mean([\n",
    "        no_vocab_tokens(x) for x in self_thread\n",
    "    ])\n",
    "    res[\"other_no_vocab_tokens\"] = np.mean([\n",
    "        no_vocab_tokens(x) for x in other_thread\n",
    "    ])\n",
    "    \n",
    "    res[\"self_avg_index_lemma\"] = np.mean([\n",
    "        topN_count(x) for x in self_thread\n",
    "    ])\n",
    "    res[\"other_avg_index_lemma\"] = np.mean([\n",
    "        topN_count(x) for x in other_thread\n",
    "    ])\n",
    "    \n",
    "    return res"
   ]
  },
  {
   "cell_type": "code",
   "execution_count": 403,
   "metadata": {},
   "outputs": [],
   "source": [
    "def make_features(diags,labeled=False):\n",
    "    observations = []\n",
    "    for d in diags:\n",
    "        for name in (\"Bob\",\"Alice\"):\n",
    "            obs = freq_stat(d,name)\\\n",
    "            .append(lengths(d,name))\\\n",
    "            .append(context_similarity(d,name))\\\n",
    "            .append(w2v(d,name))\\\n",
    "            .append(ngram_ppl(d,name))\n",
    "            \n",
    "            obs[\"user\"] = name\n",
    "            obs[\"dialogId\"] = d[\"dialogId\"]\n",
    "            \n",
    "            if labeled:\n",
    "                obs[\"label\"] = get_score(d,name)\n",
    "            \n",
    "            observations.append(obs)\n",
    "    \n",
    "    return pd.DataFrame(observations)"
   ]
  },
  {
   "cell_type": "code",
   "execution_count": 420,
   "metadata": {
    "collapsed": true
   },
   "outputs": [],
   "source": [
    "param = {'eta':0.1, 'max_depth':3, 'min_child_weight':1, 'gamma':0.1,\n",
    "         'silent':0, 'subsample':0.9, 'colsample_bytree': 0.8,  \n",
    "         'objective':'reg:linear'}"
   ]
  },
  {
   "cell_type": "code",
   "execution_count": 419,
   "metadata": {},
   "outputs": [
    {
     "name": "stdout",
     "output_type": "stream",
     "text": [
      "0.681576667581\n",
      "0.69973972292\n",
      "0.704601923003\n",
      "0.711692421891\n",
      "0.716780958874\n",
      "0.696923135876\n",
      "0.675721317748\n",
      "0.708465565616\n",
      "0.705916214474\n",
      "0.717036169829\n",
      "0.711397803026\n",
      "0.680269511829\n",
      "0.655461284998\n",
      "0.688029728311\n",
      "0.659614938146\n",
      "0.666891540168\n",
      "0.64998359193\n",
      "0.662762985761\n",
      "0.642246529723\n",
      "0.650306915431\n"
     ]
    },
    {
     "data": {
      "text/plain": [
       "0.68427094635671115"
      ]
     },
     "execution_count": 419,
     "metadata": {},
     "output_type": "execute_result"
    }
   ],
   "source": [
    "shuffle(diags)\n",
    "cv(diags, folds=20, params=param, rules=True)"
   ]
  },
  {
   "cell_type": "code",
   "execution_count": 258,
   "metadata": {},
   "outputs": [
    {
     "name": "stdout",
     "output_type": "stream",
     "text": [
      "0.733606526175\n",
      "0.727650414431\n",
      "0.690177080335\n",
      "0.680526426707\n",
      "0.696951028986\n",
      "0.678523957793\n",
      "0.708113543803\n",
      "0.728394409003\n",
      "0.689824227423\n",
      "0.661290742352\n",
      "0.667980984215\n",
      "0.682381032084\n",
      "0.701258518923\n",
      "0.730501141466\n",
      "0.712763256767\n",
      "0.69097417567\n",
      "0.692214029374\n",
      "0.680138468018\n",
      "0.700251248919\n",
      "0.700476422775\n"
     ]
    },
    {
     "data": {
      "text/plain": [
       "0.69769988176087883"
      ]
     },
     "execution_count": 258,
     "metadata": {},
     "output_type": "execute_result"
    }
   ],
   "source": [
    "shuffle(diags)\n",
    "cv(diags, folds=20, params=param, rules=True)"
   ]
  },
  {
   "cell_type": "code",
   "execution_count": 133,
   "metadata": {},
   "outputs": [
    {
     "data": {
      "text/plain": [
       "Series([], dtype: float64)"
      ]
     },
     "execution_count": 133,
     "metadata": {},
     "output_type": "execute_result"
    }
   ],
   "source": [
    "syntax_stats(diags[3],\"Bob\")"
   ]
  },
  {
   "cell_type": "code",
   "execution_count": 185,
   "metadata": {},
   "outputs": [
    {
     "data": {
      "text/plain": [
       "True"
      ]
     },
     "execution_count": 185,
     "metadata": {},
     "output_type": "execute_result"
    }
   ],
   "source": [
    "is_bot_pasha(diags[10],\"Alice\")"
   ]
  },
  {
   "cell_type": "code",
   "execution_count": 186,
   "metadata": {},
   "outputs": [
    {
     "data": {
      "text/plain": [
       "2107312123"
      ]
     },
     "execution_count": 186,
     "metadata": {},
     "output_type": "execute_result"
    }
   ],
   "source": [
    "diags[10][\"dialogId\"]"
   ]
  },
  {
   "cell_type": "markdown",
   "metadata": {},
   "source": [
    "## Weighted sum"
   ]
  },
  {
   "cell_type": "code",
   "execution_count": 253,
   "metadata": {},
   "outputs": [],
   "source": [
    "all_features = make_features(diags, True)"
   ]
  },
  {
   "cell_type": "code",
   "execution_count": 410,
   "metadata": {
    "collapsed": true
   },
   "outputs": [],
   "source": [
    "train_dialogs = list(set(all_features[\"dialogId\"]) & set(p_train[\"dialog_id\"]))\n",
    "test_dialogs = list(set(all_features[\"dialogId\"]) & set(p_test[\"dialog_id\"]))"
   ]
  },
  {
   "cell_type": "code",
   "execution_count": 411,
   "metadata": {
    "collapsed": true
   },
   "outputs": [],
   "source": [
    "train_set = pd.merge(all_features[all_features.dialogId.isin(train_dialogs)], p_train, how=\"inner\",  left_on=[\"dialogId\",\"user\",\"label\"], right_on=[\"dialog_id\",\"user\",\"label\"])\n",
    "test_set = pd.merge(all_features[all_features.dialogId.isin(test_dialogs)], p_test, how=\"inner\",  left_on=[\"dialogId\",\"user\",\"label\"], right_on=[\"dialog_id\",\"user\",\"label\"])"
   ]
  },
  {
   "cell_type": "code",
   "execution_count": 414,
   "metadata": {},
   "outputs": [],
   "source": [
    "to_drop = [\"is_bot_other\"]\n",
    "# to_drop = [\"score\",\"is_bot\",\"is_bot_other\",\"score_other\"]\n",
    "\n",
    "label_column = train_set[\"label\"]\n",
    "features = train_set.drop([\"label\", \"dialogId\", \"user\", \"dialog_id\",\"is_bot_real\"] + to_drop , axis=1)\n",
    "\n",
    "dtrain = xgb.DMatrix(features.values, label_column.values, feature_names=features.columns)\n",
    "bstP = xgb.train(param, dtrain, num_boost_round=120)"
   ]
  },
  {
   "cell_type": "code",
   "execution_count": 369,
   "metadata": {},
   "outputs": [],
   "source": [
    "test_dialogs_content = filter(lambda x: x[\"dialogId\"] in test_dialogs, diags)\n",
    "train_dialogs_content = filter(lambda x: x[\"dialogId\"] in train_dialogs, diags)\n",
    "test_set = test_set.drop([\"dialog_id\",\"is_bot_real\"] + to_drop,axis=1)\n",
    "train_set = train_set.drop([\"dialog_id\",\"is_bot_real\"] + to_drop,axis=1)"
   ]
  },
  {
   "cell_type": "code",
   "execution_count": 371,
   "metadata": {},
   "outputs": [
    {
     "data": {
      "text/plain": [
       "SpearmanrResult(correlation=0.69777021319249433, pvalue=2.938695598372428e-105)"
      ]
     },
     "execution_count": 371,
     "metadata": {},
     "output_type": "execute_result"
    }
   ],
   "source": [
    "correlation(test_dialogs_content, test_set, bst, rules=True)"
   ]
  },
  {
   "cell_type": "code",
   "execution_count": 274,
   "metadata": {},
   "outputs": [
    {
     "data": {
      "text/plain": [
       "SpearmanrResult(correlation=0.72582463986932766, pvalue=6.412737632862228e-113)"
      ]
     },
     "execution_count": 274,
     "metadata": {},
     "output_type": "execute_result"
    }
   ],
   "source": [
    "correlation(test_dialogs_content, test_set, bst, rules=False)"
   ]
  },
  {
   "cell_type": "markdown",
   "metadata": {},
   "source": [
    "## Weighted sum"
   ]
  },
  {
   "cell_type": "code",
   "execution_count": 682,
   "metadata": {},
   "outputs": [
    {
     "name": "stdout",
     "output_type": "stream",
     "text": [
      "0 SpearmanrResult(correlation=0.6601754021835986, pvalue=6.360148932045275e-43)\n",
      "0.1 SpearmanrResult(correlation=0.65103355812147701, pvalue=2.0702300792624811e-41)\n",
      "0.3 SpearmanrResult(correlation=0.62875059100712005, pvalue=6.2052056208790026e-38)\n",
      "0.5 SpearmanrResult(correlation=0.59875232324472594, pvalue=1.1213995961561921e-33)\n",
      "0.8 SpearmanrResult(correlation=0.56768666937357892, pvalue=1.0235020159929194e-29)\n",
      "1 SpearmanrResult(correlation=0.54864398151793592, pvalue=1.7288737621821692e-27)\n",
      "2 SpearmanrResult(correlation=0.49271681279629653, pvalue=1.0432057112298769e-21)\n",
      "5 SpearmanrResult(correlation=0.44172143286990401, pvalue=2.7402978604859894e-17)\n",
      "10 SpearmanrResult(correlation=0.42078141663164603, pvalue=1.1179574248581537e-15)\n",
      "100 SpearmanrResult(correlation=0.39886324803684026, pvalue=4.1531643090352476e-14)\n"
     ]
    }
   ],
   "source": [
    "features = test_set.drop([\"label\",\"user\",\"dialogId\",\"mypred\"], axis=1)\n",
    "dtest = xgb.DMatrix(features.values, feature_names=features.columns)\n",
    "\n",
    "my_preds = bst.predict(dtest)\n",
    "test_set[\"mypred\"] = my_preds\n",
    "\n",
    "for coeff in (0, 0.1, 0.3, 0.5, 0.8, 1, 2, 5, 10, 100):\n",
    "    print coeff, spearmanr(test_set[\"label\"], [m+p*coeff for m,p in zip(my_preds,pasha_scores.fillna(0))])"
   ]
  },
  {
   "cell_type": "code",
   "execution_count": 254,
   "metadata": {
    "collapsed": true
   },
   "outputs": [],
   "source": [
    "all_features.to_csv(\"all_features.csv\")"
   ]
  },
  {
   "cell_type": "code",
   "execution_count": 252,
   "metadata": {},
   "outputs": [
    {
     "data": {
      "text/plain": [
       "self_context_cosine     0.912949\n",
       "other_context_cosine    0.244651\n",
       "dtype: float64"
      ]
     },
     "execution_count": 252,
     "metadata": {},
     "output_type": "execute_result"
    }
   ],
   "source": [
    "context_similarity(diags[2],\"Alice\")"
   ]
  },
  {
   "cell_type": "markdown",
   "metadata": {},
   "source": [
    "## Pasha submit"
   ]
  },
  {
   "cell_type": "code",
   "execution_count": 428,
   "metadata": {
    "collapsed": true
   },
   "outputs": [],
   "source": [
    "evalp = pd.DataFrame.from_csv(\"data/p2/eval.csv\")\n",
    "my_features_eval = make_features(tdoc,False)"
   ]
  },
  {
   "cell_type": "code",
   "execution_count": 429,
   "metadata": {},
   "outputs": [],
   "source": [
    "test_set_eval = pd.merge(my_features_eval, evalp, how=\"inner\",  left_on=[\"dialogId\",\"user\"], right_on=[\"dialog_id\",\"user\"])"
   ]
  },
  {
   "cell_type": "code",
   "execution_count": 432,
   "metadata": {},
   "outputs": [],
   "source": [
    "test_set_eval_feats = test_set_eval.drop([\"label\", \"dialogId\", \"user\", \"dialog_id\",\"is_bot_real\"] + to_drop, axis=1)\n",
    "dtest = xgb.DMatrix(test_set_eval_feats.values, feature_names=test_set_eval_feats.columns)\n",
    "preds = bst.predict(dtest)"
   ]
  },
  {
   "cell_type": "code",
   "execution_count": 433,
   "metadata": {},
   "outputs": [
    {
     "data": {
      "text/plain": [
       "930"
      ]
     },
     "execution_count": 433,
     "metadata": {},
     "output_type": "execute_result"
    }
   ],
   "source": [
    "len(preds)"
   ]
  },
  {
   "cell_type": "code",
   "execution_count": 359,
   "metadata": {},
   "outputs": [
    {
     "data": {
      "text/plain": [
       "SpearmanrResult(correlation=0.90274240878359735, pvalue=6.5730908946472349e-203)"
      ]
     },
     "execution_count": 359,
     "metadata": {},
     "output_type": "execute_result"
    }
   ],
   "source": [
    "spearmanr(preds,my_features_eval[\"label\"])"
   ]
  },
  {
   "cell_type": "code",
   "execution_count": 434,
   "metadata": {},
   "outputs": [],
   "source": [
    "test_set_eval[\"prediction\"] = preds\n",
    "\n",
    "\n",
    "scores = defaultdict(dict)\n",
    "for i in range(0,len(test_set_eval)):\n",
    "    row = test_set_eval.iloc[i]\n",
    "    scores[row[\"dialogId\"]][row[\"user\"]] = row[\"prediction\"]\n",
    "\n",
    "records = []\n",
    "for dialog_id in scores:\n",
    "    records.append((dialog_id,scores[dialog_id][\"Alice\"],scores[dialog_id][\"Bob\"]))\n",
    "\n",
    "res = pd.DataFrame.from_records(records, columns=[\"dialogId\",\"Alice\",\"Bob\"])"
   ]
  },
  {
   "cell_type": "code",
   "execution_count": 435,
   "metadata": {},
   "outputs": [],
   "source": [
    "res.to_csv(\"submit27PP.csv\", index=False)"
   ]
  },
  {
   "cell_type": "code",
   "execution_count": 335,
   "metadata": {},
   "outputs": [
    {
     "data": {
      "text/plain": [
       "(1716, 1716, 1716)"
      ]
     },
     "execution_count": 335,
     "metadata": {},
     "output_type": "execute_result"
    }
   ],
   "source": [
    "len(train_set_eval), len(all_features), len(p)"
   ]
  },
  {
   "cell_type": "code",
   "execution_count": 338,
   "metadata": {},
   "outputs": [
    {
     "data": {
      "text/plain": [
       "<matplotlib.axes._subplots.AxesSubplot at 0x1e2886ad0>"
      ]
     },
     "execution_count": 338,
     "metadata": {},
     "output_type": "execute_result"
    },
    {
     "data": {
      "image/png": "[encoded data removed]",
      "text/plain": [
       "<matplotlib.figure.Figure at 0x1cfe17e90>"
      ]
     },
     "metadata": {},
     "output_type": "display_data"
    }
   ],
   "source": [
    "xgb.plot_importance(bst, max_num_features=10)"
   ]
  },
  {
   "cell_type": "code",
   "execution_count": 442,
   "metadata": {
    "collapsed": true
   },
   "outputs": [],
   "source": [
    "good_submit = pd.DataFrame.from_csv(\"submit27rules.csv\")\n",
    "bad_submit = pd.DataFrame.from_csv(\"submit27P.csv\")"
   ]
  },
  {
   "cell_type": "code",
   "execution_count": 443,
   "metadata": {},
   "outputs": [
    {
     "name": "stdout",
     "output_type": "stream",
     "text": [
      "to good SpearmanrResult(correlation=0.75120204037181526, pvalue=1.456533986435211e-85) SpearmanrResult(correlation=0.69738497599953286, pvalue=5.5559833623030811e-69)\n",
      "to bad SpearmanrResult(correlation=0.59609552564356549, pvalue=4.5036265845058551e-46) SpearmanrResult(correlation=0.58935831072688438, pvalue=7.8766575853833381e-45)\n"
     ]
    }
   ],
   "source": [
    "print \"to good\", spearmanr(res[\"Alice\"],good_submit[\"Alice\"]), spearmanr(res[\"Bob\"],good_submit[\"Bob\"])\n",
    "print \"to bad\", spearmanr(res[\"Alice\"],bad_submit[\"Alice\"]), spearmanr(res[\"Bob\"],bad_submit[\"Bob\"])"
   ]
  },
  {
   "cell_type": "code",
   "execution_count": null,
   "metadata": {
    "collapsed": true
   },
   "outputs": [],
   "source": []
  }
 ],
 "metadata": {
  "kernelspec": {
   "display_name": "Python 2",
   "language": "python",
   "name": "python2"
  },
  "language_info": {
   "codemirror_mode": {
    "name": "ipython",
    "version": 2
   },
   "file_extension": ".py",
   "mimetype": "text/x-python",
   "name": "python",
   "nbconvert_exporter": "python",
   "pygments_lexer": "ipython2",
   "version": "2.7.10"
  }
 },
 "nbformat": 4,
 "nbformat_minor": 2
}
