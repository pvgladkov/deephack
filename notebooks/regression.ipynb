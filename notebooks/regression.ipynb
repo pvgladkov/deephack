{
 "cells": [
  {
   "cell_type": "code",
   "execution_count": 129,
   "metadata": {},
   "outputs": [],
   "source": [
    "import os\n",
    "import json\n",
    "import pandas as pd\n",
    "import numpy as np\n",
    "from turing.features import nlp\n",
    "from turing.features.freq import top_words, top_lemmas, word_counts, lemma_counts\n",
    "import xgboost as xgb\n",
    "from scipy.stats import spearmanr\n",
    "from random import shuffle, randint\n",
    "import matplotlib.pyplot as plt\n",
    "%matplotlib inline\n",
    "import matplotlib.pyplot as plt\n",
    "from sklearn.metrics.pairwise import cosine_similarity\n",
    "plt.rcParams[\"figure.figsize\"] = (30,15)"
   ]
  },
  {
   "cell_type": "code",
   "execution_count": 2,
   "metadata": {
    "collapsed": true
   },
   "outputs": [],
   "source": [
    "doc = json.load(open(\"../../turing-data/train_20170724.json\"))\n",
    "doc2 = json.load(open(\"../../turing-data/train_20170725.json\"))\n",
    "\n",
    "diags = doc + doc2"
   ]
  },
  {
   "cell_type": "code",
   "execution_count": 3,
   "metadata": {},
   "outputs": [
    {
     "data": {
      "text/plain": [
       "{u'context': u'Though much of Enlightenment political thought was dominated by social contract theorists, both David Hume and Adam Ferguson criticized this camp. Hume\\'s essay Of the Original Contract argues that governments derived from consent are rarely seen, and civil government is grounded in a ruler\\'s habitual authority and force. It is precisely because of the ruler\\'s authority over-and-against the subject, that the subject tacitly consents; Hume says that the subjects would \"never imagine that their consent made him sovereign\", rather the authority did so. Similarly, Ferguson did not believe citizens built the state, rather polities grew out of social development. In his 1767 An Essay on the History of Civil Society, Ferguson uses the four stages of progress, a theory that was very popular in Scotland at the time, to explain how humans advance from a hunting and gathering society to a commercial and civil society without \"signing\" a social contract.',\n",
       " u'dialogId': -155769874,\n",
       " u'evaluation': [{u'quality': 0, u'userId': u'Bob'},\n",
       "  {u'quality': 1, u'userId': u'Alice'}],\n",
       " u'thread': [{u'text': u'Hi', u'userId': u'Alice'},\n",
       "  {u'text': u'Who uses the four stages of civil society ?', u'userId': u'Bob'},\n",
       "  {u'text': u'Ehh its incorrect. Hint: first 3 answer letters is \"fer\" ',\n",
       "   u'userId': u'Bob'},\n",
       "  {u'text': u'What is your name?', u'userId': u'Alice'},\n",
       "  {u'text': u'What', u'userId': u'Bob'},\n",
       "  {u'text': u'Please, speak with me.', u'userId': u'Bob'},\n",
       "  {u'text': u'Please, speak with me. It gives me energy to live',\n",
       "   u'userId': u'Bob'}],\n",
       " u'users': [{u'id': u'Alice', u'userType': u'Human'},\n",
       "  {u'id': u'Bob', u'userType': u'Bot'}]}"
      ]
     },
     "execution_count": 3,
     "metadata": {},
     "output_type": "execute_result"
    }
   ],
   "source": [
    "diags[2]"
   ]
  },
  {
   "cell_type": "code",
   "execution_count": 4,
   "metadata": {},
   "outputs": [],
   "source": [
    "def is_bot(diag, user):\n",
    "    text = \" \".join([x[\"text\"] for x in diag[\"thread\"] if x[\"userId\"] == user])\n",
    "    \n",
    "    if len(text) == 0:\n",
    "        return False\n",
    "    \n",
    "    if \"avilable\" in text:\n",
    "        return True\n",
    "    \n",
    "    if \"Hint: first\" in text:\n",
    "        return True\n",
    "    \n",
    "    if \" .\" in text or \" ,\" in text or \" '\" in text:\n",
    "        return True\n",
    "    \n",
    "    if \"\\n\" in text:\n",
    "        return True\n",
    "    \n",
    "    return False"
   ]
  },
  {
   "cell_type": "code",
   "execution_count": 5,
   "metadata": {
    "collapsed": true
   },
   "outputs": [],
   "source": [
    "def get_score(diag, user):\n",
    "    return filter(lambda x: x[\"userId\"] != user, diag[\"evaluation\"])[0][\"quality\"]"
   ]
  },
  {
   "cell_type": "code",
   "execution_count": 52,
   "metadata": {},
   "outputs": [],
   "source": [
    "def correlation(diags, bst):\n",
    "    df = make_features(diags, True)\n",
    "    \n",
    "    label_column = df[\"label\"]\n",
    "    features = df.drop([\"label\", \"dialogId\", \"user\"], axis=1)\n",
    "    dtest = xgb.DMatrix(features.values, feature_names=features.columns)\n",
    "    \n",
    "    preds = bst.predict(dtest)\n",
    "    \n",
    "    for i, diag in enumerate(diags):\n",
    "        for j, name in enumerate([\"Bob\",\"Alice\"]):\n",
    "            if is_bot(diag, name):\n",
    "                preds[2*i+j] = 0\n",
    "\n",
    "    df[\"prediction\"] = preds\n",
    "    \n",
    "#     print df[[\"label\",\"prediction\"]]\n",
    "    \n",
    "    return spearmanr(df[\"label\"].values, df[\"prediction\"].values)"
   ]
  },
  {
   "cell_type": "code",
   "execution_count": 212,
   "metadata": {
    "collapsed": true
   },
   "outputs": [],
   "source": [
    "def correlation2(test_diags, test_set, bst):\n",
    "    label_column = test_set[\"label\"]\n",
    "    features = test_set.drop([\"label\", \"dialogId\", \"user\"], axis=1)\n",
    "    dtest = xgb.DMatrix(features.values, feature_names=features.columns)\n",
    "    \n",
    "    preds = bst.predict(dtest)\n",
    "\n",
    "    for i, diag in enumerate(test_diags):\n",
    "        for j, name in enumerate([\"Bob\",\"Alice\"]):\n",
    "            if is_bot(diag, name):\n",
    "                preds[2*i+j] = 0\n",
    "\n",
    "    test_set[\"prediction\"] = preds\n",
    "    \n",
    "    return spearmanr(test_set[\"label\"].values, test_set[\"prediction\"].values)"
   ]
  },
  {
   "cell_type": "code",
   "execution_count": 210,
   "metadata": {
    "collapsed": true
   },
   "outputs": [],
   "source": [
    "def cv(diags, test_ratio=0.2, folds=5, params=None):\n",
    "    scores = []\n",
    "    df_feats = make_features(diags, True)\n",
    "    \n",
    "    for i in range(0,len(diags),len(diags)/folds)[:-1]:\n",
    "        test_set = df_feats[2*i:2*i+2*int(test_ratio*len(diags))]\n",
    "        test_diags = diags[i:i+int(test_ratio*len(diags))]\n",
    "        train_set = pd.concat([df_feats[0:2*i],df_feats[2*i+2*int(test_ratio*len(diags)):]])\n",
    "\n",
    "        label_column = train_set[\"label\"]\n",
    "        features = train_set.drop([\"label\", \"dialogId\", \"user\"], axis=1)\n",
    "\n",
    "        dtrain = xgb.DMatrix(features.values, label_column.values, feature_names=features.columns)\n",
    "        bst = xgb.train(param, dtrain, num_boost_round=30)\n",
    "        \n",
    "        \n",
    "        scores.append(correlation2(test_diags, test_set, bst).correlation)\n",
    "        print scores[-1]\n",
    "        \n",
    "    return np.mean(scores)"
   ]
  },
  {
   "cell_type": "code",
   "execution_count": 112,
   "metadata": {},
   "outputs": [],
   "source": [
    "def flatten_dialogs(diags):\n",
    "    res = []\n",
    "    for d in diags:\n",
    "        for t in d[\"thread\"]:\n",
    "            if len(t[\"text\"].strip(\" *\")) > 10 and \"\\n\" not in t[\"text\"]:\n",
    "                res.append((d[\"dialogId\"],t[\"userId\"],t[\"text\"].encode(\"utf-8\")))\n",
    "    \n",
    "    return pd.DataFrame.from_records(res, columns=[\"dialogId\",\"userId\",\"text\"])"
   ]
  },
  {
   "cell_type": "markdown",
   "metadata": {},
   "source": [
    "# Features"
   ]
  },
  {
   "cell_type": "code",
   "execution_count": 62,
   "metadata": {},
   "outputs": [],
   "source": [
    "df = flatten_dialogs(diags)\n",
    "df.to_csv(\"data/texts\", sep=\"\\t\",encoding=\"utf-8\")\n",
    "ppl_df = pd.DataFrame.from_csv(\"data/ppl_scores\", index_col=0).reset_index()\n",
    "ppl_df = pd.concat([df,ppl_df], axis=1)"
   ]
  },
  {
   "cell_type": "code",
   "execution_count": 101,
   "metadata": {
    "collapsed": true
   },
   "outputs": [],
   "source": [
    "def ngram_ppl(diag, user):\n",
    "    res = pd.Series()\n",
    "    \n",
    "    res[\"self_ngram_logprob\"] = np.mean(ppl_df[ppl_df.dialogId == diag[\"dialogId\"]][ppl_df.userId == user][\"logprob\"])\n",
    "    res[\"self_ngram_ppl\"] = np.mean(ppl_df[ppl_df.dialogId == diag[\"dialogId\"]][ppl_df.userId == user][\"ppl\"])\n",
    "    res[\"other_ngram_logprob\"] = np.mean(ppl_df[ppl_df.dialogId == diag[\"dialogId\"]][ppl_df.userId != user][\"logprob\"])\n",
    "    res[\"other_ngram_ppl\"] = np.mean(ppl_df[ppl_df.dialogId == diag[\"dialogId\"]][ppl_df.userId != user][\"ppl\"])\n",
    "    \n",
    "    return res"
   ]
  },
  {
   "cell_type": "code",
   "execution_count": 7,
   "metadata": {
    "collapsed": true
   },
   "outputs": [],
   "source": [
    "def lengths(diag, user):\n",
    "    res = pd.Series()\n",
    "    self_thread = filter(lambda x: x[\"userId\"] == user, diag[\"thread\"])\n",
    "    other_thread = filter(lambda x: x[\"userId\"] != user, diag[\"thread\"])\n",
    "    res[\"self_phrases_cnt\"] = len(self_thread)\n",
    "    res[\"other_phrases_cnt\"] = len(other_thread)\n",
    "    \n",
    "    res[\"self_words_cnt\"] = len([w for s in self_thread for w in s])\n",
    "    res[\"other_words_cnt\"] = len([w for s in other_thread for w in s])\n",
    "    \n",
    "    res[\"self_avg_words\"] = 0 if res[\"self_phrases_cnt\"] == 0 else float(res[\"self_words_cnt\"])/res[\"self_phrases_cnt\"] \n",
    "    res[\"other_avg_words\"] = 0 if res[\"other_phrases_cnt\"] == 0 else float(res[\"other_words_cnt\"])/res[\"other_phrases_cnt\"]\n",
    "    \n",
    "    return res"
   ]
  },
  {
   "cell_type": "code",
   "execution_count": 161,
   "metadata": {},
   "outputs": [],
   "source": [
    "def context_similarity(diag, user):\n",
    "    context_vector = np.mean([\n",
    "        word.vector for word in nlp(diag[\"context\"])\n",
    "    ], axis=0).reshape((1,-1))\n",
    "    \n",
    "    self_thread = filter(lambda x: x[\"userId\"] == user, diag[\"thread\"])\n",
    "    other_thread = filter(lambda x: x[\"userId\"] != user, diag[\"thread\"])\n",
    "    \n",
    "    if self_thread and other_thread:\n",
    "        self_vector = np.mean([\n",
    "                word.vector for word in nlp(unicode(self_thread[0][\"text\"]))\n",
    "            ],axis=0).reshape((1,-1))\n",
    "\n",
    "        other_vector = np.mean([\n",
    "                word.vector for word in nlp(unicode(other_thread[0][\"text\"]))\n",
    "            ],axis=0).reshape((1,-1))\n",
    "\n",
    "        res = pd.Series()\n",
    "\n",
    "        res[\"self_context_cosine\"] = 0 if not self_thread else cosine_similarity(self_vector, context_vector)\n",
    "        res[\"other_context_cosine\"] = 0 if not other_thread else cosine_similarity(other_vector, context_vector)\n",
    "        return res\n",
    "    else:\n",
    "        return pd.Series()"
   ]
  },
  {
   "cell_type": "code",
   "execution_count": 214,
   "metadata": {
    "collapsed": true
   },
   "outputs": [],
   "source": [
    "def w2v(diag, user):\n",
    "    self_thread = filter(lambda x: x[\"userId\"] == user, diag[\"thread\"])\n",
    "    other_thread = filter(lambda x: x[\"userId\"] != user, diag[\"thread\"])\n",
    "    \n",
    "    if self_thread and other_thread:\n",
    "        self_vector = np.mean([\n",
    "                word.vector for word in nlp(unicode(\" \".join([x[\"text\"] for x in self_thread])))\n",
    "            ],axis=0)\n",
    "\n",
    "        other_vector = np.mean([\n",
    "                word.vector for word in nlp(unicode(\" \".join([x[\"text\"] for x in other_thread])))\n",
    "            ],axis=0)\n",
    "        \n",
    "        context_vector = np.mean([\n",
    "            word.vector for word in nlp(diag[\"context\"])\n",
    "        ], axis=0)\n",
    "\n",
    "        self_ser = pd.Series(data=self_vector, index=[\"self_w2v_{}\".format(i) for i in range(0, self_vector.shape[0])])\n",
    "        other_ser = pd.Series(data=other_vector, index=[\"other_w2v_{}\".format(i) for i in range(0, other_vector.shape[0])])\n",
    "        return self_ser.append(other_ser)\n",
    "    else:\n",
    "        return pd.Series()"
   ]
  },
  {
   "cell_type": "code",
   "execution_count": 8,
   "metadata": {
    "collapsed": true
   },
   "outputs": [],
   "source": [
    "def freq_stat(diag, user):\n",
    "\n",
    "    def topN_count(parsed_text):\n",
    "        return len(filter(lambda x: x.orth_.lower() in top_words, parsed_text))\n",
    "\n",
    "    def topN_count_lemma(parsed_text):\n",
    "        return len(filter(lambda x: x.lemma_ in top_lemmas, parsed_text))\n",
    "\n",
    "    def no_vocab_tokens(parsed_text):\n",
    "        return len(filter(lambda x: x.lemma_ not in lemma_counts, parsed_text))\n",
    "\n",
    "    def avg_index_lemma(parsed_text):\n",
    "        freqs = [freq_idx_lemmas.get(token.lemma_, None) for token in parsed_text]\n",
    "        logs = [math.log(x) for x in filter(lambda x: x, freqs)]\n",
    "        if logs:\n",
    "            return np.mean(logs)\n",
    "        else:\n",
    "            return None\n",
    "\n",
    "    res = pd.Series()\n",
    "    self_thread = filter(lambda x: x[\"userId\"] == user, diag[\"thread\"])\n",
    "    other_thread = filter(lambda x: x[\"userId\"] != user, diag[\"thread\"])\n",
    "    \n",
    "    res[\"self_topN_count\"] = np.mean([\n",
    "        topN_count(nlp(unicode(x))) for x in self_thread\n",
    "    ])\n",
    "    res[\"other_topN_count\"] = np.mean([\n",
    "        topN_count(nlp(unicode(x))) for x in other_thread\n",
    "    ])\n",
    "    \n",
    "    res[\"self_no_vocab_tokens\"] = np.mean([\n",
    "        no_vocab_tokens(nlp(unicode(x))) for x in self_thread\n",
    "    ])\n",
    "    res[\"other_no_vocab_tokens\"] = np.mean([\n",
    "        no_vocab_tokens(nlp(unicode(x))) for x in other_thread\n",
    "    ])\n",
    "    \n",
    "    res[\"self_avg_index_lemma\"] = np.mean([\n",
    "        topN_count(nlp(unicode(x))) for x in self_thread\n",
    "    ])\n",
    "    res[\"other_avg_index_lemma\"] = np.mean([\n",
    "        topN_count(nlp(unicode(x))) for x in other_thread\n",
    "    ])\n",
    "    \n",
    "    return res"
   ]
  },
  {
   "cell_type": "code",
   "execution_count": 174,
   "metadata": {},
   "outputs": [],
   "source": [
    "def make_features(diags,labeled=False):\n",
    "    observations = []\n",
    "    for d in diags:\n",
    "        for name in (\"Alice\",\"Bob\"):\n",
    "            obs = freq_stat(d,name)\\\n",
    "            .append(lengths(d,name))\\\n",
    "            .append(ngram_ppl(d,name))\\\n",
    "            .append(context_similarity(d,name))\\\n",
    "            .append(w2v(d,name))\n",
    "            \n",
    "            obs[\"user\"] = name\n",
    "            obs[\"dialogId\"] = d[\"dialogId\"]\n",
    "            \n",
    "            if labeled:\n",
    "                obs[\"label\"] = get_score(d,name)\n",
    "            \n",
    "            observations.append(obs)\n",
    "    \n",
    "    return pd.DataFrame(observations)"
   ]
  },
  {
   "cell_type": "code",
   "execution_count": 146,
   "metadata": {
    "collapsed": true
   },
   "outputs": [],
   "source": [
    "param = {'eta':0.1, 'max_depth':3, 'min_child_weight':1, 'gamma':0.1,\n",
    "         'silent':0, 'subsample':0.8, 'colsample_bytree': 0.8,  \n",
    "         'objective':'reg:linear', 'eval_metric':'rmse'}"
   ]
  },
  {
   "cell_type": "code",
   "execution_count": 215,
   "metadata": {},
   "outputs": [
    {
     "name": "stderr",
     "output_type": "stream",
     "text": [
      "/Users/ffuuugor/IdeaProjects/deephack/.venv/lib/python2.7/site-packages/ipykernel_launcher.py:4: UserWarning: Boolean Series key will be reindexed to match DataFrame index.\n",
      "  after removing the cwd from sys.path.\n",
      "/Users/ffuuugor/IdeaProjects/deephack/.venv/lib/python2.7/site-packages/ipykernel_launcher.py:5: UserWarning: Boolean Series key will be reindexed to match DataFrame index.\n",
      "  \"\"\"\n",
      "/Users/ffuuugor/IdeaProjects/deephack/.venv/lib/python2.7/site-packages/ipykernel_launcher.py:6: UserWarning: Boolean Series key will be reindexed to match DataFrame index.\n",
      "  \n",
      "/Users/ffuuugor/IdeaProjects/deephack/.venv/lib/python2.7/site-packages/ipykernel_launcher.py:7: UserWarning: Boolean Series key will be reindexed to match DataFrame index.\n",
      "  import sys\n",
      "/Users/ffuuugor/IdeaProjects/deephack/.venv/lib/python2.7/site-packages/ipykernel_launcher.py:13: SettingWithCopyWarning: \n",
      "A value is trying to be set on a copy of a slice from a DataFrame.\n",
      "Try using .loc[row_indexer,col_indexer] = value instead\n",
      "\n",
      "See the caveats in the documentation: http://pandas.pydata.org/pandas-docs/stable/indexing.html#indexing-view-versus-copy\n",
      "  del sys.path[0]\n"
     ]
    },
    {
     "name": "stdout",
     "output_type": "stream",
     "text": [
      "0.674480759818\n",
      "0.727287984159\n",
      "0.711365050089\n",
      "0.716084322192\n",
      "0.736449876131\n",
      "0.688406255062\n",
      "0.665303592635\n",
      "0.691496486581\n",
      "0.719814835325\n",
      "0.718144848455\n"
     ]
    },
    {
     "data": {
      "text/plain": [
       "0.70488340104471636"
      ]
     },
     "execution_count": 215,
     "metadata": {},
     "output_type": "execute_result"
    }
   ],
   "source": [
    "#+context_similarity\n",
    "cv(diags,folds=10,params=param)"
   ]
  },
  {
   "cell_type": "code",
   "execution_count": 175,
   "metadata": {},
   "outputs": [
    {
     "name": "stderr",
     "output_type": "stream",
     "text": [
      "/Users/ffuuugor/IdeaProjects/deephack/.venv/lib/python2.7/site-packages/ipykernel_launcher.py:4: UserWarning: Boolean Series key will be reindexed to match DataFrame index.\n",
      "  after removing the cwd from sys.path.\n",
      "/Users/ffuuugor/IdeaProjects/deephack/.venv/lib/python2.7/site-packages/ipykernel_launcher.py:5: UserWarning: Boolean Series key will be reindexed to match DataFrame index.\n",
      "  \"\"\"\n",
      "/Users/ffuuugor/IdeaProjects/deephack/.venv/lib/python2.7/site-packages/ipykernel_launcher.py:6: UserWarning: Boolean Series key will be reindexed to match DataFrame index.\n",
      "  \n",
      "/Users/ffuuugor/IdeaProjects/deephack/.venv/lib/python2.7/site-packages/ipykernel_launcher.py:7: UserWarning: Boolean Series key will be reindexed to match DataFrame index.\n",
      "  import sys\n"
     ]
    },
    {
     "name": "stdout",
     "output_type": "stream",
     "text": [
      "0.674480759818\n",
      "0.727287984159\n",
      "0.711365050089\n",
      "0.716084322192\n",
      "0.736449876131\n",
      "0.688406255062\n",
      "0.665303592635\n",
      "0.691496486581\n",
      "0.719814835325\n",
      "0.718144848455\n",
      "0.730267799491\n"
     ]
    },
    {
     "data": {
      "text/plain": [
       "0.70719107363069889"
      ]
     },
     "execution_count": 175,
     "metadata": {},
     "output_type": "execute_result"
    }
   ],
   "source": [
    "cv(diags,folds=10,params=param)"
   ]
  },
  {
   "cell_type": "code",
   "execution_count": 213,
   "metadata": {},
   "outputs": [
    {
     "name": "stderr",
     "output_type": "stream",
     "text": [
      "/Users/ffuuugor/IdeaProjects/deephack/.venv/lib/python2.7/site-packages/ipykernel_launcher.py:4: UserWarning: Boolean Series key will be reindexed to match DataFrame index.\n",
      "  after removing the cwd from sys.path.\n",
      "/Users/ffuuugor/IdeaProjects/deephack/.venv/lib/python2.7/site-packages/ipykernel_launcher.py:5: UserWarning: Boolean Series key will be reindexed to match DataFrame index.\n",
      "  \"\"\"\n",
      "/Users/ffuuugor/IdeaProjects/deephack/.venv/lib/python2.7/site-packages/ipykernel_launcher.py:6: UserWarning: Boolean Series key will be reindexed to match DataFrame index.\n",
      "  \n",
      "/Users/ffuuugor/IdeaProjects/deephack/.venv/lib/python2.7/site-packages/ipykernel_launcher.py:7: UserWarning: Boolean Series key will be reindexed to match DataFrame index.\n",
      "  import sys\n",
      "/Users/ffuuugor/IdeaProjects/deephack/.venv/lib/python2.7/site-packages/ipykernel_launcher.py:13: SettingWithCopyWarning: \n",
      "A value is trying to be set on a copy of a slice from a DataFrame.\n",
      "Try using .loc[row_indexer,col_indexer] = value instead\n",
      "\n",
      "See the caveats in the documentation: http://pandas.pydata.org/pandas-docs/stable/indexing.html#indexing-view-versus-copy\n",
      "  del sys.path[0]\n"
     ]
    },
    {
     "name": "stdout",
     "output_type": "stream",
     "text": [
      "0.671341318063\n",
      "0.716341404884\n",
      "0.718474613098\n",
      "0.691076095935\n",
      "0.74375222679\n",
      "0.673787903602\n",
      "0.666707137732\n",
      "0.689726211683\n",
      "0.709204525515\n",
      "0.700727290407\n"
     ]
    },
    {
     "data": {
      "text/plain": [
       "0.69811387277101589"
      ]
     },
     "execution_count": 213,
     "metadata": {},
     "output_type": "execute_result"
    }
   ],
   "source": [
    "cv(diags,folds=10,params=param)"
   ]
  },
  {
   "cell_type": "code",
   "execution_count": null,
   "metadata": {
    "collapsed": true
   },
   "outputs": [],
   "source": []
  }
 ],
 "metadata": {
  "kernelspec": {
   "display_name": "Python 2",
   "language": "python",
   "name": "python2"
  },
  "language_info": {
   "codemirror_mode": {
    "name": "ipython",
    "version": 2
   },
   "file_extension": ".py",
   "mimetype": "text/x-python",
   "name": "python",
   "nbconvert_exporter": "python",
   "pygments_lexer": "ipython2",
   "version": "2.7.10"
  }
 },
 "nbformat": 4,
 "nbformat_minor": 2
}
