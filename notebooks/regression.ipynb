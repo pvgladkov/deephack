{
 "cells": [
  {
   "cell_type": "code",
   "execution_count": 348,
   "metadata": {},
   "outputs": [],
   "source": [
    "import os\n",
    "import json\n",
    "import pandas as pd\n",
    "import numpy as np\n",
    "from turing.features import nlp\n",
    "from turing.features.freq import top_words, top_lemmas, word_counts, lemma_counts\n",
    "import xgboost as xgb\n",
    "from scipy.stats import spearmanr\n",
    "from random import shuffle, randint\n",
    "import matplotlib.pyplot as plt\n",
    "%matplotlib inline\n",
    "import matplotlib.pyplot as plt\n",
    "plt.rcParams[\"figure.figsize\"] = (30,15)"
   ]
  },
  {
   "cell_type": "code",
   "execution_count": 30,
   "metadata": {
    "collapsed": true
   },
   "outputs": [],
   "source": [
    "doc = json.load(open(\"../../turing-data/train_20170724.json\"))\n",
    "doc2 = json.load(open(\"../../turing-data/train_20170725.json\"))\n",
    "\n",
    "diags = doc + doc2"
   ]
  },
  {
   "cell_type": "code",
   "execution_count": 39,
   "metadata": {},
   "outputs": [
    {
     "data": {
      "text/plain": [
       "{u'context': u'Though much of Enlightenment political thought was dominated by social contract theorists, both David Hume and Adam Ferguson criticized this camp. Hume\\'s essay Of the Original Contract argues that governments derived from consent are rarely seen, and civil government is grounded in a ruler\\'s habitual authority and force. It is precisely because of the ruler\\'s authority over-and-against the subject, that the subject tacitly consents; Hume says that the subjects would \"never imagine that their consent made him sovereign\", rather the authority did so. Similarly, Ferguson did not believe citizens built the state, rather polities grew out of social development. In his 1767 An Essay on the History of Civil Society, Ferguson uses the four stages of progress, a theory that was very popular in Scotland at the time, to explain how humans advance from a hunting and gathering society to a commercial and civil society without \"signing\" a social contract.',\n",
       " u'dialogId': -155769874,\n",
       " u'evaluation': [{u'quality': 0, u'userId': u'Bob'},\n",
       "  {u'quality': 1, u'userId': u'Alice'}],\n",
       " u'thread': [{u'text': u'Hi', u'userId': u'Alice'},\n",
       "  {u'text': u'Who uses the four stages of civil society ?', u'userId': u'Bob'},\n",
       "  {u'text': u'Ehh its incorrect. Hint: first 3 answer letters is \"fer\" ',\n",
       "   u'userId': u'Bob'},\n",
       "  {u'text': u'What is your name?', u'userId': u'Alice'},\n",
       "  {u'text': u'What', u'userId': u'Bob'},\n",
       "  {u'text': u'Please, speak with me.', u'userId': u'Bob'},\n",
       "  {u'text': u'Please, speak with me. It gives me energy to live',\n",
       "   u'userId': u'Bob'}],\n",
       " u'users': [{u'id': u'Alice', u'userType': u'Human'},\n",
       "  {u'id': u'Bob', u'userType': u'Bot'}]}"
      ]
     },
     "execution_count": 39,
     "metadata": {},
     "output_type": "execute_result"
    }
   ],
   "source": [
    "diags[2]"
   ]
  },
  {
   "cell_type": "code",
   "execution_count": 31,
   "metadata": {},
   "outputs": [],
   "source": [
    "def is_bot(diag, user):\n",
    "    text = \" \".join([x[\"text\"] for x in diag[\"thread\"] if x[\"userId\"] == user])\n",
    "    \n",
    "    if len(text) == 0:\n",
    "        return False\n",
    "    \n",
    "    if \"avilable\" in text:\n",
    "        return True\n",
    "    \n",
    "    if \"Hint: first\" in text:\n",
    "        return True\n",
    "    \n",
    "    if \" .\" in text or \" ,\" in text or \" '\" in text:\n",
    "        return True\n",
    "    \n",
    "    if \"\\n\" in text:\n",
    "        return True\n",
    "    \n",
    "    return False"
   ]
  },
  {
   "cell_type": "code",
   "execution_count": 43,
   "metadata": {
    "collapsed": true
   },
   "outputs": [],
   "source": [
    "def get_score(diag, user):\n",
    "    return filter(lambda x: x[\"userId\"] != user, diag[\"evaluation\"])[0][\"quality\"]"
   ]
  },
  {
   "cell_type": "code",
   "execution_count": 355,
   "metadata": {},
   "outputs": [],
   "source": [
    "def correlation(diags, bst):\n",
    "    df = make_features(diags, True)\n",
    "    \n",
    "    label_column = df[\"label\"]\n",
    "    features = df.drop([\"label\", \"dialogId\", \"user\"], axis=1)\n",
    "    dtest = xgb.DMatrix(features.values, feature_names=features.columns)\n",
    "    \n",
    "    preds = bst.predict(dtest)\n",
    "    \n",
    "#     for i, diag in enumerate(diags):\n",
    "#         for j, name in enumerate([\"Bob\",\"Alice\"]):\n",
    "#             if is_bot(diag, name):\n",
    "#                 preds[2*i+j] = 0\n",
    "\n",
    "    df[\"prediction\"] = preds\n",
    "    \n",
    "    print df[[\"label\",\"prediction\"]]\n",
    "    \n",
    "    return spearmanr(df[\"label\"].values, df[\"prediction\"].values)"
   ]
  },
  {
   "cell_type": "markdown",
   "metadata": {},
   "source": [
    "# Features"
   ]
  },
  {
   "cell_type": "code",
   "execution_count": 32,
   "metadata": {
    "collapsed": true
   },
   "outputs": [],
   "source": [
    "def lengths(diag, user):\n",
    "    res = pd.Series()\n",
    "    self_thread = filter(lambda x: x[\"userId\"] == user, diag[\"thread\"])\n",
    "    other_thread = filter(lambda x: x[\"userId\"] != user, diag[\"thread\"])\n",
    "    res[\"self_phrases_cnt\"] = len(self_thread)\n",
    "    res[\"other_phrases_cnt\"] = len(other_thread)\n",
    "    \n",
    "    res[\"self_words_cnt\"] = len([w for s in self_thread for w in s])\n",
    "    res[\"other_words_cnt\"] = len([w for s in other_thread for w in s])\n",
    "    \n",
    "    res[\"self_avg_words\"] = 0 if res[\"self_phrases_cnt\"] == 0 else float(res[\"self_words_cnt\"])/res[\"self_phrases_cnt\"] \n",
    "    res[\"other_avg_words\"] = 0 if res[\"other_phrases_cnt\"] == 0 else float(res[\"other_words_cnt\"])/res[\"other_phrases_cnt\"]\n",
    "    \n",
    "    return res"
   ]
  },
  {
   "cell_type": "code",
   "execution_count": 35,
   "metadata": {
    "collapsed": true
   },
   "outputs": [],
   "source": [
    "def freq_stat(diag, user):\n",
    "\n",
    "    def topN_count(parsed_text):\n",
    "        return len(filter(lambda x: x.orth_.lower() in top_words, parsed_text))\n",
    "\n",
    "    def topN_count_lemma(parsed_text):\n",
    "        return len(filter(lambda x: x.lemma_ in top_lemmas, parsed_text))\n",
    "\n",
    "    def no_vocab_tokens(parsed_text):\n",
    "        return len(filter(lambda x: x.lemma_ not in lemma_counts, parsed_text))\n",
    "\n",
    "    def avg_index_lemma(parsed_text):\n",
    "        freqs = [freq_idx_lemmas.get(token.lemma_, None) for token in parsed_text]\n",
    "        logs = [math.log(x) for x in filter(lambda x: x, freqs)]\n",
    "        if logs:\n",
    "            return np.mean(logs)\n",
    "        else:\n",
    "            return None\n",
    "\n",
    "    res = pd.Series()\n",
    "    self_thread = filter(lambda x: x[\"userId\"] == user, diag[\"thread\"])\n",
    "    other_thread = filter(lambda x: x[\"userId\"] != user, diag[\"thread\"])\n",
    "    \n",
    "    res[\"self_topN_count\"] = np.mean([\n",
    "        topN_count(nlp(unicode(x))) for x in self_thread\n",
    "    ])\n",
    "    res[\"other_topN_count\"] = np.mean([\n",
    "        topN_count(nlp(unicode(x))) for x in other_thread\n",
    "    ])\n",
    "    \n",
    "    res[\"self_no_vocab_tokens\"] = np.mean([\n",
    "        no_vocab_tokens(nlp(unicode(x))) for x in self_thread\n",
    "    ])\n",
    "    res[\"other_no_vocab_tokens\"] = np.mean([\n",
    "        no_vocab_tokens(nlp(unicode(x))) for x in other_thread\n",
    "    ])\n",
    "    \n",
    "    res[\"self_avg_index_lemma\"] = np.mean([\n",
    "        topN_count(nlp(unicode(x))) for x in self_thread\n",
    "    ])\n",
    "    res[\"other_avg_index_lemma\"] = np.mean([\n",
    "        topN_count(nlp(unicode(x))) for x in other_thread\n",
    "    ])\n",
    "    \n",
    "    return res"
   ]
  },
  {
   "cell_type": "code",
   "execution_count": 171,
   "metadata": {
    "collapsed": true
   },
   "outputs": [],
   "source": [
    "def make_features(diags,labeled=False):\n",
    "    observations = []\n",
    "    for d in diags:\n",
    "        for name in (\"Alice\",\"Bob\"):\n",
    "            obs = freq_stat(d,name).append(lengths(d,name))\n",
    "            obs[\"user\"] = name\n",
    "            obs[\"dialogId\"] = d[\"dialogId\"]\n",
    "            \n",
    "            if labeled:\n",
    "                obs[\"label\"] = get_score(d,name)\n",
    "            \n",
    "            observations.append(obs)\n",
    "    \n",
    "    return pd.DataFrame(observations)"
   ]
  },
  {
   "cell_type": "code",
   "execution_count": 300,
   "metadata": {},
   "outputs": [],
   "source": [
    "shuffle(diags)\n",
    "df_train = make_features(diags[:400], True)\n",
    "label_column = df_train[\"label\"]\n",
    "features = df_train.drop([\"label\", \"dialogId\", \"user\"], axis=1)\n",
    "\n",
    "train = xgb.DMatrix(features.values, label_column.values, feature_names=features.columns)"
   ]
  },
  {
   "cell_type": "code",
   "execution_count": 409,
   "metadata": {
    "collapsed": true
   },
   "outputs": [],
   "source": [
    "param = {'eta':0.1, 'max_depth':3, 'min_child_weight':1, 'gamma':0.1,\n",
    "         'silent':0, 'subsample':0.8, 'colsample_bytree': 0.8,  \n",
    "         'objective':'reg:linear', 'eval_metric':'rmse'}\n",
    "bst = xgb.train(param, train, num_boost_round=100)"
   ]
  },
  {
   "cell_type": "code",
   "execution_count": 410,
   "metadata": {},
   "outputs": [
    {
     "name": "stdout",
     "output_type": "stream",
     "text": [
      "     label  prediction\n",
      "0        0    0.255618\n",
      "1        1    1.120812\n",
      "2        1    1.935809\n",
      "3        0    0.222018\n",
      "4        0   -0.292325\n",
      "5        1    1.880636\n",
      "6        1    1.208047\n",
      "7        0    0.036530\n",
      "8        1    2.037408\n",
      "9        5    2.677605\n",
      "10       2    1.958603\n",
      "11       0    1.754847\n",
      "12       0    2.321277\n",
      "13       3    1.569914\n",
      "14       4    2.795381\n",
      "15       3    2.201808\n",
      "16       5    2.381652\n",
      "17       3    3.069283\n",
      "18       1    1.682814\n",
      "19       0    1.241106\n",
      "20       5    2.300791\n",
      "21       5    1.841551\n",
      "22       4    1.031413\n",
      "23       4    2.479464\n",
      "24       0   -0.051920\n",
      "25       3    1.143492\n",
      "26       0    0.992837\n",
      "27       1    2.089266\n",
      "28       1    0.887477\n",
      "29       0    0.501445\n",
      "..     ...         ...\n",
      "170      0    0.290598\n",
      "171      1    1.419168\n",
      "172      1    1.334366\n",
      "173      0    0.286471\n",
      "174      5    3.314591\n",
      "175      4    2.892007\n",
      "176      2    2.191095\n",
      "177      0    1.234050\n",
      "178      3    2.198762\n",
      "179      0    3.153715\n",
      "180      2    1.422367\n",
      "181      0   -0.080298\n",
      "182      1    1.193048\n",
      "183      0    0.100522\n",
      "184      1    1.375103\n",
      "185      3    0.059488\n",
      "186      4    2.190359\n",
      "187      2    1.321936\n",
      "188      1    2.077092\n",
      "189      0    0.591024\n",
      "190      1    2.047150\n",
      "191      2    2.313352\n",
      "192      1    0.039168\n",
      "193      1    1.365668\n",
      "194      1    1.313817\n",
      "195      4    2.442611\n",
      "196      0    1.107595\n",
      "197      4    2.476319\n",
      "198      3    2.237378\n",
      "199      0    0.624143\n",
      "\n",
      "[200 rows x 2 columns]\n"
     ]
    },
    {
     "data": {
      "text/plain": [
       "SpearmanrResult(correlation=0.50950642132879842, pvalue=1.310030563307665e-14)"
      ]
     },
     "execution_count": 410,
     "metadata": {},
     "output_type": "execute_result"
    }
   ],
   "source": [
    "correlation(diags[400:500], bst)"
   ]
  },
  {
   "cell_type": "code",
   "execution_count": null,
   "metadata": {
    "collapsed": true
   },
   "outputs": [],
   "source": []
  }
 ],
 "metadata": {
  "kernelspec": {
   "display_name": "Python 2",
   "language": "python",
   "name": "python2"
  },
  "language_info": {
   "codemirror_mode": {
    "name": "ipython",
    "version": 2
   },
   "file_extension": ".py",
   "mimetype": "text/x-python",
   "name": "python",
   "nbconvert_exporter": "python",
   "pygments_lexer": "ipython2",
   "version": "2.7.10"
  }
 },
 "nbformat": 4,
 "nbformat_minor": 2
}
