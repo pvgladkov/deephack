{
 "cells": [
  {
   "cell_type": "code",
   "execution_count": 490,
   "metadata": {
    "collapsed": true
   },
   "outputs": [],
   "source": [
    "import os\n",
    "import json\n",
    "import pandas as pd\n",
    "import numpy as np\n",
    "import itertools\n",
    "from turing.features import nlp\n",
    "from turing.features.common import desctiptive_stats\n",
    "from turing.features.freq import top_words, top_lemmas, word_counts, lemma_counts, freq_idx_lemmas\n",
    "import xgboost as xgb\n",
    "from scipy.stats import spearmanr\n",
    "from random import shuffle, randint\n",
    "import matplotlib.pyplot as plt\n",
    "%matplotlib inline\n",
    "import matplotlib.pyplot as plt\n",
    "from sklearn.metrics.pairwise import cosine_similarity\n",
    "plt.rcParams[\"figure.figsize\"] = (30,15)\n",
    "import math\n",
    "\n",
    "from collections import defaultdict, Counter\n",
    "from sklearn.metrics import roc_auc_score, mean_squared_error\n",
    "import warnings\n",
    "warnings.filterwarnings('ignore')\n",
    "from sklearn.metrics.pairwise import cosine_similarity, linear_kernel, polynomial_kernel, rbf_kernel, chi2_kernel, additive_chi2_kernel, manhattan_distances\n",
    "\n",
    "from sklearn.feature_extraction.text import CountVectorizer, TfidfVectorizer"
   ]
  },
  {
   "cell_type": "code",
   "execution_count": 475,
   "metadata": {},
   "outputs": [],
   "source": [
    "doc = json.load(open(\"../../turing-data/train_20170724.json\"))\n",
    "doc2 = json.load(open(\"../../turing-data/train_20170725.json\"))\n",
    "doc3 = json.load(open(\"../../turing-data/train_20170726.json\"))\n",
    "doc4 = json.load(open(\"../../turing-data/train_20170727.json\"))\n",
    "\n",
    "tdoc = json.load(open(\"../../turing-data/test_20170727.json\"))\n",
    "\n",
    "clf1 = json.load(open(\"data/p/clf_train_20170724.json\"))\n",
    "clf2 = json.load(open(\"data/p/clf_train_20170725.json\"))\n",
    "clf3 = json.load(open(\"data/p/clf_train_20170726.json\"))\n",
    "\n",
    "p_train = pd.DataFrame.from_csv(\"data/p2/eval_t.csv\")\n",
    "p_test = pd.DataFrame.from_csv(\"data/p2/all_own_test.csv\")\n",
    "\n",
    "p = pd.concat([p_train, p_test])\n",
    "\n",
    "diags = doc + doc2 + doc3 + doc4"
   ]
  },
  {
   "cell_type": "code",
   "execution_count": 459,
   "metadata": {},
   "outputs": [
    {
     "data": {
      "text/plain": [
       "{u'context': u'In the James Bond series by Ian Fleming, James Bond, reads The Times. As described by Fleming in From Russia, with Love: \"The Times was the only paper that Bond ever read.\"',\n",
       " u'dialogId': 319946573,\n",
       " u'thread': [{u'text': u'Hi', u'time': 567000000, u'userId': u'Alice'},\n",
       "  {u'text': u'good day to you! how are you?',\n",
       "   u'time': 567000000,\n",
       "   u'userId': u'Bob'},\n",
       "  {u'text': u'Great. Have you seen any of James Bond movies?',\n",
       "   u'time': 567000000,\n",
       "   u'userId': u'Alice'},\n",
       "  {u'text': u'The Times', u'time': 567000000, u'userId': u'Bob'},\n",
       "  {u'text': u'That is newspaper', u'time': 567000000, u'userId': u'Alice'},\n",
       "  {u'text': u'what is a \" r noshitsherlock \"?',\n",
       "   u'time': 567000000,\n",
       "   u'userId': u'Bob'},\n",
       "  {u'text': u\"I don't know\", u'time': 567000000, u'userId': u'Alice'},\n",
       "  {u'text': u\"i'm a bot, and i'm not even a bot .\",\n",
       "   u'time': 567000000,\n",
       "   u'userId': u'Bob'},\n",
       "  {u'text': u'Well, sorry to hear that',\n",
       "   u'time': 567000000,\n",
       "   u'userId': u'Alice'}],\n",
       " u'users': [{u'id': u'Alice'}, {u'id': u'Bob'}]}"
      ]
     },
     "execution_count": 459,
     "metadata": {},
     "output_type": "execute_result"
    }
   ],
   "source": [
    "tdoc[1]"
   ]
  },
  {
   "cell_type": "code",
   "execution_count": 460,
   "metadata": {
    "collapsed": true
   },
   "outputs": [],
   "source": [
    "def is_bot(diag, user):\n",
    "    text = \" \".join([x[\"text\"] for x in diag[\"thread\"] if x[\"userId\"] == user])\n",
    "    \n",
    "    if len(text) == 0:\n",
    "        return False\n",
    "    \n",
    "    if \"avilable\" in text:\n",
    "        return True\n",
    "    \n",
    "    if \"Hint: first\" in text:\n",
    "        return True\n",
    "    \n",
    "    if \" .\" in text or \" ,\" in text or \" '\" in text:\n",
    "        return True\n",
    "    \n",
    "    if \"\\n\" in text:\n",
    "        return True\n",
    "    \n",
    "    if \">\" in text:\n",
    "        return True\n",
    "    \n",
    "    return False"
   ]
  },
  {
   "cell_type": "code",
   "execution_count": 461,
   "metadata": {
    "collapsed": true
   },
   "outputs": [],
   "source": [
    "def get_score(diag, user):\n",
    "    return filter(lambda x: x[\"userId\"] == user, diag[\"evaluation\"])[0][\"quality\"]"
   ]
  },
  {
   "cell_type": "code",
   "execution_count": 462,
   "metadata": {
    "collapsed": true
   },
   "outputs": [],
   "source": [
    "# def correlation_old(diags, bst):\n",
    "#     df = make_features(diags, True)\n",
    "    \n",
    "#     label_column = df[\"label\"]\n",
    "#     features = df.drop([\"label\", \"dialogId\", \"user\"], axis=1)\n",
    "#     dtest = xgb.DMatrix(features.values, feature_names=features.columns)\n",
    "    \n",
    "#     preds = bst.predict(dtest)\n",
    "    \n",
    "#     for i, diag in enumerate(diags):\n",
    "#         for j, name in enumerate([\"Alice\",\"Bob\"]):\n",
    "#             if is_bot(diag, name):\n",
    "#                 preds[2*i+j] = 0\n",
    "\n",
    "#     df[\"prediction\"] = preds\n",
    "    \n",
    "# #     print df[[\"label\",\"prediction\"]]\n",
    "    \n",
    "#     return spearmanr(df[\"label\"].values, df[\"prediction\"].values)"
   ]
  },
  {
   "cell_type": "code",
   "execution_count": 463,
   "metadata": {},
   "outputs": [],
   "source": [
    "def correlation(test_diags, test_set, bst, rules = True):\n",
    "    label_column = test_set[\"label\"]\n",
    "    features = test_set.drop([\"label\", \"dialogId\", \"user\"], axis=1)\n",
    "    dtest = xgb.DMatrix(features.values, feature_names=features.columns)\n",
    "    \n",
    "    preds = bst.predict(dtest)\n",
    "\n",
    "    if rules:\n",
    "        for i, diag in enumerate(test_diags):\n",
    "            for j, name in enumerate([\"Alice\",\"Bob\"]):\n",
    "                if is_bot(diag, name):\n",
    "                    preds[2*i+j] = 0\n",
    "    \n",
    "    return spearmanr(test_set[\"label\"].values, preds)"
   ]
  },
  {
   "cell_type": "code",
   "execution_count": 464,
   "metadata": {},
   "outputs": [],
   "source": [
    "def cv(diags, test_ratio=0.2, folds=5, params=None, **kwargs):\n",
    "    scores = []\n",
    "    df_feats = make_features(diags, True)\n",
    "    \n",
    "    for i in range(0,len(diags),len(diags)/folds)[:-1]:\n",
    "        test_set = df_feats[2*i:2*i+2*int(test_ratio*len(diags))]\n",
    "        test_diags = diags[i:i+int(test_ratio*len(diags))]\n",
    "        train_set = pd.concat([df_feats[0:2*i],df_feats[2*i+2*int(test_ratio*len(diags)):]])\n",
    "        \n",
    "        label_column = train_set[\"label\"]\n",
    "        features = train_set.drop([\"label\", \"dialogId\", \"user\"], axis=1)\n",
    "\n",
    "        dtrain = xgb.DMatrix(features.values, label_column.values, feature_names=features.columns)\n",
    "        bst = xgb.train(param, dtrain, num_boost_round=50)\n",
    "        \n",
    "        scores.append(correlation(test_diags, test_set, bst, **kwargs).correlation)\n",
    "        print scores[-1]\n",
    "        \n",
    "    return np.mean(scores)"
   ]
  },
  {
   "cell_type": "code",
   "execution_count": 477,
   "metadata": {
    "collapsed": true
   },
   "outputs": [],
   "source": [
    "def flatten_dialogs(diags):\n",
    "    res = []\n",
    "    for d in diags:\n",
    "        for t in d[\"thread\"]:\n",
    "            if len(t[\"text\"].strip(\" *\")) > 10 and \"\\n\" not in t[\"text\"]:\n",
    "                res.append((d[\"dialogId\"],t[\"userId\"],t[\"text\"].encode(\"utf-8\")))\n",
    "    \n",
    "    return pd.DataFrame.from_records(res, columns=[\"dialogId\",\"userId\",\"text\"])"
   ]
  },
  {
   "cell_type": "code",
   "execution_count": 478,
   "metadata": {
    "collapsed": true
   },
   "outputs": [],
   "source": [
    "df_texts = flatten_dialogs(diags)\n",
    "df_texts.to_csv(\"data/texts\", sep=\"\\t\",encoding=\"utf-8\")"
   ]
  },
  {
   "cell_type": "code",
   "execution_count": 480,
   "metadata": {},
   "outputs": [],
   "source": [
    "ppl_df = pd.DataFrame.from_csv(\"data/ppl_scores\", index_col=0).reset_index()\n",
    "ppl_df_big = pd.concat([df_texts,ppl_df],axis=1)"
   ]
  },
  {
   "cell_type": "code",
   "execution_count": 398,
   "metadata": {
    "collapsed": true
   },
   "outputs": [],
   "source": [
    "def make_submit(test_diags, train_diags):\n",
    "    train_set = make_features(train_diags,True)\n",
    "    test_set = make_features(test_diags,False)\n",
    "    \n",
    "    label_column = train_set[\"label\"]\n",
    "    train_features = train_set.drop([\"label\", \"dialogId\", \"user\"], axis=1)\n",
    "    \n",
    "    test_features = test_set.drop([\"dialogId\", \"user\"], axis=1)\n",
    "    \n",
    "    dtrain = xgb.DMatrix(train_features.values, label_column.values, feature_names=train_features.columns)\n",
    "    dtest = xgb.DMatrix(test_features.values, feature_names=test_features.columns)\n",
    "    \n",
    "    bst = xgb.train(param, dtrain, num_boost_round=150)\n",
    "    preds = bst.predict(dtest)\n",
    "    \n",
    "\n",
    "    for i, diag in enumerate(tdoc):\n",
    "        for j, name in enumerate([\"Alice\",\"Bob\"]):\n",
    "            if is_bot(diag, name):\n",
    "                preds[2*i+j] = 0\n",
    "\n",
    "    test_set[\"prediction\"] = preds\n",
    "    \n",
    "    \n",
    "    scores = defaultdict(dict)\n",
    "    for i in range(0,len(test_set)):\n",
    "        row = test_set.iloc[i]\n",
    "        scores[row[\"dialogId\"]][row[\"user\"]] = row[\"prediction\"]\n",
    "        \n",
    "    records = []\n",
    "    for dialog_id in scores:\n",
    "        records.append((dialog_id,scores[dialog_id][\"Alice\"],scores[dialog_id][\"Bob\"]))\n",
    "    \n",
    "    return pd.DataFrame.from_records(records, columns=[\"dialogId\",\"Alice\",\"Bob\"])"
   ]
  },
  {
   "cell_type": "code",
   "execution_count": 401,
   "metadata": {},
   "outputs": [],
   "source": [
    "submit = make_submit(tdoc, diags)"
   ]
  },
  {
   "cell_type": "code",
   "execution_count": 402,
   "metadata": {
    "collapsed": true
   },
   "outputs": [],
   "source": [
    "submit.to_csv(\"submit27allfeats.csv\", index=False)"
   ]
  },
  {
   "cell_type": "code",
   "execution_count": 30,
   "metadata": {},
   "outputs": [
    {
     "data": {
      "text/plain": [
       "{u'context': u'In 1938 the Nazis altered about one-third of the toponyms of the area, eliminating, Germanizing, or simplifying a number of Old Prussian names, as well as those Polish or Lithuanian names originating from colonists and refugees to Prussia during and after the Protestant Reformation. More than 1,500 places were ordered to be renamed by 16 July 1938 following a decree issued by Gauleiter and Oberpr\\xe4sident Erich Koch and initiated by Adolf Hitler. Many who would not cooperate with the rulers of Nazi Germany were sent to concentration camps and held prisoner there until their death or liberation.',\n",
       " u'dialogId': 1356952707,\n",
       " u'thread': [{u'text': u'Hello, my friend. Hope this chat will go well. I will ask you a question in a second, please wait',\n",
       "   u'time': 269000000,\n",
       "   u'userId': u'Bob'},\n",
       "  {u'text': u'What was the number of prussian names in 1938?',\n",
       "   u'time': 269000000,\n",
       "   u'userId': u'Bob'},\n",
       "  {u'text': u'100?', u'time': 269000000, u'userId': u'Alice'},\n",
       "  {u'text': u'You can do better. Hint: first 3 answer letters is \"old\".',\n",
       "   u'time': 269000000,\n",
       "   u'userId': u'Bob'},\n",
       "  {u'text': u'old', u'time': 269000000, u'userId': u'Alice'},\n",
       "  {u'text': u'Still incorrect :( Lets speak about something else...',\n",
       "   u'time': 269000000,\n",
       "   u'userId': u'Bob'},\n",
       "  {u'text': u'else?', u'time': 269000000, u'userId': u'Alice'},\n",
       "  {u'text': u'No.', u'time': 269000000, u'userId': u'Bob'},\n",
       "  {u'text': u'no?', u'time': 269000000, u'userId': u'Alice'},\n",
       "  {u'text': u'No.', u'time': 269000000, u'userId': u'Bob'},\n",
       "  {u'text': u'no?', u'time': 269000000, u'userId': u'Alice'},\n",
       "  {u'text': u'No.', u'time': 269000000, u'userId': u'Bob'},\n",
       "  {u'text': u'no?', u'time': 269000000, u'userId': u'Alice'},\n",
       "  {u'text': u'No.', u'time': 269000000, u'userId': u'Bob'},\n",
       "  {u'text': u'no?', u'time': 269000000, u'userId': u'Alice'},\n",
       "  {u'text': u'No.', u'time': 269000000, u'userId': u'Bob'},\n",
       "  {u'text': u'no?', u'time': 269000000, u'userId': u'Alice'},\n",
       "  {u'text': u'No.', u'time': 269000000, u'userId': u'Bob'},\n",
       "  {u'text': u'no?', u'time': 269000000, u'userId': u'Alice'},\n",
       "  {u'text': u'No.', u'time': 269000000, u'userId': u'Bob'},\n",
       "  {u'text': u'no?', u'time': 269000000, u'userId': u'Alice'},\n",
       "  {u'text': u'No.', u'time': 269000000, u'userId': u'Bob'},\n",
       "  {u'text': u'no?', u'time': 269000000, u'userId': u'Alice'},\n",
       "  {u'text': u'No.', u'time': 269000000, u'userId': u'Bob'},\n",
       "  {u'text': u'no?', u'time': 269000000, u'userId': u'Alice'},\n",
       "  {u'text': u'No.', u'time': 269000000, u'userId': u'Bob'},\n",
       "  {u'text': u'no?', u'time': 269000000, u'userId': u'Alice'},\n",
       "  {u'text': u'No.', u'time': 269000000, u'userId': u'Bob'},\n",
       "  {u'text': u'non', u'time': 269000000, u'userId': u'Alice'},\n",
       "  {u'text': u'What a joke.', u'time': 269000000, u'userId': u'Bob'},\n",
       "  {u'text': u'Bear walk in the forest',\n",
       "   u'time': 269000000,\n",
       "   u'userId': u'Alice'},\n",
       "  {u'text': u'Https: forest', u'time': 269000000, u'userId': u'Bob'},\n",
       "  {u'text': u'Suddenly it observe burning car',\n",
       "   u'time': 269000000,\n",
       "   u'userId': u'Alice'},\n",
       "  {u'text': u'Forest', u'time': 269000000, u'userId': u'Bob'},\n",
       "  {u'text': u'AAAAAnd seat in!', u'time': 269000000, u'userId': u'Alice'},\n",
       "  {u'text': u'!!', u'time': 269000000, u'userId': u'Bob'}],\n",
       " u'users': [{u'id': u'Alice'}, {u'id': u'Bob'}]}"
      ]
     },
     "execution_count": 30,
     "metadata": {},
     "output_type": "execute_result"
    }
   ],
   "source": [
    "tdoc[0]"
   ]
  },
  {
   "cell_type": "markdown",
   "metadata": {},
   "source": [
    "# Features"
   ]
  },
  {
   "cell_type": "code",
   "execution_count": 482,
   "metadata": {
    "collapsed": true
   },
   "outputs": [],
   "source": [
    "# df = flatten_dialogs(diags)\n",
    "# df.to_csv(\"data/texts\", sep=\"\\t\",encoding=\"utf-8\")\n",
    "# ppl_df = pd.DataFrame.from_csv(\"data/ppl_scores\", index_col=0).reset_index()\n",
    "# ppl_df = pd.concat([df,ppl_df], axis=1)\n",
    "\n",
    "def ngram_ppl(diag, user):\n",
    "    res = pd.Series()\n",
    "    \n",
    "    res[\"self_ngram_logprob2\"] = np.mean(ppl_df_big[ppl_df_big.dialogId == diag[\"dialogId\"]][ppl_df_big.userId == user][\"logprob\"])\n",
    "    res[\"self_ngram_ppl\"] = np.mean(ppl_df_big[ppl_df_big.dialogId == diag[\"dialogId\"]][ppl_df_big.userId == user][\"ppl\"])\n",
    "    res[\"other_ngram_logprob\"] = np.mean(ppl_df_big[ppl_df_big.dialogId == diag[\"dialogId\"]][ppl_df_big.userId != user][\"logprob\"])\n",
    "    res[\"other_ngram_ppl\"] = np.mean(ppl_df_big[ppl_df_big.dialogId == diag[\"dialogId\"]][ppl_df_big.userId != user][\"ppl\"])\n",
    "\n",
    "    \n",
    "    return res"
   ]
  },
  {
   "cell_type": "code",
   "execution_count": 483,
   "metadata": {
    "collapsed": true
   },
   "outputs": [],
   "source": [
    "def lengths(diag, user):\n",
    "    res = pd.Series()\n",
    "    self_thread = filter(lambda x: x[\"userId\"] == user, diag[\"thread\"])\n",
    "    other_thread = filter(lambda x: x[\"userId\"] != user, diag[\"thread\"])\n",
    "    res[\"self_phrases_cnt\"] = len(self_thread)\n",
    "    res[\"other_phrases_cnt\"] = len(other_thread)\n",
    "    \n",
    "    res[\"self_words_cnt\"] = len([w for s in self_thread for w in s])\n",
    "    res[\"other_words_cnt\"] = len([w for s in other_thread for w in s])\n",
    "    \n",
    "    res[\"self_avg_words\"] = 0 if res[\"self_phrases_cnt\"] == 0 else float(res[\"self_words_cnt\"])/res[\"self_phrases_cnt\"] \n",
    "    res[\"other_avg_words\"] = 0 if res[\"other_phrases_cnt\"] == 0 else float(res[\"other_words_cnt\"])/res[\"other_phrases_cnt\"]\n",
    "    \n",
    "    return res"
   ]
  },
  {
   "cell_type": "code",
   "execution_count": 484,
   "metadata": {
    "collapsed": true
   },
   "outputs": [],
   "source": [
    "def context_similarity(diag, user):\n",
    "    context_vector = np.mean([\n",
    "        word.vector for word in nlp(diag[\"context\"])\n",
    "    ], axis=0).reshape((1,-1))\n",
    "    \n",
    "    self_thread = filter(lambda x: x[\"userId\"] == user, diag[\"thread\"])\n",
    "    other_thread = filter(lambda x: x[\"userId\"] != user, diag[\"thread\"])\n",
    "    \n",
    "    try:\n",
    "        self_vector = np.mean([\n",
    "                word.vector for word in nlp(unicode(self_thread[0][\"text\"]))\n",
    "            ],axis=0).reshape((1,-1))\n",
    "\n",
    "        other_vector = np.mean([\n",
    "                word.vector for word in nlp(unicode(other_thread[0][\"text\"]))\n",
    "            ],axis=0).reshape((1,-1))\n",
    "\n",
    "        res = pd.Series()\n",
    "\n",
    "        res[\"self_context_cosine\"] = 0 if not self_thread else cosine_similarity(self_vector, context_vector).flatten()[0]\n",
    "        res[\"other_context_cosine\"] = 0 if not other_thread else cosine_similarity(other_vector, context_vector).flatten()[0]\n",
    "        return res\n",
    "    except:\n",
    "        return pd.Series()"
   ]
  },
  {
   "cell_type": "code",
   "execution_count": 485,
   "metadata": {
    "collapsed": true
   },
   "outputs": [],
   "source": [
    "def w2v(diag, user):\n",
    "    self_thread = filter(lambda x: x[\"userId\"] == user, diag[\"thread\"])\n",
    "    other_thread = filter(lambda x: x[\"userId\"] != user, diag[\"thread\"])\n",
    "    \n",
    "    try:\n",
    "        self_vector = np.mean([\n",
    "                word.vector for word in nlp(unicode(\" \".join([x[\"text\"] for x in self_thread])))\n",
    "            ],axis=0)\n",
    "\n",
    "        other_vector = np.mean([\n",
    "                word.vector for word in nlp(unicode(\" \".join([x[\"text\"] for x in other_thread])))\n",
    "            ],axis=0)\n",
    "        \n",
    "        self_ser = pd.Series(data=self_vector, index=[\"self_w2v_{}\".format(i) for i in range(0, self_vector.shape[0])])\n",
    "        other_ser = pd.Series(data=other_vector, index=[\"other_w2v_{}\".format(i) for i in range(0, other_vector.shape[0])])\n",
    "        return self_ser.append(other_ser)\n",
    "    except:\n",
    "        return pd.Series()"
   ]
  },
  {
   "cell_type": "code",
   "execution_count": 492,
   "metadata": {
    "collapsed": true
   },
   "outputs": [],
   "source": [
    "def freq_stat(diag, user):\n",
    "\n",
    "    def topN_count(parsed_text):\n",
    "        return len(filter(lambda x: x.orth_.lower() in top_words, parsed_text))\n",
    "\n",
    "    def topN_count_lemma(parsed_text):\n",
    "        return len(filter(lambda x: x.lemma_ in top_lemmas, parsed_text))\n",
    "\n",
    "    def no_vocab_tokens(parsed_text):\n",
    "        return len(filter(lambda x: x.lemma_ not in lemma_counts, parsed_text))\n",
    "\n",
    "    def avg_index_lemma(parsed_text):\n",
    "        freqs = [freq_idx_lemmas.get(token.lemma_, None) for token in parsed_text]\n",
    "        logs = [math.log(x) for x in filter(lambda x: x, freqs)]\n",
    "        if logs:\n",
    "            return np.mean(logs)\n",
    "        else:\n",
    "            return None\n",
    "\n",
    "    res = pd.Series()\n",
    "    self_thread = [nlp(unicode(x)) for x in filter(lambda x: x[\"userId\"] == user, diag[\"thread\"])]\n",
    "    other_thread = [nlp(unicode(x)) for x in filter(lambda x: x[\"userId\"] != user, diag[\"thread\"])]\n",
    "    \n",
    "    res[\"self_topN_count\"] = np.mean([\n",
    "        topN_count(x) for x in self_thread\n",
    "    ])\n",
    "    res[\"other_topN_count\"] = np.mean([\n",
    "        topN_count(x) for x in other_thread\n",
    "    ])\n",
    "    \n",
    "    res[\"self_no_vocab_tokens\"] = np.mean([\n",
    "        no_vocab_tokens(x) for x in self_thread\n",
    "    ])\n",
    "    res[\"other_no_vocab_tokens\"] = np.mean([\n",
    "        no_vocab_tokens(x) for x in other_thread\n",
    "    ])\n",
    "    \n",
    "    avg_idx_self = filter(lambda x: x, [avg_index_lemma(x) for x in self_thread])\n",
    "    avg_idx_other = filter(lambda x: x, [avg_index_lemma(x) for x in other_thread])\n",
    "    \n",
    "    if avg_idx_self:\n",
    "        res[\"self_avg_index_lemma\"] = np.mean(avg_idx_self)\n",
    "    \n",
    "    if avg_idx_other:\n",
    "        res[\"other_avg_index_lemma\"] = np.mean(avg_idx_other)\n",
    "    \n",
    "    return res"
   ]
  },
  {
   "cell_type": "code",
   "execution_count": 493,
   "metadata": {},
   "outputs": [],
   "source": [
    "def make_features(diags,labeled=False):\n",
    "    observations = []\n",
    "    for d in diags:\n",
    "        for name in (\"Bob\",\"Alice\"):\n",
    "            obs = freq_stat(d,name)\\\n",
    "            .append(lengths(d,name))\\\n",
    "            .append(context_similarity(d,name))\\\n",
    "            .append(w2v(d,name))\\\n",
    "            .append(ngram_ppl(d,name))\n",
    "            \n",
    "            obs[\"user\"] = name\n",
    "            obs[\"dialogId\"] = d[\"dialogId\"]\n",
    "            \n",
    "            if labeled:\n",
    "                obs[\"label\"] = get_score(d,name)\n",
    "            \n",
    "            observations.append(obs)\n",
    "    \n",
    "    return pd.DataFrame(observations)"
   ]
  },
  {
   "cell_type": "code",
   "execution_count": 494,
   "metadata": {
    "collapsed": true
   },
   "outputs": [],
   "source": [
    "param = {'eta':0.1, 'max_depth':3, 'min_child_weight':1, 'gamma':0.1,\n",
    "         'silent':0, 'subsample':0.9, 'colsample_bytree': 0.8,  \n",
    "         'objective':'reg:linear'}"
   ]
  },
  {
   "cell_type": "code",
   "execution_count": 497,
   "metadata": {},
   "outputs": [
    {
     "name": "stdout",
     "output_type": "stream",
     "text": [
      "0.720966229364\n",
      "0.695735210434\n",
      "0.694774989687\n",
      "0.697692729612\n",
      "0.67940373341\n",
      "0.673450547869\n",
      "0.6836551532\n",
      "0.676093539431\n",
      "0.696277380179\n",
      "0.710485357809\n",
      "0.689039403131\n",
      "0.695578607007\n",
      "0.693616789371\n",
      "0.694915664877\n",
      "0.701172729441\n",
      "0.687926255335\n",
      "0.689023741598\n",
      "0.688539546356\n",
      "0.708314376243\n",
      "0.687743363814\n"
     ]
    },
    {
     "data": {
      "text/plain": [
       "0.69322026740842302"
      ]
     },
     "execution_count": 497,
     "metadata": {},
     "output_type": "execute_result"
    }
   ],
   "source": [
    "shuffle(diags)\n",
    "cv(diags, folds=20, params=param, rules=True)"
   ]
  },
  {
   "cell_type": "code",
   "execution_count": 258,
   "metadata": {},
   "outputs": [
    {
     "name": "stdout",
     "output_type": "stream",
     "text": [
      "0.733606526175\n",
      "0.727650414431\n",
      "0.690177080335\n",
      "0.680526426707\n",
      "0.696951028986\n",
      "0.678523957793\n",
      "0.708113543803\n",
      "0.728394409003\n",
      "0.689824227423\n",
      "0.661290742352\n",
      "0.667980984215\n",
      "0.682381032084\n",
      "0.701258518923\n",
      "0.730501141466\n",
      "0.712763256767\n",
      "0.69097417567\n",
      "0.692214029374\n",
      "0.680138468018\n",
      "0.700251248919\n",
      "0.700476422775\n"
     ]
    },
    {
     "data": {
      "text/plain": [
       "0.69769988176087883"
      ]
     },
     "execution_count": 258,
     "metadata": {},
     "output_type": "execute_result"
    }
   ],
   "source": [
    "shuffle(diags)\n",
    "cv(diags, folds=20, params=param, rules=True)"
   ]
  },
  {
   "cell_type": "code",
   "execution_count": 133,
   "metadata": {},
   "outputs": [
    {
     "data": {
      "text/plain": [
       "Series([], dtype: float64)"
      ]
     },
     "execution_count": 133,
     "metadata": {},
     "output_type": "execute_result"
    }
   ],
   "source": [
    "syntax_stats(diags[3],\"Bob\")"
   ]
  },
  {
   "cell_type": "code",
   "execution_count": 185,
   "metadata": {},
   "outputs": [
    {
     "data": {
      "text/plain": [
       "True"
      ]
     },
     "execution_count": 185,
     "metadata": {},
     "output_type": "execute_result"
    }
   ],
   "source": [
    "is_bot_pasha(diags[10],\"Alice\")"
   ]
  },
  {
   "cell_type": "code",
   "execution_count": 186,
   "metadata": {},
   "outputs": [
    {
     "data": {
      "text/plain": [
       "2107312123"
      ]
     },
     "execution_count": 186,
     "metadata": {},
     "output_type": "execute_result"
    }
   ],
   "source": [
    "diags[10][\"dialogId\"]"
   ]
  },
  {
   "cell_type": "markdown",
   "metadata": {},
   "source": [
    "## Weighted sum"
   ]
  },
  {
   "cell_type": "code",
   "execution_count": 495,
   "metadata": {},
   "outputs": [],
   "source": [
    "all_features = make_features(diags, True)"
   ]
  },
  {
   "cell_type": "code",
   "execution_count": 410,
   "metadata": {
    "collapsed": true
   },
   "outputs": [],
   "source": [
    "train_dialogs = list(set(all_features[\"dialogId\"]) & set(p_train[\"dialog_id\"]))\n",
    "test_dialogs = list(set(all_features[\"dialogId\"]) & set(p_test[\"dialog_id\"]))"
   ]
  },
  {
   "cell_type": "code",
   "execution_count": 411,
   "metadata": {
    "collapsed": true
   },
   "outputs": [],
   "source": [
    "train_set = pd.merge(all_features[all_features.dialogId.isin(train_dialogs)], p_train, how=\"inner\",  left_on=[\"dialogId\",\"user\",\"label\"], right_on=[\"dialog_id\",\"user\",\"label\"])\n",
    "test_set = pd.merge(all_features[all_features.dialogId.isin(test_dialogs)], p_test, how=\"inner\",  left_on=[\"dialogId\",\"user\",\"label\"], right_on=[\"dialog_id\",\"user\",\"label\"])"
   ]
  },
  {
   "cell_type": "code",
   "execution_count": 414,
   "metadata": {},
   "outputs": [],
   "source": [
    "to_drop = [\"is_bot_other\"]\n",
    "# to_drop = [\"score\",\"is_bot\",\"is_bot_other\",\"score_other\"]\n",
    "\n",
    "label_column = train_set[\"label\"]\n",
    "features = train_set.drop([\"label\", \"dialogId\", \"user\", \"dialog_id\",\"is_bot_real\"] + to_drop , axis=1)\n",
    "\n",
    "dtrain = xgb.DMatrix(features.values, label_column.values, feature_names=features.columns)\n",
    "bstP = xgb.train(param, dtrain, num_boost_round=120)"
   ]
  },
  {
   "cell_type": "code",
   "execution_count": 369,
   "metadata": {},
   "outputs": [],
   "source": [
    "test_dialogs_content = filter(lambda x: x[\"dialogId\"] in test_dialogs, diags)\n",
    "train_dialogs_content = filter(lambda x: x[\"dialogId\"] in train_dialogs, diags)\n",
    "test_set = test_set.drop([\"dialog_id\",\"is_bot_real\"] + to_drop,axis=1)\n",
    "train_set = train_set.drop([\"dialog_id\",\"is_bot_real\"] + to_drop,axis=1)"
   ]
  },
  {
   "cell_type": "code",
   "execution_count": 371,
   "metadata": {},
   "outputs": [
    {
     "data": {
      "text/plain": [
       "SpearmanrResult(correlation=0.69777021319249433, pvalue=2.938695598372428e-105)"
      ]
     },
     "execution_count": 371,
     "metadata": {},
     "output_type": "execute_result"
    }
   ],
   "source": [
    "correlation(test_dialogs_content, test_set, bst, rules=True)"
   ]
  },
  {
   "cell_type": "code",
   "execution_count": 274,
   "metadata": {},
   "outputs": [
    {
     "data": {
      "text/plain": [
       "SpearmanrResult(correlation=0.72582463986932766, pvalue=6.412737632862228e-113)"
      ]
     },
     "execution_count": 274,
     "metadata": {},
     "output_type": "execute_result"
    }
   ],
   "source": [
    "correlation(test_dialogs_content, test_set, bst, rules=False)"
   ]
  },
  {
   "cell_type": "markdown",
   "metadata": {},
   "source": [
    "## Weighted sum"
   ]
  },
  {
   "cell_type": "code",
   "execution_count": 682,
   "metadata": {},
   "outputs": [
    {
     "name": "stdout",
     "output_type": "stream",
     "text": [
      "0 SpearmanrResult(correlation=0.6601754021835986, pvalue=6.360148932045275e-43)\n",
      "0.1 SpearmanrResult(correlation=0.65103355812147701, pvalue=2.0702300792624811e-41)\n",
      "0.3 SpearmanrResult(correlation=0.62875059100712005, pvalue=6.2052056208790026e-38)\n",
      "0.5 SpearmanrResult(correlation=0.59875232324472594, pvalue=1.1213995961561921e-33)\n",
      "0.8 SpearmanrResult(correlation=0.56768666937357892, pvalue=1.0235020159929194e-29)\n",
      "1 SpearmanrResult(correlation=0.54864398151793592, pvalue=1.7288737621821692e-27)\n",
      "2 SpearmanrResult(correlation=0.49271681279629653, pvalue=1.0432057112298769e-21)\n",
      "5 SpearmanrResult(correlation=0.44172143286990401, pvalue=2.7402978604859894e-17)\n",
      "10 SpearmanrResult(correlation=0.42078141663164603, pvalue=1.1179574248581537e-15)\n",
      "100 SpearmanrResult(correlation=0.39886324803684026, pvalue=4.1531643090352476e-14)\n"
     ]
    }
   ],
   "source": [
    "features = test_set.drop([\"label\",\"user\",\"dialogId\",\"mypred\"], axis=1)\n",
    "dtest = xgb.DMatrix(features.values, feature_names=features.columns)\n",
    "\n",
    "my_preds = bst.predict(dtest)\n",
    "test_set[\"mypred\"] = my_preds\n",
    "\n",
    "for coeff in (0, 0.1, 0.3, 0.5, 0.8, 1, 2, 5, 10, 100):\n",
    "    print coeff, spearmanr(test_set[\"label\"], [m+p*coeff for m,p in zip(my_preds,pasha_scores.fillna(0))])"
   ]
  },
  {
   "cell_type": "code",
   "execution_count": 496,
   "metadata": {
    "collapsed": true
   },
   "outputs": [],
   "source": [
    "all_features.to_csv(\"all_features.csv\")"
   ]
  },
  {
   "cell_type": "code",
   "execution_count": 252,
   "metadata": {},
   "outputs": [
    {
     "data": {
      "text/plain": [
       "self_context_cosine     0.912949\n",
       "other_context_cosine    0.244651\n",
       "dtype: float64"
      ]
     },
     "execution_count": 252,
     "metadata": {},
     "output_type": "execute_result"
    }
   ],
   "source": [
    "context_similarity(diags[2],\"Alice\")"
   ]
  },
  {
   "cell_type": "markdown",
   "metadata": {},
   "source": [
    "## Pasha submit"
   ]
  },
  {
   "cell_type": "code",
   "execution_count": 428,
   "metadata": {
    "collapsed": true
   },
   "outputs": [],
   "source": [
    "evalp = pd.DataFrame.from_csv(\"data/p2/eval.csv\")\n",
    "my_features_eval = make_features(tdoc,False)"
   ]
  },
  {
   "cell_type": "code",
   "execution_count": 429,
   "metadata": {},
   "outputs": [],
   "source": [
    "test_set_eval = pd.merge(my_features_eval, evalp, how=\"inner\",  left_on=[\"dialogId\",\"user\"], right_on=[\"dialog_id\",\"user\"])"
   ]
  },
  {
   "cell_type": "code",
   "execution_count": 432,
   "metadata": {},
   "outputs": [],
   "source": [
    "test_set_eval_feats = test_set_eval.drop([\"label\", \"dialogId\", \"user\", \"dialog_id\",\"is_bot_real\"] + to_drop, axis=1)\n",
    "dtest = xgb.DMatrix(test_set_eval_feats.values, feature_names=test_set_eval_feats.columns)\n",
    "preds = bst.predict(dtest)"
   ]
  },
  {
   "cell_type": "code",
   "execution_count": 433,
   "metadata": {},
   "outputs": [
    {
     "data": {
      "text/plain": [
       "930"
      ]
     },
     "execution_count": 433,
     "metadata": {},
     "output_type": "execute_result"
    }
   ],
   "source": [
    "len(preds)"
   ]
  },
  {
   "cell_type": "code",
   "execution_count": 359,
   "metadata": {},
   "outputs": [
    {
     "data": {
      "text/plain": [
       "SpearmanrResult(correlation=0.90274240878359735, pvalue=6.5730908946472349e-203)"
      ]
     },
     "execution_count": 359,
     "metadata": {},
     "output_type": "execute_result"
    }
   ],
   "source": [
    "spearmanr(preds,my_features_eval[\"label\"])"
   ]
  },
  {
   "cell_type": "code",
   "execution_count": 434,
   "metadata": {},
   "outputs": [],
   "source": [
    "test_set_eval[\"prediction\"] = preds\n",
    "\n",
    "\n",
    "scores = defaultdict(dict)\n",
    "for i in range(0,len(test_set_eval)):\n",
    "    row = test_set_eval.iloc[i]\n",
    "    scores[row[\"dialogId\"]][row[\"user\"]] = row[\"prediction\"]\n",
    "\n",
    "records = []\n",
    "for dialog_id in scores:\n",
    "    records.append((dialog_id,scores[dialog_id][\"Alice\"],scores[dialog_id][\"Bob\"]))\n",
    "\n",
    "res = pd.DataFrame.from_records(records, columns=[\"dialogId\",\"Alice\",\"Bob\"])"
   ]
  },
  {
   "cell_type": "code",
   "execution_count": 435,
   "metadata": {},
   "outputs": [],
   "source": [
    "res.to_csv(\"submit27PP.csv\", index=False)"
   ]
  },
  {
   "cell_type": "code",
   "execution_count": 335,
   "metadata": {},
   "outputs": [
    {
     "data": {
      "text/plain": [
       "(1716, 1716, 1716)"
      ]
     },
     "execution_count": 335,
     "metadata": {},
     "output_type": "execute_result"
    }
   ],
   "source": [
    "len(train_set_eval), len(all_features), len(p)"
   ]
  },
  {
   "cell_type": "code",
   "execution_count": 445,
   "metadata": {},
   "outputs": [
    {
     "data": {
      "text/plain": [
       "<matplotlib.axes._subplots.AxesSubplot at 0x1d756e210>"
      ]
     },
     "execution_count": 445,
     "metadata": {},
     "output_type": "execute_result"
    },
    {
     "data": {
      "image/png": "[encoded data removed]",
      "text/plain": [
       "<matplotlib.figure.Figure at 0x1d756e510>"
      ]
     },
     "metadata": {},
     "output_type": "display_data"
    }
   ],
   "source": [
    "xgb.plot_importance(bst, max_num_features=10)"
   ]
  },
  {
   "cell_type": "code",
   "execution_count": 442,
   "metadata": {
    "collapsed": true
   },
   "outputs": [],
   "source": [
    "good_submit = pd.DataFrame.from_csv(\"submit27rules.csv\")\n",
    "bad_submit = pd.DataFrame.from_csv(\"submit27P.csv\")"
   ]
  },
  {
   "cell_type": "code",
   "execution_count": 443,
   "metadata": {},
   "outputs": [
    {
     "name": "stdout",
     "output_type": "stream",
     "text": [
      "to good SpearmanrResult(correlation=0.75120204037181526, pvalue=1.456533986435211e-85) SpearmanrResult(correlation=0.69738497599953286, pvalue=5.5559833623030811e-69)\n",
      "to bad SpearmanrResult(correlation=0.59609552564356549, pvalue=4.5036265845058551e-46) SpearmanrResult(correlation=0.58935831072688438, pvalue=7.8766575853833381e-45)\n"
     ]
    }
   ],
   "source": [
    "print \"to good\", spearmanr(res[\"Alice\"],good_submit[\"Alice\"]), spearmanr(res[\"Bob\"],good_submit[\"Bob\"])\n",
    "print \"to bad\", spearmanr(res[\"Alice\"],bad_submit[\"Alice\"]), spearmanr(res[\"Bob\"],bad_submit[\"Bob\"])"
   ]
  },
  {
   "cell_type": "code",
   "execution_count": 468,
   "metadata": {
    "collapsed": true
   },
   "outputs": [],
   "source": [
    "lesha_df = pd.DataFrame.from_csv(\"all_predictions_lesha.csv\").reset_index()"
   ]
  },
  {
   "cell_type": "code",
   "execution_count": 471,
   "metadata": {
    "collapsed": true
   },
   "outputs": [],
   "source": [
    "def df_to_submit(df):\n",
    "    scores = defaultdict(dict)\n",
    "    for i in range(0,len(df)):\n",
    "        row = df.iloc[i]\n",
    "        scores[row[\"dialogId\"]][row[\"user\"]] = row[\"prediction\"]\n",
    "        \n",
    "    records = []\n",
    "    for dialog_id in scores:\n",
    "        records.append((dialog_id,scores[dialog_id][\"Alice\"],scores[dialog_id][\"Bob\"]))\n",
    "    \n",
    "    return pd.DataFrame.from_records(records, columns=[\"dialogId\",\"Alice\",\"Bob\"])"
   ]
  },
  {
   "cell_type": "code",
   "execution_count": 472,
   "metadata": {},
   "outputs": [],
   "source": [
    "res = df_to_submit(lesha_df)"
   ]
  },
  {
   "cell_type": "code",
   "execution_count": 452,
   "metadata": {
    "collapsed": true
   },
   "outputs": [],
   "source": [
    "res.to_csv(\"submit_q_minus.csv\",index=False)"
   ]
  },
  {
   "cell_type": "code",
   "execution_count": 456,
   "metadata": {
    "collapsed": true
   },
   "outputs": [],
   "source": [
    "all_features.to_csv(\"all_feats_27.csv\", index=False)"
   ]
  },
  {
   "cell_type": "code",
   "execution_count": 473,
   "metadata": {
    "collapsed": true
   },
   "outputs": [],
   "source": [
    "res.to_csv(\"lesha_submit.csv\",index=False)"
   ]
  },
  {
   "cell_type": "code",
   "execution_count": 501,
   "metadata": {},
   "outputs": [],
   "source": [
    "json.dump(tdoc[:30], open(\"tdoc.json\",\"w\"))"
   ]
  },
  {
   "cell_type": "code",
   "execution_count": null,
   "metadata": {
    "collapsed": true
   },
   "outputs": [],
   "source": []
  }
 ],
 "metadata": {
  "kernelspec": {
   "display_name": "Python 2",
   "language": "python",
   "name": "python2"
  },
  "language_info": {
   "codemirror_mode": {
    "name": "ipython",
    "version": 2
   },
   "file_extension": ".py",
   "mimetype": "text/x-python",
   "name": "python",
   "nbconvert_exporter": "python",
   "pygments_lexer": "ipython2",
   "version": "2.7.10"
  }
 },
 "nbformat": 4,
 "nbformat_minor": 2
}
