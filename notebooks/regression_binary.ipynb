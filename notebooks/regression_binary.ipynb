{
 "cells": [
  {
   "cell_type": "code",
   "execution_count": 1,
   "metadata": {
    "collapsed": true
   },
   "outputs": [],
   "source": [
    "import pandas as pd\n",
    "import numpy as np\n",
    "import xgboost as xgb\n",
    "from sklearn.model_selection import KFold, LeavePOut\n",
    "from scipy.stats import spearmanr\n",
    "from collections import Counter\n",
    "from sklearn.model_selection import train_test_split"
   ]
  },
  {
   "cell_type": "code",
   "execution_count": 2,
   "metadata": {
    "collapsed": true
   },
   "outputs": [],
   "source": [
    "df = pd.DataFrame.from_csv(\"all_features.csv\")"
   ]
  },
  {
   "cell_type": "code",
   "execution_count": 3,
   "metadata": {
    "collapsed": true
   },
   "outputs": [],
   "source": [
    "param = {'eta':0.1, 'max_depth':3, 'min_child_weight':1, 'gamma':0.1,\n",
    "         'silent':0, 'subsample':0.9, 'colsample_bytree': 0.8,  \n",
    "         'objective':'rank:pairwise'}"
   ]
  },
  {
   "cell_type": "code",
   "execution_count": 4,
   "metadata": {
    "collapsed": true
   },
   "outputs": [],
   "source": [
    "param_bin = {'eta':0.1, 'max_depth':3, 'min_child_weight':1, 'gamma':0.1,\n",
    "         'silent':0, 'subsample':0.9, 'colsample_bytree': 0.8,  \n",
    "         'objective':'binary:logistic'}"
   ]
  },
  {
   "cell_type": "code",
   "execution_count": 5,
   "metadata": {
    "collapsed": true
   },
   "outputs": [],
   "source": [
    "def cv(df, folds=20):\n",
    "    scores = []\n",
    "    kf = KFold(folds)\n",
    "    label_column = df[\"label\"]\n",
    "    features = df.drop([\"label\", \"dialogId\", \"user\"], axis=1)\n",
    "    \n",
    "    for train_index, test_index in kf.split(df):\n",
    "        feat_train, feat_test = features.values[train_index], features.values[test_index]\n",
    "        label_train, label_test = label_column.values[train_index], label_column.values[test_index]\n",
    "        \n",
    "        dtrain = xgb.DMatrix(feat_train, label_train, feature_names=features.columns)\n",
    "        bst = xgb.train(param, dtrain, num_boost_round=150)\n",
    "        \n",
    "        dtest = xgb.DMatrix(feat_test, feature_names=features.columns)\n",
    "        preds = bst.predict(dtest)\n",
    "        \n",
    "        scores.append(spearmanr(preds,label_test).correlation)\n",
    "        print scores[-1]\n",
    "    \n",
    "    return np.mean(scores)"
   ]
  },
  {
   "cell_type": "code",
   "execution_count": 6,
   "metadata": {
    "collapsed": true
   },
   "outputs": [],
   "source": [
    "def reg_to_binary(df):\n",
    "    dfa = df.copy()\n",
    "    dfa[\"merge\"] = 1\n",
    "    large_df = pd.merge(dfa,dfa,on=\"merge\")\n",
    "    large_df[\"label\"] = large_df[\"label_x\"] > large_df[\"label_y\"]\n",
    "    large_df = large_df.drop([\"label_x\",\"label_y\"], axis=1)\n",
    "    \n",
    "    return large_df"
   ]
  },
  {
   "cell_type": "code",
   "execution_count": 7,
   "metadata": {
    "collapsed": true
   },
   "outputs": [],
   "source": [
    "def fit(df_train):\n",
    "    label_column = df_train[\"label\"]\n",
    "    features = df_train.drop([\"label\",\"dialogId_x\",\"dialogId_y\",\"user_x\",\"user_y\"], axis=1)\n",
    "    \n",
    "    dtrain = xgb.DMatrix(features.values, label_column.values, feature_names=features.columns)\n",
    "    bst = xgb.train(param_bin, dtrain, num_boost_round=150)\n",
    "    \n",
    "    return bst"
   ]
  },
  {
   "cell_type": "code",
   "execution_count": 15,
   "metadata": {
    "collapsed": true
   },
   "outputs": [],
   "source": [
    "def to_order(df, bst):\n",
    "    features = df.drop([\"label\",\"dialogId_x\",\"dialogId_y\",\"user_x\",\"user_y\"], axis=1)\n",
    "    dtest = xgb.DMatrix(features.values, feature_names=features.columns)\n",
    "    df[\"predict\"] = bst.predict(dtest)\n",
    "    counter = Counter()\n",
    "    \n",
    "    for i in range(0, len(df)):\n",
    "        row = df.iloc[i]\n",
    "        counter[(row[\"dialogId_x\"],row[\"user_x\"])] += row[\"predict\"]\n",
    "    \n",
    "    return [x[0] for x in counter.most_common(len(counter))]"
   ]
  },
  {
   "cell_type": "code",
   "execution_count": 16,
   "metadata": {
    "collapsed": true
   },
   "outputs": [],
   "source": [
    "def order_to_scores(pairs):\n",
    "    records = []\n",
    "    for i,(d,u) in enumerate(pairs):\n",
    "        records.append((d,u,i))\n",
    "    \n",
    "    return pd.DataFrame.from_records(records, columns=[\"dialogId\",\"user\",\"score\"])"
   ]
  },
  {
   "cell_type": "code",
   "execution_count": 17,
   "metadata": {
    "collapsed": true
   },
   "outputs": [],
   "source": [
    "train_df, test_df = train_test_split(df)"
   ]
  },
  {
   "cell_type": "code",
   "execution_count": null,
   "metadata": {},
   "outputs": [],
   "source": [
    "bst = fit(reg_to_binary(train_df[:600]))"
   ]
  },
  {
   "cell_type": "code",
   "execution_count": null,
   "metadata": {},
   "outputs": [],
   "source": [
    "order = to_order(reg_to_binary(test_df[:200]), bst)"
   ]
  },
  {
   "cell_type": "code",
   "execution_count": null,
   "metadata": {},
   "outputs": [],
   "source": [
    "res = order_to_scores(order)"
   ]
  },
  {
   "cell_type": "code",
   "execution_count": null,
   "metadata": {
    "collapsed": true
   },
   "outputs": [],
   "source": [
    "mg = pd.merge(res,test_df, on=[\"dialogId\",\"user\"])"
   ]
  },
  {
   "cell_type": "code",
   "execution_count": null,
   "metadata": {},
   "outputs": [],
   "source": [
    "spearmanr(mg[\"label\"],mg[\"score\"])"
   ]
  },
  {
   "cell_type": "code",
   "execution_count": 29,
   "metadata": {},
   "outputs": [
    {
     "data": {
      "text/plain": [
       "429"
      ]
     },
     "execution_count": 29,
     "metadata": {},
     "output_type": "execute_result"
    }
   ],
   "source": [
    "len(test_df)"
   ]
  },
  {
   "cell_type": "code",
   "execution_count": null,
   "metadata": {
    "collapsed": true
   },
   "outputs": [],
   "source": []
  }
 ],
 "metadata": {
  "kernelspec": {
   "display_name": "Python 2",
   "language": "python",
   "name": "python2"
  },
  "language_info": {
   "codemirror_mode": {
    "name": "ipython",
    "version": 2
   },
   "file_extension": ".py",
   "mimetype": "text/x-python",
   "name": "python",
   "nbconvert_exporter": "python",
   "pygments_lexer": "ipython2",
   "version": "2.7.10"
  }
 },
 "nbformat": 4,
 "nbformat_minor": 2
}
