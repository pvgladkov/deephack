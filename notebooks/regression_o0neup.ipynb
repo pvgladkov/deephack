{
 "cells": [
  {
   "cell_type": "code",
   "execution_count": 47,
   "metadata": {
    "collapsed": false
   },
   "outputs": [],
   "source": [
    "import datetime\n",
    "import itertools\n",
    "import os\n",
    "import copy\n",
    "import json\n",
    "import pandas as pd\n",
    "import numpy as np\n",
    "from turing.features import nlp\n",
    "from turing.features.freq import top_words, top_lemmas, word_counts, lemma_counts\n",
    "import xgboost as xgb\n",
    "from scipy.stats import spearmanr\n",
    "from random import shuffle, randint\n",
    "import matplotlib.pyplot as plt\n",
    "\n",
    "import matplotlib.pyplot as plt\n",
    "from sklearn.metrics.pairwise import cosine_similarity, linear_kernel, polynomial_kernel, rbf_kernel, chi2_kernel, additive_chi2_kernel, manhattan_distances\n",
    "\n",
    "from sklearn.feature_extraction.text import CountVectorizer, TfidfVectorizer\n",
    "\n",
    "from turing import DATA_DIR"
   ]
  },
  {
   "cell_type": "code",
   "execution_count": 2,
   "metadata": {
    "collapsed": false
   },
   "outputs": [
    {
     "name": "stderr",
     "output_type": "stream",
     "text": [
      "/Users/artemkorkhov/Projects/envs/kaggle/lib/python2.7/site-packages/traitlets/traitlets.py:811: DeprecationWarning: A parent of InlineBackend._config_changed has adopted the new (traitlets 4.1) @observe(change) API\n",
      "  clsname, change_or_name), DeprecationWarning)\n",
      "/Users/artemkorkhov/Projects/envs/kaggle/lib/python2.7/site-packages/ipykernel/eventloops.py:14: DeprecationWarning: `IPython.lib.inputhook` is deprecated since IPython 5.0 and will be removed in future versions.\n",
      "  from IPython.lib.inputhook import _use_appnope\n",
      "/Users/artemkorkhov/Projects/envs/kaggle/lib/python2.7/site-packages/IPython/lib/inputhook.py:327: DeprecationWarning: `register` is deprecated since IPython 5.0 and will be removed in future versions.\n",
      "  @inputhook_manager.register('osx')\n",
      "/Users/artemkorkhov/Projects/envs/kaggle/lib/python2.7/site-packages/IPython/lib/inputhook.py:336: DeprecationWarning: `register` is deprecated since IPython 5.0 and will be removed in future versions.\n",
      "  @inputhook_manager.register('wx')\n",
      "/Users/artemkorkhov/Projects/envs/kaggle/lib/python2.7/site-packages/IPython/lib/inputhook.py:398: DeprecationWarning: `register` is deprecated since IPython 5.0 and will be removed in future versions.\n",
      "  @inputhook_manager.register('qt', 'qt4')\n",
      "/Users/artemkorkhov/Projects/envs/kaggle/lib/python2.7/site-packages/IPython/lib/inputhook.py:449: DeprecationWarning: `register` is deprecated since IPython 5.0 and will be removed in future versions.\n",
      "  @inputhook_manager.register('qt5')\n",
      "/Users/artemkorkhov/Projects/envs/kaggle/lib/python2.7/site-packages/IPython/lib/inputhook.py:458: DeprecationWarning: `register` is deprecated since IPython 5.0 and will be removed in future versions.\n",
      "  @inputhook_manager.register('gtk')\n",
      "/Users/artemkorkhov/Projects/envs/kaggle/lib/python2.7/site-packages/IPython/lib/inputhook.py:489: DeprecationWarning: `register` is deprecated since IPython 5.0 and will be removed in future versions.\n",
      "  @inputhook_manager.register('tk')\n",
      "/Users/artemkorkhov/Projects/envs/kaggle/lib/python2.7/site-packages/IPython/lib/inputhook.py:522: DeprecationWarning: `register` is deprecated since IPython 5.0 and will be removed in future versions.\n",
      "  @inputhook_manager.register('glut')\n",
      "/Users/artemkorkhov/Projects/envs/kaggle/lib/python2.7/site-packages/IPython/lib/inputhook.py:596: DeprecationWarning: `register` is deprecated since IPython 5.0 and will be removed in future versions.\n",
      "  @inputhook_manager.register('pyglet')\n",
      "/Users/artemkorkhov/Projects/envs/kaggle/lib/python2.7/site-packages/IPython/lib/inputhook.py:624: DeprecationWarning: `register` is deprecated since IPython 5.0 and will be removed in future versions.\n",
      "  @inputhook_manager.register('gtk3')\n"
     ]
    }
   ],
   "source": [
    "%matplotlib inline\n",
    "plt.rcParams[\"figure.figsize\"] = (30,15)"
   ]
  },
  {
   "cell_type": "code",
   "execution_count": 3,
   "metadata": {
    "collapsed": false
   },
   "outputs": [
    {
     "data": {
      "text/plain": [
       "'0.6'"
      ]
     },
     "execution_count": 3,
     "metadata": {},
     "output_type": "execute_result"
    }
   ],
   "source": [
    "xgb.__version__"
   ]
  },
  {
   "cell_type": "code",
   "execution_count": 4,
   "metadata": {
    "collapsed": true
   },
   "outputs": [],
   "source": [
    "def load_dialog(datestring):\n",
    "    with open(os.path.join(DATA_DIR, \"onsite\", \"train_{}.json\".format(datestring))) as f:\n",
    "        doc = json.load(f)\n",
    "        for d in doc:\n",
    "            d[\"date\"] = datestring\n",
    "        \n",
    "        return doc"
   ]
  },
  {
   "cell_type": "code",
   "execution_count": 5,
   "metadata": {
    "collapsed": false
   },
   "outputs": [],
   "source": [
    "# doc = json.load(open(os.path.join(DATA_DIR, \"onsite\", \"train_20170724.json\")))\n",
    "# doc2 = json.load(open(os.path.join(DATA_DIR, \"onsite\", \"train_20170725.json\")))\n",
    "# # doc3 = json.load(open(os.path.join(DATA_DIR, \"onsite\", \"train_20170726.json\")))\n",
    "\n",
    "# diags = doc + doc2\n",
    "diags = []\n",
    "\n",
    "days = [\"20170724\", \"20170725\", \"20170726\"]\n",
    "# days = [\"20170724\", \"20170725\"]\n",
    "\n",
    "for day in days:\n",
    "    diags.extend(load_dialog(day))"
   ]
  },
  {
   "cell_type": "code",
   "execution_count": 6,
   "metadata": {
    "collapsed": false
   },
   "outputs": [
    {
     "data": {
      "text/plain": [
       "{u'context': u\"Detroit (/d\\u1d7b\\u02c8tr\\u0254\\u026at/) is the most populous city in the U.S. state of Michigan, the fourth-largest city in the Midwest and the largest city on the United States\\u2013Canada border. It is the seat of Wayne County, the most populous county in the state. Detroit's metropolitan area, known as Metro Detroit, is home to 5.3 million people, making it the fourteenth-most populous metropolitan area in the United States and the second-largest in the Midwestern United States (behind Chicago). It is a major port on the Detroit River, a strait that connects the Great Lakes system to the Saint Lawrence Seaway. The City of Detroit anchors the second-largest economic region in the Midwest, behind Chicago, and the thirteenth-largest in the United States.\",\n",
       " 'date': '20170724',\n",
       " u'dialogId': -709063062,\n",
       " u'evaluation': [{u'quality': 1, u'userId': u'Bob'},\n",
       "  {u'quality': 0, u'userId': u'Alice'}],\n",
       " u'thread': [{u'text': u'I went to States once, I really enjoyed visiting it!\\n',\n",
       "   u'userId': u'Bob'},\n",
       "  {u'text': u'I know, that there was a car production in Detroit',\n",
       "   u'userId': u'Alice'},\n",
       "  {u'text': u'Do you know anyone from Detroit?\\n', u'userId': u'Bob'},\n",
       "  {u'text': u'Nope', u'userId': u'Alice'},\n",
       "  {u'text': u'I have never been to States.\\n', u'userId': u'Bob'},\n",
       "  {u'text': u'But you said that you was there?', u'userId': u'Alice'},\n",
       "  {u'text': u'/start Detroit', u'userId': u'Bob'},\n",
       "  {u'text': u\"Nope, u can't trick me\", u'userId': u'Alice'},\n",
       "  {u'text': u'States seems like a nice place!\\n', u'userId': u'Bob'},\n",
       "  {u'text': u\"Meh, I don't like it\", u'userId': u'Alice'},\n",
       "  {u'text': u\"What's you a?\", u'userId': u'Bob'},\n",
       "  {u'text': u'???', u'userId': u'Alice'},\n",
       "  {u'text': u'/start Detroit', u'userId': u'Bob'},\n",
       "  {u'text': u'So what is Detrot exactly?', u'userId': u'Alice'},\n",
       "  {u'text': u'the seat of Wayne County, the most populous county in the state',\n",
       "   u'userId': u'Bob'},\n",
       "  {u'text': u'is that a city?', u'userId': u'Alice'},\n",
       "  {u'text': u'Metro Detroit', u'userId': u'Bob'},\n",
       "  {u'text': u'How about other US regions?', u'userId': u'Alice'},\n",
       "  {u'text': u'second-largest', u'userId': u'Bob'},\n",
       "  {u'text': u'Do u know anything about Washington DC?', u'userId': u'Alice'},\n",
       "  {u'text': u'It is the seat of Wayne County, the most populous county in the state',\n",
       "   u'userId': u'Bob'},\n",
       "  {u'text': u\"Nope, it isn''t\", u'userId': u'Alice'},\n",
       "  {u'text': u'Do you know where is States?\\n', u'userId': u'Bob'},\n",
       "  {u'text': u\"Yeah, I know. But u don't.\", u'userId': u'Alice'},\n",
       "  {u'text': u'Do you know where is the?\\n', u'userId': u'Bob'},\n",
       "  {u'text': u'What the?', u'userId': u'Alice'},\n",
       "  {u'text': u'/start Detroit', u'userId': u'Bob'},\n",
       "  {u'text': u'U parsed it wrong', u'userId': u'Alice'},\n",
       "  {u'text': u'I went to the once, I really enjoyed visiting it!\\n',\n",
       "   u'userId': u'Bob'},\n",
       "  {u'text': u'Have u heard about Tesla?', u'userId': u'Alice'},\n",
       "  {u'text': u'It is the seat of Wayne County, the most populous county in the state',\n",
       "   u'userId': u'Bob'},\n",
       "  {u'text': u'NOPE IT IS NOT', u'userId': u'Alice'},\n",
       "  {u'text': u'Do you know where is Detroit?\\n', u'userId': u'Bob'},\n",
       "  {u'text': u':(', u'userId': u'Alice'},\n",
       "  {u'text': u'What?', u'userId': u'Bob'},\n",
       "  {u'text': u\"I don't like the way you are answering\", u'userId': u'Alice'},\n",
       "  {u'text': u\"i'm not .\", u'userId': u'Bob'}],\n",
       " u'users': [{u'id': u'Alice', u'userType': u'Human'},\n",
       "  {u'id': u'Bob', u'userType': u'Bot'}]}"
      ]
     },
     "execution_count": 6,
     "metadata": {},
     "output_type": "execute_result"
    }
   ],
   "source": [
    "diags[20]"
   ]
  },
  {
   "cell_type": "code",
   "execution_count": 7,
   "metadata": {
    "collapsed": false
   },
   "outputs": [],
   "source": [
    "ALL_DOCUMENTS = []\n",
    "ALL_CONTEXTS = []\n",
    "ALL_UTTERANCES = []\n",
    "\n",
    "for d in diags:\n",
    "    context = d[\"context\"]\n",
    "    utterances = []\n",
    "    for t in d[\"thread\"]:\n",
    "        utterances.append(t[\"text\"])\n",
    "    ALL_DOCUMENTS.append(context)\n",
    "    ALL_DOCUMENTS.extend(utterances)\n",
    "    \n",
    "    ALL_CONTEXTS.append(context)\n",
    "    ALL_UTTERANCES.extend(utterances)\n",
    "    "
   ]
  },
  {
   "cell_type": "markdown",
   "metadata": {},
   "source": [
    "### Global vocabulary/text collection features"
   ]
  },
  {
   "cell_type": "code",
   "execution_count": 8,
   "metadata": {
    "collapsed": true
   },
   "outputs": [],
   "source": [
    "ANALYZER = \"char\"\n",
    "# ANALYZER = \"word\"\n",
    "NGRAM_RANGE = (2, 2)"
   ]
  },
  {
   "cell_type": "code",
   "execution_count": 9,
   "metadata": {
    "collapsed": true
   },
   "outputs": [],
   "source": [
    "ngrams_count_vectorizer = lambda: CountVectorizer(analyzer=ANALYZER, ngram_range=NGRAM_RANGE)\n",
    "tfidf_vectorizer = lambda: TfidfVectorizer(analyzer=ANALYZER, ngram_range=NGRAM_RANGE)"
   ]
  },
  {
   "cell_type": "code",
   "execution_count": 10,
   "metadata": {
    "collapsed": false
   },
   "outputs": [],
   "source": [
    "all_docs_count_ngrams = ngrams_count_vectorizer().fit(ALL_DOCUMENTS)\n",
    "utterances_count_ngrams = ngrams_count_vectorizer().fit(ALL_UTTERANCES)"
   ]
  },
  {
   "cell_type": "code",
   "execution_count": 11,
   "metadata": {
    "collapsed": true
   },
   "outputs": [],
   "source": [
    "all_docs_tfidf_ngrams = tfidf_vectorizer().fit(ALL_DOCUMENTS)\n",
    "utterances_tfidf_ngrams = tfidf_vectorizer().fit(ALL_UTTERANCES)"
   ]
  },
  {
   "cell_type": "code",
   "execution_count": 12,
   "metadata": {
    "collapsed": false
   },
   "outputs": [],
   "source": [
    "def make_vector_features(mode=\"count\", scope=\"utterance\"):\n",
    "    if mode == \"count\":\n",
    "        if scope == \"all\":\n",
    "            vectorizer = all_docs_count_ngrams\n",
    "        else:\n",
    "            vectorizer = utterances_count_ngrams\n",
    "    else:\n",
    "        if scope == \"all\":\n",
    "            vectorizer = all_docs_tfidf_ngrams\n",
    "        else:\n",
    "            vectorizer = utterances_tfidf_ngrams\n",
    "    \n",
    "    def count_vector_all_replics(diag, user):\n",
    "        self, other = [], []\n",
    "        for msg in diag[\"thread\"]:\n",
    "            if msg[\"userId\"] == user:\n",
    "                self.append(msg[\"text\"])\n",
    "            else:\n",
    "                other.append(msg[\"text\"])\n",
    "\n",
    "        if self and other:\n",
    "            sim_metrics = pd.Series()\n",
    "            self_vec, other_vec = vectorizer.transform([\" \".join(self), \" \".join(other)]).toarray()\n",
    "            self_vec = pd.Series(data=self_vec, index=[\"self_countvec_{}\".format(i) for i in range(0, self_vec.shape[0])])\n",
    "            other_vec = pd.Series(data=other_vec, index=[\"self_countvec_{}\".format(i) for i in range(0, other_vec.shape[0])])\n",
    "\n",
    "#             sim_metrics.append(self_vec)\n",
    "#             sim_metrics.append(other_vec)\n",
    "\n",
    "            self_vec = self_vec.reshape((1,-1))\n",
    "            other_vec = other_vec.reshape((1,-1))\n",
    "            sim_metrics[\"cosine_sim\"] = cosine_similarity(self_vec, other_vec).flatten()[0]\n",
    "#             sim_metrics[\"linear_sim\"] = linear_kernel(self_vec, other_vec)[0]\n",
    "#             sim_metrics[\"polynomial_sim\"] = polynomial_kernel(self_vec, other_vec)[0]\n",
    "            sim_metrics[\"rbf_sim\"] = rbf_kernel(self_vec, other_vec).flatten()[0]\n",
    "#             sim_metrics[\"chi2_sim\"] = chi2_kernel(self_vec, other_vec)[0]\n",
    "            sim_metrics[\"additive_chi2_sim\"] = additive_chi2_kernel(self_vec, other_vec).flatten()[0]\n",
    "#             sim_metrics[\"manhattan_sim\"] = manhattan_distances(self_vec, other_vec)[0]\n",
    "            return sim_metrics\n",
    "        else:\n",
    "            return pd.Series()\n",
    "\n",
    "    return count_vector_all_replics\n",
    "# count_vector_all_replics(diags[2], \"Alice\")"
   ]
  },
  {
   "cell_type": "code",
   "execution_count": null,
   "metadata": {
    "collapsed": true
   },
   "outputs": [],
   "source": []
  },
  {
   "cell_type": "code",
   "execution_count": null,
   "metadata": {
    "collapsed": true
   },
   "outputs": [],
   "source": []
  },
  {
   "cell_type": "markdown",
   "metadata": {},
   "source": [
    "### Utterances helpers"
   ]
  },
  {
   "cell_type": "code",
   "execution_count": 907,
   "metadata": {
    "collapsed": true
   },
   "outputs": [],
   "source": [
    "def is_question(u):\n",
    "    u = u.lower()\n",
    "    return ((\"?\" in u) or \n",
    "            (\"what\" in u) or \n",
    "            (\"why\" in u) or \n",
    "            (\"how\" in u) or \n",
    "            (\"when\" in u) or\n",
    "            (\"do you\" in u) or\n",
    "            (\"did you\" in u) or\n",
    "            (\"have you\" in u))"
   ]
  },
  {
   "cell_type": "code",
   "execution_count": null,
   "metadata": {
    "collapsed": true
   },
   "outputs": [],
   "source": []
  },
  {
   "cell_type": "code",
   "execution_count": null,
   "metadata": {
    "collapsed": true
   },
   "outputs": [],
   "source": []
  },
  {
   "cell_type": "code",
   "execution_count": null,
   "metadata": {
    "collapsed": true
   },
   "outputs": [],
   "source": []
  },
  {
   "cell_type": "markdown",
   "metadata": {},
   "source": [
    "### Other features"
   ]
  },
  {
   "cell_type": "code",
   "execution_count": 13,
   "metadata": {
    "collapsed": true
   },
   "outputs": [],
   "source": [
    "def _get_threads(diag, user):\n",
    "    \"\"\" Return threads of self and other, relative to given user \"\"\"\n",
    "    self_thread = [u[\"text\"] for u in filter(lambda x: x[\"userId\"] == user, diag[\"thread\"])]\n",
    "    other_thread = [u[\"text\"] for u in filter(lambda x: x[\"userId\"] != user, diag[\"thread\"])]\n",
    "    return self_thread, other_thread"
   ]
  },
  {
   "cell_type": "code",
   "execution_count": 14,
   "metadata": {
    "collapsed": true
   },
   "outputs": [],
   "source": [
    "def dataset_day(diag, user):\n",
    "    res = pd.Series()\n",
    "    date = (datetime.datetime.strptime(diag[\"date\"], \"%Y%m%d\") - datetime.datetime(2017, 7, 24)).days\n",
    "    \n",
    "    res[\"dataset_day\"] = date\n",
    "    return res"
   ]
  },
  {
   "cell_type": "code",
   "execution_count": 15,
   "metadata": {
    "collapsed": true
   },
   "outputs": [],
   "source": [
    "def is_bot(diag, user):\n",
    "    text = \" \".join([x[\"text\"] for x in diag[\"thread\"] if x[\"userId\"] == user])\n",
    "    \n",
    "    if len(text) == 0:\n",
    "        return False\n",
    "    \n",
    "    if \"avilable\" in text:\n",
    "        return True\n",
    "    \n",
    "    if \"Hint: first\" in text:\n",
    "        return True\n",
    "    \n",
    "    if \" .\" in text or \" ,\" in text or \" '\" in text:\n",
    "        return True\n",
    "    \n",
    "    if \"\\n\" in text:\n",
    "        return True\n",
    "    \n",
    "    return False"
   ]
  },
  {
   "cell_type": "code",
   "execution_count": 16,
   "metadata": {
    "collapsed": true
   },
   "outputs": [],
   "source": [
    "def get_score(diag, user):\n",
    "    return filter(lambda x: x[\"userId\"] == user, diag[\"evaluation\"])[0][\"quality\"]"
   ]
  },
  {
   "cell_type": "code",
   "execution_count": 17,
   "metadata": {
    "collapsed": true
   },
   "outputs": [],
   "source": [
    "def correlation(diags, bst):\n",
    "    df = make_features(diags, True)\n",
    "    \n",
    "    label_column = df[\"label\"]\n",
    "    features = df.drop([\"label\", \"dialogId\", \"user\"], axis=1)\n",
    "    dtest = xgb.DMatrix(features.values, feature_names=features.columns)\n",
    "    \n",
    "    preds = bst.predict(dtest)\n",
    "    \n",
    "    for i, diag in enumerate(diags):\n",
    "        for j, name in enumerate([\"Alice\", \"Bob\"]):\n",
    "            if is_bot(diag, name):\n",
    "                preds[2*i+j] = 0\n",
    "\n",
    "    df[\"prediction\"] = preds\n",
    "    \n",
    "#     print df[[\"label\",\"prediction\"]]\n",
    "    \n",
    "    return spearmanr(df[\"label\"].values, df[\"prediction\"].values)"
   ]
  },
  {
   "cell_type": "code",
   "execution_count": 18,
   "metadata": {
    "collapsed": true
   },
   "outputs": [],
   "source": [
    "def correlation2(test_diags, test_set, bst):\n",
    "    label_column = test_set[\"label\"]\n",
    "    features = test_set.drop([\"label\", \"dialogId\", \"user\"], axis=1)\n",
    "    dtest = xgb.DMatrix(features.values, feature_names=features.columns)\n",
    "    \n",
    "    preds = bst.predict(dtest)\n",
    "\n",
    "    for i, diag in enumerate(test_diags):\n",
    "        for j, name in enumerate([\"Alice\", \"Bob\"]):\n",
    "            if is_bot(diag, name):\n",
    "                preds[2*i+j] = 0\n",
    "\n",
    "    test_set[\"prediction\"] = preds\n",
    "    \n",
    "    return (\n",
    "        spearmanr(test_set[\"label\"].values, test_set[\"prediction\"].values), \n",
    "        test_set[test_set[\"label\"] != test_set[\"prediction\"]]\n",
    "    )"
   ]
  },
  {
   "cell_type": "code",
   "execution_count": 19,
   "metadata": {
    "collapsed": true
   },
   "outputs": [],
   "source": [
    "def flatten_dialogs(diags):\n",
    "    res = []\n",
    "    for d in diags:\n",
    "        for t in d[\"thread\"]:\n",
    "            if len(t[\"text\"].strip(\" *\")) > 10 and \"\\n\" not in t[\"text\"]:\n",
    "                res.append((d[\"dialogId\"],t[\"userId\"],t[\"text\"].encode(\"utf-8\")))\n",
    "    \n",
    "    return pd.DataFrame.from_records(res, columns=[\"dialogId\",\"userId\",\"text\"])"
   ]
  },
  {
   "cell_type": "markdown",
   "metadata": {},
   "source": [
    "# Features"
   ]
  },
  {
   "cell_type": "code",
   "execution_count": 38,
   "metadata": {
    "collapsed": false
   },
   "outputs": [],
   "source": [
    "df = flatten_dialogs(diags)\n",
    "# df.to_csv(\"data/texts\", sep=\"\\t\",encoding=\"utf-8\")\n",
    "ppl_df = pd.DataFrame.from_csv(os.path.join(DATA_DIR, \"ppl_scores.crash\"), index_col=0).reset_index()\n",
    "ppl_df = pd.concat([df,ppl_df], axis=1)"
   ]
  },
  {
   "cell_type": "code",
   "execution_count": 39,
   "metadata": {
    "collapsed": false
   },
   "outputs": [
    {
     "data": {
      "text/html": [
       "<div>\n",
       "<style>\n",
       "    .dataframe thead tr:only-child th {\n",
       "        text-align: right;\n",
       "    }\n",
       "\n",
       "    .dataframe thead th {\n",
       "        text-align: left;\n",
       "    }\n",
       "\n",
       "    .dataframe tbody tr th {\n",
       "        vertical-align: top;\n",
       "    }\n",
       "</style>\n",
       "<table border=\"1\" class=\"dataframe\">\n",
       "  <thead>\n",
       "    <tr style=\"text-align: right;\">\n",
       "      <th></th>\n",
       "      <th>dialogId</th>\n",
       "      <th>userId</th>\n",
       "      <th>text</th>\n",
       "      <th>logprob</th>\n",
       "      <th>ppl</th>\n",
       "    </tr>\n",
       "  </thead>\n",
       "  <tbody>\n",
       "    <tr>\n",
       "      <th>0</th>\n",
       "      <td>-315877751</td>\n",
       "      <td>Alice</td>\n",
       "      <td>Hi! As for me, I thought Spain got united much...</td>\n",
       "      <td>-8.808901</td>\n",
       "      <td>25377.6000</td>\n",
       "    </tr>\n",
       "    <tr>\n",
       "      <th>1</th>\n",
       "      <td>-155769874</td>\n",
       "      <td>Alice</td>\n",
       "      <td>Who uses the four stages of civil society ?</td>\n",
       "      <td>-19.160430</td>\n",
       "      <td>546.0150</td>\n",
       "    </tr>\n",
       "    <tr>\n",
       "      <th>2</th>\n",
       "      <td>-155769874</td>\n",
       "      <td>Alice</td>\n",
       "      <td>Ehh its incorrect. Hint: first 3 answer letter...</td>\n",
       "      <td>-13.594300</td>\n",
       "      <td>184.3812</td>\n",
       "    </tr>\n",
       "    <tr>\n",
       "      <th>3</th>\n",
       "      <td>-155769874</td>\n",
       "      <td>Bob</td>\n",
       "      <td>What is your name?</td>\n",
       "      <td>-14.510810</td>\n",
       "      <td>68696.9500</td>\n",
       "    </tr>\n",
       "    <tr>\n",
       "      <th>4</th>\n",
       "      <td>-155769874</td>\n",
       "      <td>Alice</td>\n",
       "      <td>Please, speak with me.</td>\n",
       "      <td>-11.921220</td>\n",
       "      <td>955.6641</td>\n",
       "    </tr>\n",
       "  </tbody>\n",
       "</table>\n",
       "</div>"
      ],
      "text/plain": [
       "    dialogId userId                                               text  \\\n",
       "0 -315877751  Alice  Hi! As for me, I thought Spain got united much...   \n",
       "1 -155769874  Alice        Who uses the four stages of civil society ?   \n",
       "2 -155769874  Alice  Ehh its incorrect. Hint: first 3 answer letter...   \n",
       "3 -155769874    Bob                                 What is your name?   \n",
       "4 -155769874  Alice                             Please, speak with me.   \n",
       "\n",
       "     logprob         ppl  \n",
       "0  -8.808901  25377.6000  \n",
       "1 -19.160430    546.0150  \n",
       "2 -13.594300    184.3812  \n",
       "3 -14.510810  68696.9500  \n",
       "4 -11.921220    955.6641  "
      ]
     },
     "execution_count": 39,
     "metadata": {},
     "output_type": "execute_result"
    }
   ],
   "source": [
    "ppl_df.head()"
   ]
  },
  {
   "cell_type": "code",
   "execution_count": 20,
   "metadata": {
    "collapsed": true
   },
   "outputs": [],
   "source": [
    "def ngram_ppl(diag, user):\n",
    "    res = pd.Series()\n",
    "    \n",
    "    res[\"self_ngram_logprob\"] = np.mean(ppl_df[ppl_df.dialogId == diag[\"dialogId\"]][ppl_df.userId == user][\"logprob\"])\n",
    "    res[\"self_ngram_ppl\"] = np.mean(ppl_df[ppl_df.dialogId == diag[\"dialogId\"]][ppl_df.userId == user][\"ppl\"])\n",
    "    res[\"other_ngram_logprob\"] = np.mean(ppl_df[ppl_df.dialogId == diag[\"dialogId\"]][ppl_df.userId != user][\"logprob\"])\n",
    "    res[\"other_ngram_ppl\"] = np.mean(ppl_df[ppl_df.dialogId == diag[\"dialogId\"]][ppl_df.userId != user][\"ppl\"])\n",
    "    \n",
    "    return res"
   ]
  },
  {
   "cell_type": "code",
   "execution_count": 21,
   "metadata": {
    "collapsed": true
   },
   "outputs": [],
   "source": [
    "def lengths(diag, user):\n",
    "    res = pd.Series()\n",
    "    self_thread = filter(lambda x: x[\"userId\"] == user, diag[\"thread\"])\n",
    "    other_thread = filter(lambda x: x[\"userId\"] != user, diag[\"thread\"])\n",
    "    res[\"self_phrases_cnt\"] = len(self_thread)\n",
    "    res[\"other_phrases_cnt\"] = len(other_thread)\n",
    "    \n",
    "    res[\"self_words_cnt\"] = len([w for s in self_thread for w in s])\n",
    "    res[\"other_words_cnt\"] = len([w for s in other_thread for w in s])\n",
    "    \n",
    "    res[\"self_avg_words\"] = 0 if res[\"self_phrases_cnt\"] == 0 else float(res[\"self_words_cnt\"])/res[\"self_phrases_cnt\"] \n",
    "    res[\"other_avg_words\"] = 0 if res[\"other_phrases_cnt\"] == 0 else float(res[\"other_words_cnt\"])/res[\"other_phrases_cnt\"]\n",
    "    \n",
    "    return res"
   ]
  },
  {
   "cell_type": "code",
   "execution_count": 22,
   "metadata": {
    "collapsed": true
   },
   "outputs": [],
   "source": [
    "def context_similarity(diag, user):\n",
    "    context_vector = np.mean([\n",
    "        word.vector for word in nlp(diag[\"context\"])\n",
    "    ], axis=0).reshape((1,-1))\n",
    "    \n",
    "    self_thread = filter(lambda x: x[\"userId\"] == user, diag[\"thread\"])\n",
    "    other_thread = filter(lambda x: x[\"userId\"] != user, diag[\"thread\"])\n",
    "    \n",
    "    if self_thread and other_thread:\n",
    "        self_vector = np.mean([\n",
    "                word.vector for word in nlp(unicode(self_thread[0][\"text\"]))\n",
    "            ],axis=0).reshape((1,-1))\n",
    "\n",
    "        other_vector = np.mean([\n",
    "                word.vector for word in nlp(unicode(other_thread[0][\"text\"]))\n",
    "            ],axis=0).reshape((1,-1))\n",
    "        \n",
    "        res = pd.Series()\n",
    "        \n",
    "        if not any(np.isnan(self_vector).flatten()):\n",
    "            res[\"self_context_cosine\"] = cosine_similarity(self_vector, context_vector).flatten()[0]\n",
    "        else:\n",
    "            res[\"self_context_cosine\"] = 0\n",
    "        if not any(np.isnan(other_vector).flatten()):\n",
    "            res[\"other_context_cosine\"] = cosine_similarity(other_vector, context_vector).flatten()[0]\n",
    "        else:\n",
    "            res[\"other_context_cosine\"] = 0\n",
    "            \n",
    "        return res\n",
    "    else:\n",
    "        return pd.Series()"
   ]
  },
  {
   "cell_type": "code",
   "execution_count": 23,
   "metadata": {
    "collapsed": false
   },
   "outputs": [],
   "source": [
    "def w2v(diag, user):\n",
    "    self_thread = filter(lambda x: x[\"userId\"] == user, diag[\"thread\"])\n",
    "    other_thread = filter(lambda x: x[\"userId\"] != user, diag[\"thread\"])\n",
    "    \n",
    "    res = pd.Series()\n",
    "    \n",
    "    if self_thread and other_thread:\n",
    "        self_vector = np.mean([\n",
    "                word.vector for word in nlp(unicode(\" \".join([x[\"text\"] for x in self_thread])))\n",
    "            ],axis=0)\n",
    "\n",
    "        other_vector = np.mean([\n",
    "                word.vector for word in nlp(unicode(\" \".join([x[\"text\"] for x in other_thread])))\n",
    "            ],axis=0)\n",
    "        \n",
    "        avg_utterances_vector = np.mean([self_vector, other_vector], axis=0)\n",
    "        \n",
    "        context_vector = np.mean([\n",
    "            word.vector for word in nlp(diag[\"context\"])\n",
    "        ], axis=0)\n",
    "\n",
    "        self_ser = pd.Series(data=self_vector, index=[\"self_w2v_{}\".format(i) for i in range(0, self_vector.shape[0])])\n",
    "        other_ser = pd.Series(data=other_vector, index=[\"other_w2v_{}\".format(i) for i in range(0, other_vector.shape[0])])\n",
    "        res = self_ser.append(other_ser)\n",
    "        \n",
    "        self_vector = self_vector.reshape((1,-1))\n",
    "        other_vector = other_vector.reshape((1,-1))\n",
    "        avg_utterances_vector = avg_utterances_vector.reshape((1,-1))\n",
    "        context_vector = context_vector.reshape((1,-1))\n",
    "        \n",
    "        res[\"w2v_sim\"] = cosine_similarity(self_vector, other_vector).flatten()[0]\n",
    "        w2v_sim_ctx_self = cosine_similarity(self_vector, context_vector).flatten()[0]\n",
    "        w2v_sim_ctx_other = cosine_similarity(other_vector, context_vector).flatten()[0]\n",
    "        res[\"w2v_other_better_ctx\"] = w2v_sim_ctx_other / w2v_sim_ctx_self if w2v_sim_ctx_self else 1\n",
    "#         res[\"w2v_sim_ctx_utterances\"] = cosine_similarity(avg_utterances_vector, context_vector)[0]\n",
    "        return res\n",
    "    else:\n",
    "        return pd.Series()"
   ]
  },
  {
   "cell_type": "code",
   "execution_count": 24,
   "metadata": {
    "collapsed": true
   },
   "outputs": [],
   "source": [
    "def questions_count(diag, user):\n",
    "    \"\"\" Counts number of questions in the dialog \"\"\"\n",
    "    self, other = _get_threads(diag, user)\n",
    "    \n",
    "    self_questions = 0\n",
    "    other_questions = 0\n",
    "\n",
    "    for q in self:\n",
    "        if is_question(q):\n",
    "            self_questions += 1\n",
    "    \n",
    "    for q in other:\n",
    "        if is_question(q):\n",
    "            other_questions += 1\n",
    "    \n",
    "    res = pd.Series()\n",
    "    res[\"questions_self\"] = float(self_questions) / len(self) if self else 0\n",
    "    res[\"questions_other\"] = float(other_questions) / len(other) if other else 0\n",
    "    res[\"questions_total\"] = float(self_questions + other_questions) / (len(self) + len(other)) if self and other else 0\n",
    "    return res\n",
    "    "
   ]
  },
  {
   "cell_type": "code",
   "execution_count": 25,
   "metadata": {
    "collapsed": true
   },
   "outputs": [],
   "source": [
    "def token_info_gain(diag, user):\n",
    "    \"\"\" Computes information gain metrics \"\"\"\n",
    "    self, other = _get_threads(diag, user)\n",
    "    \n",
    "    self_tokens = set()\n",
    "    for u in self:\n",
    "        self_tokens.update(u.split(\" \"))\n",
    "    \n",
    "    other_tokens = set()\n",
    "    for u in other:\n",
    "        other_tokens.update(u.split(\" \"))\n",
    "        \n",
    "    total = len(self_tokens) + len(other_tokens)\n",
    "    res = pd.Series()\n",
    "    res[\"extra_tokens_self\"] = (float(len(self_tokens ^ other_tokens)) / total) if total else 0\n",
    "    res[\"extra_tokens_other\"] = (float(len(other_tokens ^ self_tokens)) / total) if total else 0\n",
    "    return res\n",
    "    "
   ]
  },
  {
   "cell_type": "code",
   "execution_count": 26,
   "metadata": {
    "collapsed": true
   },
   "outputs": [],
   "source": [
    "def dialog_flow_metrics(diag, user):\n",
    "    \"\"\" Computes dialog flow metrics \"\"\"\n",
    "    self, other = _get_threads(diag, user)\n",
    "    ctx = diag[\"context\"]\n",
    "    \n",
    "    res = pd.Series()\n",
    "    \n",
    "    avg_ctx = np.mean([\n",
    "        word.vector for word in nlp(ctx)\n",
    "    ], axis=0).reshape((1,-1))\n",
    "    \n",
    "    self_flow = []\n",
    "    other_flow = []\n",
    "    for s, o in itertools.izip_longest(self, other):\n",
    "        if s:\n",
    "            vector = np.mean([word.vector for word in nlp(s)], axis=0).reshape((1,-1))\n",
    "            sim = cosine_similarity(avg_ctx, vector).flatten()[0]\n",
    "            self_flow.append(sim)\n",
    "        else:\n",
    "            self_flow.append(0)\n",
    "        \n",
    "        if o:\n",
    "            vector = np.mean([word.vector for word in nlp(o)], axis=0).reshape((1,-1))\n",
    "            sim = cosine_similarity(avg_ctx, vector).flatten()[0]\n",
    "            other_flow.append(sim)\n",
    "        else:\n",
    "            other_flow.append(0)\n",
    "    \n",
    "    if self_flow and other_flow:\n",
    "        corr = spearmanr(self_flow, other_flow).correlation\n",
    "        res[\"dialog_flow_ctx_corr\"] = corr\n",
    "    return res"
   ]
  },
  {
   "cell_type": "code",
   "execution_count": 27,
   "metadata": {
    "collapsed": true
   },
   "outputs": [],
   "source": [
    "def freq_stat(diag, user):\n",
    "\n",
    "    def topN_count(parsed_text):\n",
    "        return len(filter(lambda x: x.orth_.lower() in top_words, parsed_text))\n",
    "\n",
    "    def topN_count_lemma(parsed_text):\n",
    "        return len(filter(lambda x: x.lemma_ in top_lemmas, parsed_text))\n",
    "\n",
    "    def no_vocab_tokens(parsed_text):\n",
    "        return len(filter(lambda x: x.lemma_ not in lemma_counts, parsed_text))\n",
    "\n",
    "    def avg_index_lemma(parsed_text):\n",
    "        freqs = [freq_idx_lemmas.get(token.lemma_, None) for token in parsed_text]\n",
    "        logs = [math.log(x) for x in filter(lambda x: x, freqs)]\n",
    "        if logs:\n",
    "            return np.mean(logs)\n",
    "        else:\n",
    "            return None\n",
    "\n",
    "    res = pd.Series()\n",
    "    self_thread = filter(lambda x: x[\"userId\"] == user, diag[\"thread\"])\n",
    "    other_thread = filter(lambda x: x[\"userId\"] != user, diag[\"thread\"])\n",
    "    \n",
    "    self_thread = [nlp(unicode(x)) for x in self_thread]\n",
    "    other_thread = [nlp(unicode(x)) for x in other_thread]\n",
    "    \n",
    "    res[\"self_topN_count\"] = np.mean([\n",
    "        topN_count(x) for x in self_thread\n",
    "    ])\n",
    "    res[\"other_topN_count\"] = np.mean([\n",
    "        topN_count(x) for x in other_thread\n",
    "    ])\n",
    "    \n",
    "    res[\"self_no_vocab_tokens\"] = np.mean([\n",
    "        no_vocab_tokens(x) for x in self_thread\n",
    "    ])\n",
    "    res[\"other_no_vocab_tokens\"] = np.mean([\n",
    "        no_vocab_tokens(x) for x in other_thread\n",
    "    ])\n",
    "    \n",
    "    res[\"self_avg_index_lemma\"] = np.mean([\n",
    "        topN_count(x) for x in self_thread\n",
    "    ])\n",
    "    res[\"other_avg_index_lemma\"] = np.mean([\n",
    "        topN_count(x) for x in other_thread\n",
    "    ])\n",
    "    \n",
    "    return res"
   ]
  },
  {
   "cell_type": "code",
   "execution_count": 28,
   "metadata": {
    "collapsed": true
   },
   "outputs": [],
   "source": [
    "def show_model_features(model, num=30):\n",
    "    return sorted(model.get_fscore().items(), key=lambda x: -x[1])[:num]"
   ]
  },
  {
   "cell_type": "code",
   "execution_count": 29,
   "metadata": {
    "collapsed": false
   },
   "outputs": [],
   "source": [
    "def make_features(diags,labeled=False):\n",
    "    observations = []\n",
    "    for d in diags:\n",
    "        for name in (\"Bob\", \"Alice\"):\n",
    "            obs = (\n",
    "                freq_stat(d,name)\n",
    "                    .append(lengths(d,name))\n",
    "                    .append(context_similarity(d,name))\n",
    "                    .append(w2v(d,name))\n",
    "                    .append(make_vector_features(\"count\", \"all\")(d,name))\n",
    "                    .append(dataset_day(d, name))\n",
    "                    .append(token_info_gain(d, name))\n",
    "                    .append(dialog_flow_metrics(d, name))\n",
    "#                     .append(questions_count(d, name))\n",
    "#             .append(ngram_ppl(d,name))\n",
    "            )\n",
    "            \n",
    "            obs[\"user\"] = name\n",
    "            obs[\"dialogId\"] = d[\"dialogId\"]\n",
    "            \n",
    "            if labeled:\n",
    "                obs[\"label\"] = get_score(d,name)\n",
    "            \n",
    "            observations.append(obs)\n",
    "    \n",
    "    return pd.DataFrame(observations)"
   ]
  },
  {
   "cell_type": "code",
   "execution_count": 1003,
   "metadata": {
    "collapsed": true
   },
   "outputs": [],
   "source": [
    "def custom_objective(preds, dtrain):\n",
    "    labels = dtrain.get_label()\n",
    "    \n",
    "    grad = (preds - labels) * (preds > labels)\n",
    "    hess = \n",
    "    return grad, hess"
   ]
  },
  {
   "cell_type": "code",
   "execution_count": 30,
   "metadata": {
    "collapsed": true
   },
   "outputs": [],
   "source": [
    "shuffle(diags)"
   ]
  },
  {
   "cell_type": "code",
   "execution_count": 31,
   "metadata": {
    "collapsed": false
   },
   "outputs": [
    {
     "name": "stderr",
     "output_type": "stream",
     "text": [
      "/Users/artemkorkhov/Projects/envs/kaggle/lib/python2.7/site-packages/numpy/core/fromnumeric.py:2909: RuntimeWarning: Mean of empty slice.\n",
      "  out=out, **kwargs)\n",
      "/Users/artemkorkhov/Projects/envs/kaggle/lib/python2.7/site-packages/numpy/core/_methods.py:80: RuntimeWarning: invalid value encountered in double_scalars\n",
      "  ret = ret.dtype.type(ret / rcount)\n",
      "/Users/artemkorkhov/Projects/envs/kaggle/lib/python2.7/site-packages/numpy/lib/function_base.py:3162: RuntimeWarning: invalid value encountered in true_divide\n",
      "  c /= stddev[:, None]\n",
      "/Users/artemkorkhov/Projects/envs/kaggle/lib/python2.7/site-packages/numpy/lib/function_base.py:3163: RuntimeWarning: invalid value encountered in true_divide\n",
      "  c /= stddev[None, :]\n",
      "/Users/artemkorkhov/Projects/envs/kaggle/lib/python2.7/site-packages/scipy/stats/_distn_infrastructure.py:879: RuntimeWarning: invalid value encountered in greater\n",
      "  return (self.a < x) & (x < self.b)\n",
      "/Users/artemkorkhov/Projects/envs/kaggle/lib/python2.7/site-packages/scipy/stats/_distn_infrastructure.py:879: RuntimeWarning: invalid value encountered in less\n",
      "  return (self.a < x) & (x < self.b)\n",
      "/Users/artemkorkhov/Projects/envs/kaggle/lib/python2.7/site-packages/scipy/stats/_distn_infrastructure.py:1818: RuntimeWarning: invalid value encountered in less_equal\n",
      "  cond2 = cond0 & (x <= self.a)\n",
      "/Users/artemkorkhov/Projects/envs/kaggle/lib/python2.7/site-packages/ipykernel/__main__.py:30: FutureWarning: reshape is deprecated and will raise in a subsequent release. Please use .values.reshape(...) instead\n",
      "/Users/artemkorkhov/Projects/envs/kaggle/lib/python2.7/site-packages/ipykernel/__main__.py:31: FutureWarning: reshape is deprecated and will raise in a subsequent release. Please use .values.reshape(...) instead\n"
     ]
    }
   ],
   "source": [
    "df_feats = make_features(diags, True)"
   ]
  },
  {
   "cell_type": "code",
   "execution_count": 44,
   "metadata": {
    "collapsed": true
   },
   "outputs": [],
   "source": [
    "def cv(diags, df_features, test_ratio=0.2, folds=5, params=None):\n",
    "    scores = []\n",
    "    fails_cv = []    \n",
    "    \n",
    "    for i in range(0,len(diags),len(diags)/folds)[:-1]:\n",
    "        test_set = df_feats[2*i:2*i+2*int(test_ratio*len(diags))]\n",
    "        test_diags = diags[i:i+int(test_ratio*len(diags))]\n",
    "        train_set = pd.concat([df_feats[0:2*i],df_feats[2*i+2*int(test_ratio*len(diags)):]])\n",
    "\n",
    "        label_column = train_set[\"label\"]\n",
    "        features = train_set.drop([\"label\", \"dialogId\", \"user\"], axis=1)\n",
    "\n",
    "        dtrain = xgb.DMatrix(features.values, label_column.values, feature_names=features.columns)\n",
    "        dtrain.set_group([features.shape[0]])\n",
    "        bst = xgb.train(param, dtrain, num_boost_round=150)\n",
    "        corr, fails = correlation2(test_diags, test_set, bst)\n",
    "        scores.append(corr.correlation)\n",
    "        fails_cv.append(fails)\n",
    "#         print scores[-1]\n",
    "        \n",
    "    return np.mean(scores), bst, fails_cv"
   ]
  },
  {
   "cell_type": "code",
   "execution_count": 51,
   "metadata": {
    "collapsed": false
   },
   "outputs": [
    {
     "name": "stdout",
     "output_type": "stream",
     "text": [
      "The history saving thread hit an unexpected error (OperationalError('unable to open database file',)).History will not be written to the database.\n"
     ]
    }
   ],
   "source": [
    "# param = {'eta':0.1, 'max_depth':3, 'min_child_weight':1, 'gamma':0.1,\n",
    "#          'silent':0, 'subsample':0.8, 'colsample_bytree': 0.8,  \n",
    "#          'objective':'reg:linear'}\n",
    "# param = {'eta':0.15, 'max_depth':4, 'min_child_weight':1, 'gamma':0.1,\n",
    "#          'silent':0, 'subsample':0.8, 'colsample_bytree': 0.8, 'n_estimators': 50,\n",
    "#          'objective':'reg:linear', 'eval_metric':'rmse'}\n",
    "param = {'eta':0.15, 'max_depth':8, 'min_child_weight':1, 'gamma':0.1,\n",
    "         'silent':0, 'subsample':0.8, 'colsample_bytree': 0.8, 'n_estimators': 50,\n",
    "         'objective': 'reg:linear', 'eval_metric':'rmse'}"
   ]
  },
  {
   "cell_type": "code",
   "execution_count": null,
   "metadata": {
    "collapsed": true
   },
   "outputs": [],
   "source": []
  },
  {
   "cell_type": "code",
   "execution_count": 40,
   "metadata": {
    "collapsed": true
   },
   "outputs": [],
   "source": [
    "# START: 0.669125953157\n",
    "\n",
    "# param = {'eta':0.1, 'max_depth':4, 'min_child_weight':1, 'gamma':0.1,\n",
    "#          'silent':0, 'subsample':0.8, 'colsample_bytree': 0.8, 'n_estimators': 50,\n",
    "#          'objective':'reg:linear', 'eval_metric':'rmse'}: 0.672739057296\n",
    "\n",
    "# param = {'eta':0.15, 'max_depth':4, 'min_child_weight':1, 'gamma':0.1,\n",
    "#          'silent':0, 'subsample':0.8, 'colsample_bytree': 0.8, 'n_estimators': 50,\n",
    "#          'objective':'reg:linear', 'eval_metric':'rmse'}: 0.673189943236\n",
    "\n"
   ]
  },
  {
   "cell_type": "code",
   "execution_count": 52,
   "metadata": {
    "collapsed": false,
    "scrolled": false
   },
   "outputs": [
    {
     "name": "stdout",
     "output_type": "stream",
     "text": [
      "{'colsample_bytree': 0.8, 'silent': 0, 'eval_metric': 'rmse', 'min_child_weight': 1, 'n_estimators': 20, 'subsample': 0.8, 'eta': 0.1, 'objective': 'reg:linear', 'max_depth': 4, 'gamma': 0.1}\n",
      "0.691654902156 \n",
      "\n",
      "\n",
      "{'colsample_bytree': 0.8, 'silent': 0, 'eval_metric': 'rmse', 'min_child_weight': 1, 'n_estimators': 30, 'subsample': 0.8, 'eta': 0.1, 'objective': 'reg:linear', 'max_depth': 4, 'gamma': 0.1}\n",
      "0.691654902156 \n",
      "\n",
      "\n",
      "{'colsample_bytree': 0.8, 'silent': 0, 'eval_metric': 'rmse', 'min_child_weight': 1, 'n_estimators': 40, 'subsample': 0.8, 'eta': 0.1, 'objective': 'reg:linear', 'max_depth': 4, 'gamma': 0.1}\n",
      "0.691654902156 \n",
      "\n",
      "\n",
      "{'colsample_bytree': 0.8, 'silent': 0, 'eval_metric': 'rmse', 'min_child_weight': 1, 'n_estimators': 50, 'subsample': 0.8, 'eta': 0.1, 'objective': 'reg:linear', 'max_depth': 4, 'gamma': 0.1}\n",
      "0.691654902156 \n",
      "\n",
      "\n",
      "{'colsample_bytree': 0.8, 'silent': 0, 'eval_metric': 'rmse', 'min_child_weight': 1, 'n_estimators': 60, 'subsample': 0.8, 'eta': 0.1, 'objective': 'reg:linear', 'max_depth': 4, 'gamma': 0.1}\n",
      "0.691654902156 \n",
      "\n",
      "\n",
      "{'colsample_bytree': 0.8, 'silent': 0, 'eval_metric': 'rmse', 'min_child_weight': 1, 'n_estimators': 70, 'subsample': 0.8, 'eta': 0.1, 'objective': 'reg:linear', 'max_depth': 4, 'gamma': 0.1}\n",
      "0.691654902156 \n",
      "\n",
      "\n",
      "{'colsample_bytree': 0.8, 'silent': 0, 'eval_metric': 'rmse', 'min_child_weight': 1, 'n_estimators': 20, 'subsample': 0.8, 'eta': 0.2, 'objective': 'reg:linear', 'max_depth': 4, 'gamma': 0.1}\n",
      "0.691654902156 \n",
      "\n",
      "\n",
      "{'colsample_bytree': 0.8, 'silent': 0, 'eval_metric': 'rmse', 'min_child_weight': 1, 'n_estimators': 30, 'subsample': 0.8, 'eta': 0.2, 'objective': 'reg:linear', 'max_depth': 4, 'gamma': 0.1}\n",
      "0.691654902156 \n",
      "\n",
      "\n",
      "{'colsample_bytree': 0.8, 'silent': 0, 'eval_metric': 'rmse', 'min_child_weight': 1, 'n_estimators': 40, 'subsample': 0.8, 'eta': 0.2, 'objective': 'reg:linear', 'max_depth': 4, 'gamma': 0.1}\n",
      "0.691654902156 \n",
      "\n",
      "\n",
      "{'colsample_bytree': 0.8, 'silent': 0, 'eval_metric': 'rmse', 'min_child_weight': 1, 'n_estimators': 50, 'subsample': 0.8, 'eta': 0.2, 'objective': 'reg:linear', 'max_depth': 4, 'gamma': 0.1}\n",
      "0.691654902156 \n",
      "\n",
      "\n",
      "{'colsample_bytree': 0.8, 'silent': 0, 'eval_metric': 'rmse', 'min_child_weight': 1, 'n_estimators': 60, 'subsample': 0.8, 'eta': 0.2, 'objective': 'reg:linear', 'max_depth': 4, 'gamma': 0.1}\n",
      "0.691654902156 \n",
      "\n",
      "\n",
      "{'colsample_bytree': 0.8, 'silent': 0, 'eval_metric': 'rmse', 'min_child_weight': 1, 'n_estimators': 70, 'subsample': 0.8, 'eta': 0.2, 'objective': 'reg:linear', 'max_depth': 4, 'gamma': 0.1}\n",
      "0.691654902156 \n",
      "\n",
      "\n",
      "{'colsample_bytree': 0.8, 'silent': 0, 'eval_metric': 'rmse', 'min_child_weight': 1, 'n_estimators': 20, 'subsample': 0.8, 'eta': 0.3, 'objective': 'reg:linear', 'max_depth': 4, 'gamma': 0.1}\n",
      "0.691654902156 \n",
      "\n",
      "\n",
      "{'colsample_bytree': 0.8, 'silent': 0, 'eval_metric': 'rmse', 'min_child_weight': 1, 'n_estimators': 30, 'subsample': 0.8, 'eta': 0.3, 'objective': 'reg:linear', 'max_depth': 4, 'gamma': 0.1}\n",
      "0.691654902156 \n",
      "\n",
      "\n",
      "{'colsample_bytree': 0.8, 'silent': 0, 'eval_metric': 'rmse', 'min_child_weight': 1, 'n_estimators': 40, 'subsample': 0.8, 'eta': 0.3, 'objective': 'reg:linear', 'max_depth': 4, 'gamma': 0.1}\n"
     ]
    },
    {
     "name": "stderr",
     "output_type": "stream",
     "text": [
      "/Users/artemkorkhov/Projects/envs/kaggle/lib/python2.7/site-packages/ipykernel/__main__.py:13: SettingWithCopyWarning: \n",
      "A value is trying to be set on a copy of a slice from a DataFrame.\n",
      "Try using .loc[row_indexer,col_indexer] = value instead\n",
      "\n",
      "See the caveats in the documentation: http://pandas.pydata.org/pandas-docs/stable/indexing.html#indexing-view-versus-copy\n"
     ]
    },
    {
     "ename": "KeyboardInterrupt",
     "evalue": "",
     "output_type": "error",
     "traceback": [
      "\u001b[0;31m---------------------------------------------------------------------------\u001b[0m",
      "\u001b[0;31mKeyboardInterrupt\u001b[0m                         Traceback (most recent call last)",
      "\u001b[0;32m<ipython-input-52-862ee0ac7c22>\u001b[0m in \u001b[0;36m<module>\u001b[0;34m()\u001b[0m\n\u001b[1;32m     10\u001b[0m             })\n\u001b[1;32m     11\u001b[0m             \u001b[0;32mprint\u001b[0m \u001b[0mp\u001b[0m\u001b[0;34m\u001b[0m\u001b[0m\n\u001b[0;32m---> 12\u001b[0;31m             \u001b[0mres\u001b[0m\u001b[0;34m,\u001b[0m \u001b[0mmodel\u001b[0m\u001b[0;34m,\u001b[0m \u001b[0mfails\u001b[0m \u001b[0;34m=\u001b[0m \u001b[0mcv\u001b[0m\u001b[0;34m(\u001b[0m\u001b[0mdiags\u001b[0m\u001b[0;34m,\u001b[0m \u001b[0mdf_feats\u001b[0m\u001b[0;34m,\u001b[0m \u001b[0mfolds\u001b[0m\u001b[0;34m=\u001b[0m\u001b[0;36m5\u001b[0m\u001b[0;34m,\u001b[0m \u001b[0mparams\u001b[0m\u001b[0;34m=\u001b[0m\u001b[0mp\u001b[0m\u001b[0;34m)\u001b[0m\u001b[0;34m\u001b[0m\u001b[0m\n\u001b[0m\u001b[1;32m     13\u001b[0m             \u001b[0;32mprint\u001b[0m \u001b[0mres\u001b[0m\u001b[0;34m,\u001b[0m \u001b[0;34m'\\n\\n'\u001b[0m\u001b[0;34m\u001b[0m\u001b[0m\n",
      "\u001b[0;32m<ipython-input-44-ec262f490b8d>\u001b[0m in \u001b[0;36mcv\u001b[0;34m(diags, df_features, test_ratio, folds, params)\u001b[0m\n\u001b[1;32m     13\u001b[0m         \u001b[0mdtrain\u001b[0m \u001b[0;34m=\u001b[0m \u001b[0mxgb\u001b[0m\u001b[0;34m.\u001b[0m\u001b[0mDMatrix\u001b[0m\u001b[0;34m(\u001b[0m\u001b[0mfeatures\u001b[0m\u001b[0;34m.\u001b[0m\u001b[0mvalues\u001b[0m\u001b[0;34m,\u001b[0m \u001b[0mlabel_column\u001b[0m\u001b[0;34m.\u001b[0m\u001b[0mvalues\u001b[0m\u001b[0;34m,\u001b[0m \u001b[0mfeature_names\u001b[0m\u001b[0;34m=\u001b[0m\u001b[0mfeatures\u001b[0m\u001b[0;34m.\u001b[0m\u001b[0mcolumns\u001b[0m\u001b[0;34m)\u001b[0m\u001b[0;34m\u001b[0m\u001b[0m\n\u001b[1;32m     14\u001b[0m         \u001b[0mdtrain\u001b[0m\u001b[0;34m.\u001b[0m\u001b[0mset_group\u001b[0m\u001b[0;34m(\u001b[0m\u001b[0;34m[\u001b[0m\u001b[0mfeatures\u001b[0m\u001b[0;34m.\u001b[0m\u001b[0mshape\u001b[0m\u001b[0;34m[\u001b[0m\u001b[0;36m0\u001b[0m\u001b[0;34m]\u001b[0m\u001b[0;34m]\u001b[0m\u001b[0;34m)\u001b[0m\u001b[0;34m\u001b[0m\u001b[0m\n\u001b[0;32m---> 15\u001b[0;31m         \u001b[0mbst\u001b[0m \u001b[0;34m=\u001b[0m \u001b[0mxgb\u001b[0m\u001b[0;34m.\u001b[0m\u001b[0mtrain\u001b[0m\u001b[0;34m(\u001b[0m\u001b[0mparam\u001b[0m\u001b[0;34m,\u001b[0m \u001b[0mdtrain\u001b[0m\u001b[0;34m,\u001b[0m \u001b[0mnum_boost_round\u001b[0m\u001b[0;34m=\u001b[0m\u001b[0;36m150\u001b[0m\u001b[0;34m)\u001b[0m\u001b[0;34m\u001b[0m\u001b[0m\n\u001b[0m\u001b[1;32m     16\u001b[0m         \u001b[0mcorr\u001b[0m\u001b[0;34m,\u001b[0m \u001b[0mfails\u001b[0m \u001b[0;34m=\u001b[0m \u001b[0mcorrelation2\u001b[0m\u001b[0;34m(\u001b[0m\u001b[0mtest_diags\u001b[0m\u001b[0;34m,\u001b[0m \u001b[0mtest_set\u001b[0m\u001b[0;34m,\u001b[0m \u001b[0mbst\u001b[0m\u001b[0;34m)\u001b[0m\u001b[0;34m\u001b[0m\u001b[0m\n\u001b[1;32m     17\u001b[0m         \u001b[0mscores\u001b[0m\u001b[0;34m.\u001b[0m\u001b[0mappend\u001b[0m\u001b[0;34m(\u001b[0m\u001b[0mcorr\u001b[0m\u001b[0;34m.\u001b[0m\u001b[0mcorrelation\u001b[0m\u001b[0;34m)\u001b[0m\u001b[0;34m\u001b[0m\u001b[0m\n",
      "\u001b[0;32m/Users/artemkorkhov/Projects/xgboost/python-package/xgboost/training.py\u001b[0m in \u001b[0;36mtrain\u001b[0;34m(params, dtrain, num_boost_round, evals, obj, feval, maximize, early_stopping_rounds, evals_result, verbose_eval, xgb_model, callbacks, learning_rates)\u001b[0m\n\u001b[1;32m    202\u001b[0m                            \u001b[0mevals\u001b[0m\u001b[0;34m=\u001b[0m\u001b[0mevals\u001b[0m\u001b[0;34m,\u001b[0m\u001b[0;34m\u001b[0m\u001b[0m\n\u001b[1;32m    203\u001b[0m                            \u001b[0mobj\u001b[0m\u001b[0;34m=\u001b[0m\u001b[0mobj\u001b[0m\u001b[0;34m,\u001b[0m \u001b[0mfeval\u001b[0m\u001b[0;34m=\u001b[0m\u001b[0mfeval\u001b[0m\u001b[0;34m,\u001b[0m\u001b[0;34m\u001b[0m\u001b[0m\n\u001b[0;32m--> 204\u001b[0;31m                            xgb_model=xgb_model, callbacks=callbacks)\n\u001b[0m\u001b[1;32m    205\u001b[0m \u001b[0;34m\u001b[0m\u001b[0m\n\u001b[1;32m    206\u001b[0m \u001b[0;34m\u001b[0m\u001b[0m\n",
      "\u001b[0;32m/Users/artemkorkhov/Projects/xgboost/python-package/xgboost/training.py\u001b[0m in \u001b[0;36m_train_internal\u001b[0;34m(params, dtrain, num_boost_round, evals, obj, feval, xgb_model, callbacks)\u001b[0m\n\u001b[1;32m     72\u001b[0m         \u001b[0;31m# Skip the first update if it is a recovery step.\u001b[0m\u001b[0;34m\u001b[0m\u001b[0;34m\u001b[0m\u001b[0m\n\u001b[1;32m     73\u001b[0m         \u001b[0;32mif\u001b[0m \u001b[0mversion\u001b[0m \u001b[0;34m%\u001b[0m \u001b[0;36m2\u001b[0m \u001b[0;34m==\u001b[0m \u001b[0;36m0\u001b[0m\u001b[0;34m:\u001b[0m\u001b[0;34m\u001b[0m\u001b[0m\n\u001b[0;32m---> 74\u001b[0;31m             \u001b[0mbst\u001b[0m\u001b[0;34m.\u001b[0m\u001b[0mupdate\u001b[0m\u001b[0;34m(\u001b[0m\u001b[0mdtrain\u001b[0m\u001b[0;34m,\u001b[0m \u001b[0mi\u001b[0m\u001b[0;34m,\u001b[0m \u001b[0mobj\u001b[0m\u001b[0;34m)\u001b[0m\u001b[0;34m\u001b[0m\u001b[0m\n\u001b[0m\u001b[1;32m     75\u001b[0m             \u001b[0mbst\u001b[0m\u001b[0;34m.\u001b[0m\u001b[0msave_rabit_checkpoint\u001b[0m\u001b[0;34m(\u001b[0m\u001b[0;34m)\u001b[0m\u001b[0;34m\u001b[0m\u001b[0m\n\u001b[1;32m     76\u001b[0m             \u001b[0mversion\u001b[0m \u001b[0;34m+=\u001b[0m \u001b[0;36m1\u001b[0m\u001b[0;34m\u001b[0m\u001b[0m\n",
      "\u001b[0;32m/Users/artemkorkhov/Projects/xgboost/python-package/xgboost/core.py\u001b[0m in \u001b[0;36mupdate\u001b[0;34m(self, dtrain, iteration, fobj)\u001b[0m\n\u001b[1;32m    884\u001b[0m         \u001b[0;32mif\u001b[0m \u001b[0mfobj\u001b[0m \u001b[0;32mis\u001b[0m \u001b[0mNone\u001b[0m\u001b[0;34m:\u001b[0m\u001b[0;34m\u001b[0m\u001b[0m\n\u001b[1;32m    885\u001b[0m             _check_call(_LIB.XGBoosterUpdateOneIter(self.handle, ctypes.c_int(iteration),\n\u001b[0;32m--> 886\u001b[0;31m                                                     dtrain.handle))\n\u001b[0m\u001b[1;32m    887\u001b[0m         \u001b[0;32melse\u001b[0m\u001b[0;34m:\u001b[0m\u001b[0;34m\u001b[0m\u001b[0m\n\u001b[1;32m    888\u001b[0m             \u001b[0mpred\u001b[0m \u001b[0;34m=\u001b[0m \u001b[0mself\u001b[0m\u001b[0;34m.\u001b[0m\u001b[0mpredict\u001b[0m\u001b[0;34m(\u001b[0m\u001b[0mdtrain\u001b[0m\u001b[0;34m)\u001b[0m\u001b[0;34m\u001b[0m\u001b[0m\n",
      "\u001b[0;31mKeyboardInterrupt\u001b[0m: "
     ]
    }
   ],
   "source": [
    "#+context_similarity\n",
    "for md in [4,8,12]:\n",
    "    for eta in [0.1, 0.2, 0.3]:\n",
    "        for n_est in [20, 30,40,50,60, 70]:\n",
    "            p = copy.copy(param)\n",
    "            p.update({\n",
    "                'max_depth': md,\n",
    "                'eta': eta,\n",
    "                'n_estimators': n_est\n",
    "            })\n",
    "            print p\n",
    "            res, model, fails = cv(diags, df_feats, folds=5, params=p)\n",
    "            print res, '\\n\\n'"
   ]
  },
  {
   "cell_type": "code",
   "execution_count": null,
   "metadata": {
    "collapsed": true
   },
   "outputs": [],
   "source": []
  },
  {
   "cell_type": "code",
   "execution_count": 805,
   "metadata": {
    "collapsed": false
   },
   "outputs": [
    {
     "name": "stderr",
     "output_type": "stream",
     "text": [
      "/Users/artemkorkhov/Projects/envs/kaggle/lib/python2.7/site-packages/ipykernel/__main__.py:30: FutureWarning: reshape is deprecated and will raise in a subsequent release. Please use .values.reshape(...) instead\n",
      "/Users/artemkorkhov/Projects/envs/kaggle/lib/python2.7/site-packages/ipykernel/__main__.py:31: FutureWarning: reshape is deprecated and will raise in a subsequent release. Please use .values.reshape(...) instead\n"
     ]
    }
   ],
   "source": [
    "test_diags = load_dialog(\"20170726\")\n",
    "test_set = make_features(test_diags, True)\n",
    "\n",
    "res = correlation2(test_diags, test_set, model)"
   ]
  },
  {
   "cell_type": "code",
   "execution_count": 806,
   "metadata": {
    "collapsed": false
   },
   "outputs": [
    {
     "data": {
      "text/plain": [
       "(SpearmanrResult(correlation=0.40748362869971538, pvalue=2.0499227336345831e-23),\n",
       "      additive_chi2_sim  cosine_sim  dataset_day    dialogId  \\\n",
       " 0          -177.088034    0.563971          2.0   524099220   \n",
       " 1          -177.088034    0.563971          2.0   524099220   \n",
       " 2          -159.415466    0.534078          2.0  1721190162   \n",
       " 4          -173.782540    0.624292          2.0 -1952432306   \n",
       " 7           -87.666667    0.158193          2.0   190425739   \n",
       " 8                  NaN         NaN          2.0 -1397268762   \n",
       " 9                  NaN         NaN          2.0 -1397268762   \n",
       " 10         -141.361905    0.521311          2.0    69154797   \n",
       " 11         -141.361905    0.521311          2.0    69154797   \n",
       " 13         -217.204762    0.500918          2.0   314998699   \n",
       " 15         -111.104762    0.404853          2.0 -1482843909   \n",
       " 16         -205.475783    0.646677          2.0  1573121824   \n",
       " 17         -205.475783    0.646677          2.0  1573121824   \n",
       " 18         -158.302020    0.705163          2.0 -1373124363   \n",
       " 19         -158.302020    0.705163          2.0 -1373124363   \n",
       " 20                 NaN         NaN          2.0   470978068   \n",
       " 21                 NaN         NaN          2.0   470978068   \n",
       " 22                 NaN         NaN          2.0 -1285362139   \n",
       " 23                 NaN         NaN          2.0 -1285362139   \n",
       " 24          -48.000000    0.042295          2.0   105244478   \n",
       " 25          -48.000000    0.042295          2.0   105244478   \n",
       " 26         -175.704762    0.496704          2.0  1219840152   \n",
       " 27         -175.704762    0.496704          2.0  1219840152   \n",
       " 28         -236.467371    0.785082          2.0  -684111979   \n",
       " 30                 NaN         NaN          2.0 -1349626163   \n",
       " 31                 NaN         NaN          2.0 -1349626163   \n",
       " 32                 NaN         NaN          2.0 -1040938807   \n",
       " 33                 NaN         NaN          2.0 -1040938807   \n",
       " 34         -181.342857    0.407346          2.0 -1374300182   \n",
       " 35         -181.342857    0.407346          2.0 -1374300182   \n",
       " ..                 ...         ...          ...         ...   \n",
       " 515        -136.200000    0.576387          2.0   996087594   \n",
       " 516         -42.000000    0.050965          2.0  -679755592   \n",
       " 517         -42.000000    0.050965          2.0  -679755592   \n",
       " 519        -250.297299    0.717083          2.0  2140929685   \n",
       " 520        -110.200000    0.366896          2.0   216322377   \n",
       " 521        -110.200000    0.366896          2.0   216322377   \n",
       " 522        -485.065647    0.778402          2.0   161749805   \n",
       " 523        -485.065647    0.778402          2.0   161749805   \n",
       " 525        -102.466667    0.215866          2.0   864295726   \n",
       " 526        -197.465324    0.504452          2.0   369023098   \n",
       " 527        -197.465324    0.504452          2.0   369023098   \n",
       " 528                NaN         NaN          2.0  1921152663   \n",
       " 529                NaN         NaN          2.0  1921152663   \n",
       " 531        -206.436391    0.546158          2.0   609519032   \n",
       " 532                NaN         NaN          2.0 -1750643456   \n",
       " 533                NaN         NaN          2.0 -1750643456   \n",
       " 534         -38.000000    0.384111          2.0  -280622655   \n",
       " 535         -38.000000    0.384111          2.0  -280622655   \n",
       " 537        -212.377778    0.504137          2.0  -555822037   \n",
       " 538         -68.200000    0.458720          2.0  1437853221   \n",
       " 539         -68.200000    0.458720          2.0  1437853221   \n",
       " 540        -293.188301    0.581492          2.0 -1107939895   \n",
       " 541        -293.188301    0.581492          2.0 -1107939895   \n",
       " 542        -138.911111    0.488085          2.0   431616465   \n",
       " 543        -138.911111    0.488085          2.0   431616465   \n",
       " 544        -174.991270    0.712281          2.0  1026766432   \n",
       " 546                NaN         NaN          2.0   312653596   \n",
       " 547                NaN         NaN          2.0   312653596   \n",
       " 548                NaN         NaN          2.0   465005490   \n",
       " 549                NaN         NaN          2.0   465005490   \n",
       " \n",
       "      dialog_flow_ctx_corr  extra_tokens_other  extra_tokens_self  label  \\\n",
       " 0               -0.004202            0.746479           0.746479      4   \n",
       " 1               -0.004202            0.746479           0.746479      1   \n",
       " 2                0.290957            0.853659           0.853659      1   \n",
       " 4               -0.378151            0.836066           0.836066      4   \n",
       " 7                1.000000            1.000000           1.000000      2   \n",
       " 8                     NaN            1.000000           1.000000      1   \n",
       " 9                     NaN            1.000000           1.000000      0   \n",
       " 10               0.600000            0.884615           0.884615      5   \n",
       " 11               0.600000            0.884615           0.884615      4   \n",
       " 13               0.974679            0.928571           0.928571      1   \n",
       " 15              -0.666737            0.885714           0.885714      3   \n",
       " 16               0.535714            0.826087           0.826087      0   \n",
       " 17               0.535714            0.826087           0.826087      3   \n",
       " 18              -0.210819            0.791045           0.791045      5   \n",
       " 19              -0.210819            0.791045           0.791045      1   \n",
       " 20                    NaN            1.000000           1.000000      0   \n",
       " 21                    NaN            1.000000           1.000000      1   \n",
       " 22                    NaN            1.000000           1.000000      0   \n",
       " 23                    NaN            1.000000           1.000000      1   \n",
       " 24                    NaN            1.000000           1.000000      3   \n",
       " 25                    NaN            1.000000           1.000000      0   \n",
       " 26               0.800000            0.921569           0.921569      5   \n",
       " 27               0.800000            0.921569           0.921569      3   \n",
       " 28              -0.002457            0.684211           0.684211      2   \n",
       " 30                    NaN            0.000000           0.000000      1   \n",
       " 31                    NaN            0.000000           0.000000      0   \n",
       " 32                    NaN            1.000000           1.000000      1   \n",
       " 33                    NaN            1.000000           1.000000      0   \n",
       " 34              -0.200000            0.957447           0.957447      1   \n",
       " 35              -0.200000            0.957447           0.957447      0   \n",
       " ..                    ...                 ...                ...    ...   \n",
       " 515              0.657143            0.911111           0.911111      0   \n",
       " 516              0.000000            1.000000           1.000000      1   \n",
       " 517              0.000000            1.000000           1.000000      0   \n",
       " 519              0.050000            0.853211           0.853211      3   \n",
       " 520              1.000000            0.939394           0.939394      1   \n",
       " 521              1.000000            0.939394           0.939394      0   \n",
       " 522             -0.554180            0.779070           0.779070      2   \n",
       " 523             -0.554180            0.779070           0.779070      0   \n",
       " 525             -0.410391            1.000000           1.000000      1   \n",
       " 526              0.492805            0.892857           0.892857      1   \n",
       " 527              0.492805            0.892857           0.892857      0   \n",
       " 528                   NaN            0.000000           0.000000      1   \n",
       " 529                   NaN            0.000000           0.000000      0   \n",
       " 531              0.184468            0.829787           0.829787      2   \n",
       " 532                   NaN            1.000000           1.000000      0   \n",
       " 533                   NaN            1.000000           1.000000      1   \n",
       " 534              0.333333            1.000000           1.000000      1   \n",
       " 535              0.333333            1.000000           1.000000      0   \n",
       " 537              0.576818            0.932203           0.932203      1   \n",
       " 538             -0.737865            0.750000           0.750000      2   \n",
       " 539             -0.737865            0.750000           0.750000      2   \n",
       " 540              0.100000            0.813333           0.813333      0   \n",
       " 541              0.100000            0.813333           0.813333      1   \n",
       " 542              0.371429            0.860465           0.860465      5   \n",
       " 543              0.371429            0.860465           0.860465      3   \n",
       " 544              0.459612            0.747126           0.747126      1   \n",
       " 546                   NaN            0.000000           0.000000      1   \n",
       " 547                   NaN            0.000000           0.000000      0   \n",
       " 548                   NaN            1.000000           1.000000      0   \n",
       " 549                   NaN            1.000000           1.000000      1   \n",
       " \n",
       "      other_avg_index_lemma  other_avg_words     ...      self_avg_words  \\\n",
       " 0                 2.888889              2.0     ...                 2.0   \n",
       " 1                 4.285714              2.0     ...                 2.0   \n",
       " 2                 2.000000              2.0     ...                 2.0   \n",
       " 4                 2.375000              2.0     ...                 2.0   \n",
       " 7                 5.500000              2.0     ...                 2.0   \n",
       " 8                 1.000000              2.0     ...                 0.0   \n",
       " 9                      NaN              0.0     ...                 2.0   \n",
       " 10                2.600000              2.0     ...                 2.0   \n",
       " 11                4.800000              2.0     ...                 2.0   \n",
       " 13                1.333333              2.0     ...                 2.0   \n",
       " 15                2.500000              2.0     ...                 2.0   \n",
       " 16                5.000000              2.0     ...                 2.0   \n",
       " 17                5.000000              2.0     ...                 2.0   \n",
       " 18               16.000000              2.0     ...                 2.0   \n",
       " 19                7.000000              2.0     ...                 2.0   \n",
       " 20                     NaN              0.0     ...                 2.0   \n",
       " 21                2.833333              2.0     ...                 0.0   \n",
       " 22                     NaN              0.0     ...                 2.0   \n",
       " 23               11.000000              2.0     ...                 0.0   \n",
       " 24                0.000000              2.0     ...                 2.0   \n",
       " 25                5.000000              2.0     ...                 2.0   \n",
       " 26                2.200000              2.0     ...                 2.0   \n",
       " 27                4.800000              2.0     ...                 2.0   \n",
       " 28                3.187500              2.0     ...                 2.0   \n",
       " 30                     NaN              0.0     ...                 0.0   \n",
       " 31                     NaN              0.0     ...                 0.0   \n",
       " 32                0.000000              2.0     ...                 0.0   \n",
       " 33                     NaN              0.0     ...                 2.0   \n",
       " 34                1.500000              2.0     ...                 2.0   \n",
       " 35                6.250000              2.0     ...                 2.0   \n",
       " ..                     ...              ...     ...                 ...   \n",
       " 515               3.333333              3.0     ...                 3.0   \n",
       " 516               1.333333              3.0     ...                 3.0   \n",
       " 517               0.000000              3.0     ...                 3.0   \n",
       " 519               6.111111              3.0     ...                 3.0   \n",
       " 520               3.250000              3.0     ...                 3.0   \n",
       " 521               1.600000              3.0     ...                 3.0   \n",
       " 522               3.777778              3.0     ...                 3.0   \n",
       " 523               9.000000              3.0     ...                 3.0   \n",
       " 525               1.200000              3.0     ...                 3.0   \n",
       " 526               5.666667              3.0     ...                 3.0   \n",
       " 527               4.000000              3.0     ...                 3.0   \n",
       " 528                    NaN              0.0     ...                 0.0   \n",
       " 529                    NaN              0.0     ...                 0.0   \n",
       " 531               1.692308              3.0     ...                 3.0   \n",
       " 532                    NaN              0.0     ...                 3.0   \n",
       " 533               0.285714              3.0     ...                 0.0   \n",
       " 534               0.250000              3.0     ...                 3.0   \n",
       " 535               0.750000              3.0     ...                 3.0   \n",
       " 537               2.250000              3.0     ...                 3.0   \n",
       " 538               2.000000              3.0     ...                 3.0   \n",
       " 539               5.500000              3.0     ...                 3.0   \n",
       " 540              13.600000              3.0     ...                 3.0   \n",
       " 541               4.250000              3.0     ...                 3.0   \n",
       " 542               1.000000              3.0     ...                 3.0   \n",
       " 543               4.000000              3.0     ...                 3.0   \n",
       " 544               5.142857              3.0     ...                 3.0   \n",
       " 546                    NaN              0.0     ...                 0.0   \n",
       " 547                    NaN              0.0     ...                 0.0   \n",
       " 548                    NaN              0.0     ...                 3.0   \n",
       " 549               3.000000              3.0     ...                 0.0   \n",
       " \n",
       "      self_context_cosine  self_no_vocab_tokens  self_phrases_cnt  \\\n",
       " 0               0.786792             14.285714               7.0   \n",
       " 1               0.340852             14.111111               9.0   \n",
       " 2               0.826547             14.600000               5.0   \n",
       " 4               0.809330             14.111111               9.0   \n",
       " 7               0.738400             14.000000               2.0   \n",
       " 8                    NaN                   NaN               0.0   \n",
       " 9                    NaN             14.000000               2.0   \n",
       " 10              0.341394             14.400000               5.0   \n",
       " 11              0.340176             14.800000               5.0   \n",
       " 13              0.788037             17.000000               5.0   \n",
       " 15              0.728069             14.833333               6.0   \n",
       " 16              0.369452             14.571429               7.0   \n",
       " 17              0.504294             14.833333               6.0   \n",
       " 18              0.836377             14.750000               4.0   \n",
       " 19              0.861512             16.500000               2.0   \n",
       " 20                   NaN             14.166667               6.0   \n",
       " 21                   NaN                   NaN               0.0   \n",
       " 22                   NaN             15.000000               1.0   \n",
       " 23                   NaN                   NaN               0.0   \n",
       " 24              0.870891             15.000000               1.0   \n",
       " 25              0.744228             15.000000               1.0   \n",
       " 26              0.429495             15.400000               5.0   \n",
       " 27              0.248864             14.200000               5.0   \n",
       " 28              0.873380             15.176471              17.0   \n",
       " 30                   NaN                   NaN               0.0   \n",
       " 31                   NaN                   NaN               0.0   \n",
       " 32                   NaN                   NaN               0.0   \n",
       " 33                   NaN             13.000000               1.0   \n",
       " 34              0.782980             17.250000               4.0   \n",
       " 35              0.776033             14.500000               4.0   \n",
       " ..                   ...                   ...               ...   \n",
       " 515             0.475040             19.166667               6.0   \n",
       " 516             0.000000             17.666667               3.0   \n",
       " 517             0.788489             19.000000               3.0   \n",
       " 519             0.631101             20.125000               8.0   \n",
       " 520             0.401865             18.600000               5.0   \n",
       " 521             0.391501             19.250000               4.0   \n",
       " 522             0.908957             19.666667              18.0   \n",
       " 523             0.265874             19.333333              18.0   \n",
       " 525             0.789157             19.250000               4.0   \n",
       " 526             0.522140             19.600000               5.0   \n",
       " 527             0.485618             19.833333               6.0   \n",
       " 528                  NaN                   NaN               0.0   \n",
       " 529                  NaN                   NaN               0.0   \n",
       " 531             0.797157             20.230769              13.0   \n",
       " 532                  NaN             18.285714               7.0   \n",
       " 533                  NaN                   NaN               0.0   \n",
       " 534             0.584682             19.250000               4.0   \n",
       " 535             0.279115             18.500000               4.0   \n",
       " 537             0.869245             20.166667               6.0   \n",
       " 538             0.804366             18.500000               2.0   \n",
       " 539             0.649323             18.500000               4.0   \n",
       " 540             0.792944             19.250000               4.0   \n",
       " 541             0.903058             20.000000               5.0   \n",
       " 542             0.468824             19.833333               6.0   \n",
       " 543             0.245185             18.000000               6.0   \n",
       " 544             0.836566             20.333333               9.0   \n",
       " 546                  NaN                   NaN               0.0   \n",
       " 547                  NaN                   NaN               0.0   \n",
       " 548                  NaN             19.000000               2.0   \n",
       " 549                  NaN                   NaN               0.0   \n",
       " \n",
       "      self_topN_count  self_words_cnt   user  w2v_other_better_ctx   w2v_sim  \\\n",
       " 0           4.285714            14.0    Bob              1.061556  0.945526   \n",
       " 1           2.888889            18.0  Alice              0.942014  0.945526   \n",
       " 2           4.400000            10.0    Bob              0.866256  0.919744   \n",
       " 4           2.444444            18.0    Bob              0.978428  0.964718   \n",
       " 7           1.000000             4.0  Alice              1.226756  0.794832   \n",
       " 8                NaN             0.0    Bob                   NaN       NaN   \n",
       " 9           1.000000             4.0  Alice                   NaN       NaN   \n",
       " 10          4.800000            10.0    Bob              1.001384  0.957978   \n",
       " 11          2.600000            10.0  Alice              0.998618  0.957978   \n",
       " 13          5.800000            10.0  Alice              0.912587  0.926111   \n",
       " 15          2.166667            12.0  Alice              1.130580  0.868353   \n",
       " 16          5.000000            14.0    Bob              0.991876  0.947629   \n",
       " 17          5.000000            12.0  Alice              1.008190  0.947629   \n",
       " 18          7.000000             8.0    Bob              0.987758  0.974013   \n",
       " 19         16.000000             4.0  Alice              1.012394  0.974013   \n",
       " 20          2.833333            12.0    Bob                   NaN       NaN   \n",
       " 21               NaN             0.0  Alice                   NaN       NaN   \n",
       " 22         11.000000             2.0    Bob                   NaN       NaN   \n",
       " 23               NaN             0.0  Alice                   NaN       NaN   \n",
       " 24          5.000000             2.0    Bob              0.854560  0.733113   \n",
       " 25          0.000000             2.0  Alice              1.170194  0.733113   \n",
       " 26          4.800000            10.0    Bob              0.941929  0.952587   \n",
       " 27          2.200000            10.0  Alice              1.061651  0.952587   \n",
       " 28          3.941176            34.0    Bob              0.981156  0.979497   \n",
       " 30               NaN             0.0    Bob                   NaN       NaN   \n",
       " 31               NaN             0.0  Alice                   NaN       NaN   \n",
       " 32               NaN             0.0    Bob                   NaN       NaN   \n",
       " 33          0.000000             2.0  Alice                   NaN       NaN   \n",
       " 34          6.250000             8.0    Bob              0.902838  0.901771   \n",
       " 35          1.500000             8.0  Alice              1.107618  0.901771   \n",
       " ..               ...             ...    ...                   ...       ...   \n",
       " 515         2.500000            18.0  Alice              1.028898  0.960619   \n",
       " 516         0.000000             9.0    Bob              1.295522  0.712089   \n",
       " 517         1.333333             9.0  Alice              0.771890  0.712089   \n",
       " 519         6.250000            24.0  Alice              0.945264  0.959486   \n",
       " 520         1.600000            15.0    Bob              1.106653  0.923421   \n",
       " 521         3.250000            12.0  Alice              0.903625  0.923421   \n",
       " 522         9.000000            54.0    Bob              0.979775  0.981374   \n",
       " 523         3.777778            54.0  Alice              1.020642  0.981374   \n",
       " 525         2.250000            12.0  Alice              0.878558  0.904034   \n",
       " 526         4.000000            15.0    Bob              1.071267  0.949793   \n",
       " 527         5.666667            18.0  Alice              0.933474  0.949793   \n",
       " 528              NaN             0.0    Bob                   NaN       NaN   \n",
       " 529              NaN             0.0  Alice                   NaN       NaN   \n",
       " 531         3.230769            39.0  Alice              0.949896  0.914873   \n",
       " 532         0.285714            21.0    Bob                   NaN       NaN   \n",
       " 533              NaN             0.0  Alice                   NaN       NaN   \n",
       " 534         0.750000            12.0    Bob              0.684571  0.810307   \n",
       " 535         0.250000            12.0  Alice              1.460769  0.810307   \n",
       " 537         6.666667            18.0  Alice              0.834060  0.913966   \n",
       " 538         5.500000             6.0    Bob              0.955401  0.916856   \n",
       " 539         2.000000            12.0  Alice              1.046681  0.916856   \n",
       " 540         4.250000            12.0    Bob              1.060958  0.956489   \n",
       " 541        13.600000            15.0  Alice              0.942544  0.956489   \n",
       " 542         4.000000            18.0    Bob              0.828522  0.910653   \n",
       " 543         1.000000            18.0  Alice              1.206968  0.910653   \n",
       " 544         3.888889            27.0    Bob              0.987130  0.974666   \n",
       " 546              NaN             0.0    Bob                   NaN       NaN   \n",
       " 547              NaN             0.0  Alice                   NaN       NaN   \n",
       " 548         3.000000             6.0    Bob                   NaN       NaN   \n",
       " 549              NaN             0.0  Alice                   NaN       NaN   \n",
       " \n",
       "      prediction  \n",
       " 0           0.5  \n",
       " 1           0.5  \n",
       " 2           0.5  \n",
       " 4           0.5  \n",
       " 7           0.5  \n",
       " 8           0.5  \n",
       " 9           0.5  \n",
       " 10          0.5  \n",
       " 11          0.5  \n",
       " 13          0.5  \n",
       " 15          0.5  \n",
       " 16          0.5  \n",
       " 17          0.5  \n",
       " 18          0.5  \n",
       " 19          0.5  \n",
       " 20          0.5  \n",
       " 21          0.0  \n",
       " 22          0.5  \n",
       " 23          0.5  \n",
       " 24          0.5  \n",
       " 25          0.5  \n",
       " 26          0.5  \n",
       " 27          0.5  \n",
       " 28          0.0  \n",
       " 30          0.5  \n",
       " 31          0.5  \n",
       " 32          0.5  \n",
       " 33          0.5  \n",
       " 34          0.5  \n",
       " 35          0.5  \n",
       " ..          ...  \n",
       " 515         0.5  \n",
       " 516         0.5  \n",
       " 517         0.5  \n",
       " 519         0.5  \n",
       " 520         0.5  \n",
       " 521         0.5  \n",
       " 522         0.5  \n",
       " 523         0.5  \n",
       " 525         0.5  \n",
       " 526         0.5  \n",
       " 527         0.5  \n",
       " 528         0.5  \n",
       " 529         0.5  \n",
       " 531         0.5  \n",
       " 532         0.5  \n",
       " 533         0.5  \n",
       " 534         0.5  \n",
       " 535         0.5  \n",
       " 537         0.5  \n",
       " 538         0.5  \n",
       " 539         0.5  \n",
       " 540         0.5  \n",
       " 541         0.5  \n",
       " 542         0.5  \n",
       " 543         0.5  \n",
       " 544         0.5  \n",
       " 546         0.5  \n",
       " 547         0.5  \n",
       " 548         0.5  \n",
       " 549         0.5  \n",
       " \n",
       " [447 rows x 27 columns])"
      ]
     },
     "execution_count": 806,
     "metadata": {},
     "output_type": "execute_result"
    }
   ],
   "source": [
    "res"
   ]
  },
  {
   "cell_type": "code",
   "execution_count": 898,
   "metadata": {
    "collapsed": false
   },
   "outputs": [
    {
     "data": {
      "text/plain": [
       "[('other_context_cosine', 181),\n",
       " ('self_context_cosine', 171),\n",
       " ('additive_chi2_sim', 157),\n",
       " ('self_avg_index_lemma', 156),\n",
       " ('dialog_flow_ctx_corr', 148),\n",
       " ('cosine_sim', 145),\n",
       " ('w2v_other_better_ctx', 138),\n",
       " ('other_no_vocab_tokens', 137),\n",
       " ('other_avg_index_lemma', 126),\n",
       " ('w2v_sim', 115),\n",
       " ('self_no_vocab_tokens', 111),\n",
       " ('rbf_sim', 104),\n",
       " ('other_phrases_cnt', 81),\n",
       " ('extra_tokens_other', 74),\n",
       " ('self_phrases_cnt', 48),\n",
       " ('dataset_day', 39),\n",
       " ('other_topN_count', 36),\n",
       " ('self_topN_count', 29),\n",
       " ('extra_tokens_self', 21),\n",
       " ('self_words_cnt', 10),\n",
       " ('other_words_cnt', 7),\n",
       " ('other_avg_words', 1)]"
      ]
     },
     "execution_count": 898,
     "metadata": {},
     "output_type": "execute_result"
    }
   ],
   "source": [
    "show_model_features(model, 30)"
   ]
  },
  {
   "cell_type": "code",
   "execution_count": 456,
   "metadata": {
    "collapsed": false
   },
   "outputs": [
    {
     "name": "stderr",
     "output_type": "stream",
     "text": [
      "/Users/artemkorkhov/Projects/envs/kaggle/lib/python2.7/site-packages/ipykernel/__main__.py:30: FutureWarning: reshape is deprecated and will raise in a subsequent release. Please use .values.reshape(...) instead\n",
      "/Users/artemkorkhov/Projects/envs/kaggle/lib/python2.7/site-packages/ipykernel/__main__.py:31: FutureWarning: reshape is deprecated and will raise in a subsequent release. Please use .values.reshape(...) instead\n"
     ]
    }
   ],
   "source": [
    "features_ds = make_features(diags, True)"
   ]
  },
  {
   "cell_type": "code",
   "execution_count": null,
   "metadata": {
    "collapsed": true
   },
   "outputs": [],
   "source": []
  },
  {
   "cell_type": "code",
   "execution_count": 349,
   "metadata": {
    "collapsed": false,
    "scrolled": true
   },
   "outputs": [
    {
     "data": {
      "text/plain": [
       "dialogId                 290\n",
       "label                    290\n",
       "other_avg_index_lemma    223\n",
       "other_avg_words          290\n",
       "other_context_cosine     177\n",
       "other_no_vocab_tokens    223\n",
       "other_phrases_cnt        290\n",
       "other_topN_count         223\n",
       "other_w2v_0              177\n",
       "other_w2v_1              177\n",
       "other_w2v_10             177\n",
       "other_w2v_100            177\n",
       "other_w2v_101            177\n",
       "other_w2v_102            177\n",
       "other_w2v_103            177\n",
       "other_w2v_104            177\n",
       "other_w2v_105            177\n",
       "other_w2v_106            177\n",
       "other_w2v_107            177\n",
       "other_w2v_108            177\n",
       "other_w2v_109            177\n",
       "other_w2v_11             177\n",
       "other_w2v_110            177\n",
       "other_w2v_111            177\n",
       "other_w2v_112            177\n",
       "other_w2v_113            177\n",
       "other_w2v_114            177\n",
       "other_w2v_115            177\n",
       "other_w2v_116            177\n",
       "other_w2v_117            177\n",
       "                        ... \n",
       "self_w2v_75              177\n",
       "self_w2v_76              177\n",
       "self_w2v_77              177\n",
       "self_w2v_78              177\n",
       "self_w2v_79              177\n",
       "self_w2v_8               177\n",
       "self_w2v_80              177\n",
       "self_w2v_81              177\n",
       "self_w2v_82              177\n",
       "self_w2v_83              177\n",
       "self_w2v_84              177\n",
       "self_w2v_85              177\n",
       "self_w2v_86              177\n",
       "self_w2v_87              177\n",
       "self_w2v_88              177\n",
       "self_w2v_89              177\n",
       "self_w2v_9               177\n",
       "self_w2v_90              177\n",
       "self_w2v_91              177\n",
       "self_w2v_92              177\n",
       "self_w2v_93              177\n",
       "self_w2v_94              177\n",
       "self_w2v_95              177\n",
       "self_w2v_96              177\n",
       "self_w2v_97              177\n",
       "self_w2v_98              177\n",
       "self_w2v_99              177\n",
       "self_words_cnt           290\n",
       "user                     290\n",
       "prediction               290\n",
       "Length: 618, dtype: int64"
      ]
     },
     "execution_count": 349,
     "metadata": {},
     "output_type": "execute_result"
    }
   ],
   "source": [
    "fails[0].count()"
   ]
  },
  {
   "cell_type": "code",
   "execution_count": null,
   "metadata": {
    "collapsed": false,
    "scrolled": true
   },
   "outputs": [],
   "source": [
    "sorted(model.get_fscore().items(), key=lambda x: -x[1])[:30]"
   ]
  },
  {
   "cell_type": "code",
   "execution_count": null,
   "metadata": {
    "collapsed": true
   },
   "outputs": [],
   "source": [
    "def make_ds(diags, features, labeled=False):\n",
    "    \"\"\" Composes a model with given features \"\"\"\n",
    "    observations = []\n",
    "    for d in diags:\n",
    "        for name in (\"Bob\", \"Alice\"):\n",
    "            obs = pd.Series()\n",
    "            for func in features:\n",
    "                obs = obs.append(func(d, name))\n",
    "            obs[\"user\"] = name\n",
    "            obs[\"dialogId\"] = d[\"dialogId\"]\n",
    "            \n",
    "            if labeled:\n",
    "                obs[\"label\"] = get_score(d,name)\n",
    "            \n",
    "            observations.append(obs)\n",
    "    \n",
    "    return pd.DataFrame(observations)"
   ]
  },
  {
   "cell_type": "code",
   "execution_count": null,
   "metadata": {
    "collapsed": true
   },
   "outputs": [],
   "source": []
  },
  {
   "cell_type": "code",
   "execution_count": null,
   "metadata": {
    "collapsed": true
   },
   "outputs": [],
   "source": [
    "def run_cv(diags, features_df, test_ratio=0.2, folds=5, params=None):\n",
    "    scores = []\n",
    "    fails_cv = []\n",
    "    train_test = []\n",
    "    df_feats = features_df\n",
    "    \n",
    "    for i in range(0,len(diags),len(diags)/folds)[:-1]:\n",
    "        test_set = df_feats[2*i:2*i+2*int(test_ratio*len(diags))]\n",
    "        test_diags = diags[i:i+int(test_ratio*len(diags))]\n",
    "        train_set = pd.concat([df_feats[0:2*i],df_feats[2*i+2*int(test_ratio*len(diags)):]])\n",
    "\n",
    "        label_column = train_set[\"label\"]\n",
    "        features = train_set.drop([\"label\", \"dialogId\", \"user\"], axis=1)\n",
    "\n",
    "        dtrain = xgb.DMatrix(features.values, label_column.values, feature_names=features.columns)\n",
    "        bst = xgb.train(param, dtrain, num_boost_round=150)\n",
    "        corr, fails = correlation2(test_diags, test_set, bst)\n",
    "        scores.append(corr.correlation)\n",
    "        fails_cv.append(fails)\n",
    "        train_test.append((train_set, test_set))\n",
    "        print scores[-1]\n",
    "        \n",
    "    return np.mean(scores), bst, fails_cv, train_test"
   ]
  },
  {
   "cell_type": "code",
   "execution_count": null,
   "metadata": {
    "collapsed": true
   },
   "outputs": [],
   "source": [
    "# def correlation2(test_diags, test_set, bst):\n",
    "#     label_column = test_set[\"label\"]\n",
    "#     features = test_set.drop([\"label\", \"dialogId\", \"user\"], axis=1)\n",
    "#     dtest = xgb.DMatrix(features.values, feature_names=features.columns)\n",
    "    \n",
    "#     preds = bst.predict(dtest)\n",
    "\n",
    "#     for i, diag in enumerate(test_diags):\n",
    "#         for j, name in enumerate([\"Alice\", \"Bob\"]):\n",
    "#             if is_bot(diag, name):\n",
    "#                 preds[2*i+j] = 0\n",
    "\n",
    "#     test_set[\"prediction\"] = preds\n",
    "    \n",
    "#     return (\n",
    "#         spearmanr(test_set[\"label\"].values, test_set[\"prediction\"].values), \n",
    "#         test_set[test_set[\"label\"] != test_set[\"prediction\"]]\n",
    "#     )"
   ]
  },
  {
   "cell_type": "markdown",
   "metadata": {},
   "source": [
    "### Pasha's features"
   ]
  },
  {
   "cell_type": "code",
   "execution_count": 686,
   "metadata": {
    "collapsed": false
   },
   "outputs": [],
   "source": [
    "all_train = pd.read_csv(os.path.join(DATA_DIR, \"all_own_train.csv\"), index_col=0)\n",
    "all_test = pd.read_csv(os.path.join(DATA_DIR, \"all_own_test.csv\"), index_col=0)\n",
    "\n",
    "metric_train = pd.read_csv(os.path.join(DATA_DIR, \"metric_own_train.csv\"), index_col=0)\n",
    "metric_test = pd.read_csv(os.path.join(DATA_DIR, \"metric_own_test.csv\"), index_col=0)"
   ]
  },
  {
   "cell_type": "code",
   "execution_count": 687,
   "metadata": {
    "collapsed": false
   },
   "outputs": [
    {
     "data": {
      "text/html": [
       "<div>\n",
       "<style>\n",
       "    .dataframe thead tr:only-child th {\n",
       "        text-align: right;\n",
       "    }\n",
       "\n",
       "    .dataframe thead th {\n",
       "        text-align: left;\n",
       "    }\n",
       "\n",
       "    .dataframe tbody tr th {\n",
       "        vertical-align: top;\n",
       "    }\n",
       "</style>\n",
       "<table border=\"1\" class=\"dataframe\">\n",
       "  <thead>\n",
       "    <tr style=\"text-align: right;\">\n",
       "      <th></th>\n",
       "      <th>is_bot</th>\n",
       "      <th>is_bot_other</th>\n",
       "      <th>score</th>\n",
       "      <th>score_other</th>\n",
       "      <th>label</th>\n",
       "      <th>is_bot_real</th>\n",
       "      <th>dialog_id</th>\n",
       "      <th>user</th>\n",
       "    </tr>\n",
       "  </thead>\n",
       "  <tbody>\n",
       "    <tr>\n",
       "      <th>0</th>\n",
       "      <td>9.999983e-01</td>\n",
       "      <td>3.698927e-11</td>\n",
       "      <td>3.087171</td>\n",
       "      <td>0.561719</td>\n",
       "      <td>5</td>\n",
       "      <td>1</td>\n",
       "      <td>-945444646</td>\n",
       "      <td>Alice</td>\n",
       "    </tr>\n",
       "    <tr>\n",
       "      <th>1</th>\n",
       "      <td>2.990065e-11</td>\n",
       "      <td>1.000000e+00</td>\n",
       "      <td>0.291393</td>\n",
       "      <td>3.151923</td>\n",
       "      <td>0</td>\n",
       "      <td>0</td>\n",
       "      <td>-945444646</td>\n",
       "      <td>Bob</td>\n",
       "    </tr>\n",
       "    <tr>\n",
       "      <th>2</th>\n",
       "      <td>2.378284e-14</td>\n",
       "      <td>2.343623e-11</td>\n",
       "      <td>2.931613</td>\n",
       "      <td>4.739244</td>\n",
       "      <td>3</td>\n",
       "      <td>0</td>\n",
       "      <td>1219840152</td>\n",
       "      <td>Alice</td>\n",
       "    </tr>\n",
       "    <tr>\n",
       "      <th>3</th>\n",
       "      <td>1.961205e-19</td>\n",
       "      <td>1.103536e-08</td>\n",
       "      <td>4.849874</td>\n",
       "      <td>3.019071</td>\n",
       "      <td>5</td>\n",
       "      <td>0</td>\n",
       "      <td>1219840152</td>\n",
       "      <td>Bob</td>\n",
       "    </tr>\n",
       "    <tr>\n",
       "      <th>4</th>\n",
       "      <td>1.473477e-11</td>\n",
       "      <td>9.999994e-01</td>\n",
       "      <td>-0.156200</td>\n",
       "      <td>4.002214</td>\n",
       "      <td>0</td>\n",
       "      <td>0</td>\n",
       "      <td>-813477735</td>\n",
       "      <td>Alice</td>\n",
       "    </tr>\n",
       "  </tbody>\n",
       "</table>\n",
       "</div>"
      ],
      "text/plain": [
       "         is_bot  is_bot_other     score  score_other  label  is_bot_real  \\\n",
       "0  9.999983e-01  3.698927e-11  3.087171     0.561719      5            1   \n",
       "1  2.990065e-11  1.000000e+00  0.291393     3.151923      0            0   \n",
       "2  2.378284e-14  2.343623e-11  2.931613     4.739244      3            0   \n",
       "3  1.961205e-19  1.103536e-08  4.849874     3.019071      5            0   \n",
       "4  1.473477e-11  9.999994e-01 -0.156200     4.002214      0            0   \n",
       "\n",
       "    dialog_id   user  \n",
       "0  -945444646  Alice  \n",
       "1  -945444646    Bob  \n",
       "2  1219840152  Alice  \n",
       "3  1219840152    Bob  \n",
       "4  -813477735  Alice  "
      ]
     },
     "execution_count": 687,
     "metadata": {},
     "output_type": "execute_result"
    }
   ],
   "source": [
    "all_train.head()"
   ]
  },
  {
   "cell_type": "code",
   "execution_count": 688,
   "metadata": {
    "collapsed": false
   },
   "outputs": [
    {
     "data": {
      "text/html": [
       "<div>\n",
       "<style>\n",
       "    .dataframe thead tr:only-child th {\n",
       "        text-align: right;\n",
       "    }\n",
       "\n",
       "    .dataframe thead th {\n",
       "        text-align: left;\n",
       "    }\n",
       "\n",
       "    .dataframe tbody tr th {\n",
       "        vertical-align: top;\n",
       "    }\n",
       "</style>\n",
       "<table border=\"1\" class=\"dataframe\">\n",
       "  <thead>\n",
       "    <tr style=\"text-align: right;\">\n",
       "      <th></th>\n",
       "      <th>is_bot</th>\n",
       "      <th>score</th>\n",
       "      <th>label</th>\n",
       "      <th>is_bot_real</th>\n",
       "      <th>dialog_id</th>\n",
       "      <th>user</th>\n",
       "    </tr>\n",
       "  </thead>\n",
       "  <tbody>\n",
       "    <tr>\n",
       "      <th>0</th>\n",
       "      <td>4.543962e-12</td>\n",
       "      <td>1.411948</td>\n",
       "      <td>1</td>\n",
       "      <td>0</td>\n",
       "      <td>-383961695</td>\n",
       "      <td>Alice</td>\n",
       "    </tr>\n",
       "    <tr>\n",
       "      <th>1</th>\n",
       "      <td>7.338488e-09</td>\n",
       "      <td>0.645948</td>\n",
       "      <td>1</td>\n",
       "      <td>0</td>\n",
       "      <td>407487443</td>\n",
       "      <td>Alice</td>\n",
       "    </tr>\n",
       "    <tr>\n",
       "      <th>2</th>\n",
       "      <td>4.448519e-18</td>\n",
       "      <td>1.421263</td>\n",
       "      <td>1</td>\n",
       "      <td>0</td>\n",
       "      <td>407487443</td>\n",
       "      <td>Bob</td>\n",
       "    </tr>\n",
       "    <tr>\n",
       "      <th>3</th>\n",
       "      <td>6.534568e-14</td>\n",
       "      <td>3.929897</td>\n",
       "      <td>4</td>\n",
       "      <td>0</td>\n",
       "      <td>-1254951162</td>\n",
       "      <td>Alice</td>\n",
       "    </tr>\n",
       "    <tr>\n",
       "      <th>4</th>\n",
       "      <td>9.684952e-01</td>\n",
       "      <td>-0.192897</td>\n",
       "      <td>0</td>\n",
       "      <td>1</td>\n",
       "      <td>-1254951162</td>\n",
       "      <td>Bob</td>\n",
       "    </tr>\n",
       "  </tbody>\n",
       "</table>\n",
       "</div>"
      ],
      "text/plain": [
       "         is_bot     score  label  is_bot_real   dialog_id   user\n",
       "0  4.543962e-12  1.411948      1            0  -383961695  Alice\n",
       "1  7.338488e-09  0.645948      1            0   407487443  Alice\n",
       "2  4.448519e-18  1.421263      1            0   407487443    Bob\n",
       "3  6.534568e-14  3.929897      4            0 -1254951162  Alice\n",
       "4  9.684952e-01 -0.192897      0            1 -1254951162    Bob"
      ]
     },
     "execution_count": 688,
     "metadata": {},
     "output_type": "execute_result"
    }
   ],
   "source": [
    "metric_train.head()"
   ]
  },
  {
   "cell_type": "code",
   "execution_count": 689,
   "metadata": {
    "collapsed": true
   },
   "outputs": [],
   "source": [
    "def merge_diags_with_new(main_ds, new_ds):\n",
    "    _ds = new_ds.drop([\"label\", \"user\"])\n",
    "    return pd.merge(main_ds, new_ds, left_on=\"dialogId\", right_on=\"dialog_id\", how='left')\n",
    "\n",
    "# def merge_diags_with_metric(main_ds, new_ds):\n",
    "#     _ds = new_ds.drop([\"label\", \"user\"])\n",
    "#     return pd.merge(main_ds, new_ds, left_on=\"dialogId\", right_on=\"dialog_id\", how='left')"
   ]
  },
  {
   "cell_type": "markdown",
   "metadata": {},
   "source": [
    "### Run"
   ]
  },
  {
   "cell_type": "code",
   "execution_count": 690,
   "metadata": {
    "collapsed": true
   },
   "outputs": [],
   "source": [
    "features = [\n",
    "    freq_stat, \n",
    "    lengths,\n",
    "    context_similarity,\n",
    "    w2v,\n",
    "    make_vector_features(\"count\", \"all\"),\n",
    "    dataset_day,\n",
    "    token_info_gain,\n",
    "    dialog_flow_metrics,\n",
    "#     questions_count,\n",
    "#     ngram_ppl\n",
    "]"
   ]
  },
  {
   "cell_type": "code",
   "execution_count": 691,
   "metadata": {
    "collapsed": false
   },
   "outputs": [
    {
     "name": "stderr",
     "output_type": "stream",
     "text": [
      "/Users/artemkorkhov/Projects/envs/kaggle/lib/python2.7/site-packages/ipykernel/__main__.py:30: FutureWarning: reshape is deprecated and will raise in a subsequent release. Please use .values.reshape(...) instead\n",
      "/Users/artemkorkhov/Projects/envs/kaggle/lib/python2.7/site-packages/ipykernel/__main__.py:31: FutureWarning: reshape is deprecated and will raise in a subsequent release. Please use .values.reshape(...) instead\n"
     ]
    }
   ],
   "source": [
    "main_ds = make_ds(\n",
    "    diags, features, True\n",
    ")"
   ]
  },
  {
   "cell_type": "code",
   "execution_count": 1008,
   "metadata": {
    "collapsed": true
   },
   "outputs": [],
   "source": [
    "w2v_ds = make_ds(diags, [w2v, context_similarity], True)"
   ]
  },
  {
   "cell_type": "code",
   "execution_count": 1009,
   "metadata": {
    "collapsed": false
   },
   "outputs": [
    {
     "name": "stderr",
     "output_type": "stream",
     "text": [
      "/Users/artemkorkhov/Projects/envs/kaggle/lib/python2.7/site-packages/ipykernel/__main__.py:30: FutureWarning: reshape is deprecated and will raise in a subsequent release. Please use .values.reshape(...) instead\n",
      "/Users/artemkorkhov/Projects/envs/kaggle/lib/python2.7/site-packages/ipykernel/__main__.py:31: FutureWarning: reshape is deprecated and will raise in a subsequent release. Please use .values.reshape(...) instead\n"
     ]
    }
   ],
   "source": [
    "freq_ds = make_ds(\n",
    "    diags, \n",
    "    [freq_stat, lengths, make_vector_features(\"count\", \"all\"), token_info_gain, dialog_flow_metrics],\n",
    "    True\n",
    ")"
   ]
  },
  {
   "cell_type": "code",
   "execution_count": 1011,
   "metadata": {
    "collapsed": false
   },
   "outputs": [
    {
     "name": "stdout",
     "output_type": "stream",
     "text": [
      "0.670931082664\n",
      "0.679240272281\n",
      "0.591759702003\n",
      "0.63532892902\n",
      "0.651660553082\n"
     ]
    },
    {
     "name": "stderr",
     "output_type": "stream",
     "text": [
      "/Users/artemkorkhov/Projects/envs/kaggle/lib/python2.7/site-packages/ipykernel/__main__.py:13: SettingWithCopyWarning: \n",
      "A value is trying to be set on a copy of a slice from a DataFrame.\n",
      "Try using .loc[row_indexer,col_indexer] = value instead\n",
      "\n",
      "See the caveats in the documentation: http://pandas.pydata.org/pandas-docs/stable/indexing.html#indexing-view-versus-copy\n"
     ]
    }
   ],
   "source": [
    "w2v_results = run_cv(diags, w2v_ds, params=param)"
   ]
  },
  {
   "cell_type": "code",
   "execution_count": 1012,
   "metadata": {
    "collapsed": false
   },
   "outputs": [
    {
     "name": "stdout",
     "output_type": "stream",
     "text": [
      "0.668197015897\n",
      "0.599121176117\n",
      "0.622375320341\n",
      "0.640056386201\n",
      "0.652028588059\n"
     ]
    },
    {
     "name": "stderr",
     "output_type": "stream",
     "text": [
      "/Users/artemkorkhov/Projects/envs/kaggle/lib/python2.7/site-packages/ipykernel/__main__.py:13: SettingWithCopyWarning: \n",
      "A value is trying to be set on a copy of a slice from a DataFrame.\n",
      "Try using .loc[row_indexer,col_indexer] = value instead\n",
      "\n",
      "See the caveats in the documentation: http://pandas.pydata.org/pandas-docs/stable/indexing.html#indexing-view-versus-copy\n"
     ]
    }
   ],
   "source": [
    "freq_results = run_cv(diags, freq_ds, params=param)"
   ]
  },
  {
   "cell_type": "code",
   "execution_count": 1013,
   "metadata": {
    "collapsed": true
   },
   "outputs": [],
   "source": [
    "_, w2v_model, _, w2v_train_test = w2v_results\n",
    "_, freq_model, _, freq_train_test = freq_results"
   ]
  },
  {
   "cell_type": "code",
   "execution_count": null,
   "metadata": {
    "collapsed": true
   },
   "outputs": [],
   "source": []
  }
 ],
 "metadata": {
  "kernelspec": {
   "display_name": "Python 2",
   "language": "python",
   "name": "python2"
  },
  "language_info": {
   "codemirror_mode": {
    "name": "ipython",
    "version": 2
   },
   "file_extension": ".py",
   "mimetype": "text/x-python",
   "name": "python",
   "nbconvert_exporter": "python",
   "pygments_lexer": "ipython2",
   "version": "2.7.10"
  }
 },
 "nbformat": 4,
 "nbformat_minor": 2
}
