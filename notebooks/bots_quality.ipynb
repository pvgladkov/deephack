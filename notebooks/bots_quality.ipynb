{
 "cells": [
  {
   "cell_type": "code",
   "execution_count": 12,
   "metadata": {
    "collapsed": false
   },
   "outputs": [],
   "source": [
    "import ujson\n",
    "import os\n",
    "from os.path import join\n",
    "from collections import Counter"
   ]
  },
  {
   "cell_type": "code",
   "execution_count": 83,
   "metadata": {
    "collapsed": false
   },
   "outputs": [],
   "source": [
    "%matplotlib inline\n",
    "import matplotlib.pyplot as plt\n",
    "import seaborn as sns"
   ]
  },
  {
   "cell_type": "code",
   "execution_count": 14,
   "metadata": {
    "collapsed": false
   },
   "outputs": [],
   "source": [
    "import keras\n",
    "from keras.layers import *\n",
    "from keras.models import Model\n",
    "from keras.optimizers import Adam\n",
    "from keras.preprocessing import sequence\n",
    "from keras.callbacks import ModelCheckpoint"
   ]
  },
  {
   "cell_type": "code",
   "execution_count": 15,
   "metadata": {
    "collapsed": false
   },
   "outputs": [],
   "source": [
    "from sklearn.preprocessing import MinMaxScaler"
   ]
  },
  {
   "cell_type": "code",
   "execution_count": 403,
   "metadata": {
    "collapsed": true
   },
   "outputs": [],
   "source": [
    "from scipy.stats import spearmanr\n",
    "from sklearn.metrics import mean_squared_error, log_loss"
   ]
  },
  {
   "cell_type": "code",
   "execution_count": 17,
   "metadata": {
    "collapsed": true
   },
   "outputs": [],
   "source": [
    "from random import shuffle, randint\n",
    "import pandas as pd"
   ]
  },
  {
   "cell_type": "code",
   "execution_count": 18,
   "metadata": {
    "collapsed": true
   },
   "outputs": [],
   "source": [
    "file_format = \"train_{}.json\""
   ]
  },
  {
   "cell_type": "code",
   "execution_count": 19,
   "metadata": {
    "collapsed": true
   },
   "outputs": [],
   "source": [
    "DATADIR = \"/workspace/data/bots/turing-data/\""
   ]
  },
  {
   "cell_type": "code",
   "execution_count": 20,
   "metadata": {
    "collapsed": true
   },
   "outputs": [],
   "source": [
    "#0.62"
   ]
  },
  {
   "cell_type": "code",
   "execution_count": 278,
   "metadata": {
    "collapsed": false
   },
   "outputs": [],
   "source": [
    "TRAIN_DATA = join(DATADIR, file_format.format(\"20170724\"))\n",
    "TEST_DATA = join(DATADIR, file_format.format(\"20170725\"))"
   ]
  },
  {
   "cell_type": "code",
   "execution_count": 279,
   "metadata": {
    "collapsed": false
   },
   "outputs": [
    {
     "data": {
      "text/plain": [
       "'/workspace/data/bots/turing-data/train_20170724.json'"
      ]
     },
     "execution_count": 279,
     "metadata": {},
     "output_type": "execute_result"
    }
   ],
   "source": [
    "TRAIN_DATA"
   ]
  },
  {
   "cell_type": "code",
   "execution_count": 280,
   "metadata": {
    "collapsed": false
   },
   "outputs": [],
   "source": [
    "train_data = ujson.load(open(TRAIN_DATA))\n",
    "test_data = ujson.load(open(TEST_DATA))"
   ]
  },
  {
   "cell_type": "code",
   "execution_count": 306,
   "metadata": {
    "collapsed": false
   },
   "outputs": [
    {
     "name": "stdout",
     "output_type": "stream",
     "text": [
      "Who uses the four stages of civil society ?\n",
      "Ehh its incorrect. Hint: first 3 answer letters is \"fer\" \n",
      "What\n",
      "Please, speak with me.\n",
      "Please, speak with me. It gives me energy to live\n"
     ]
    }
   ],
   "source": [
    "for r in get_replies(train_data[2], \"Bob\"):\n",
    "    print(r[\"text\"])"
   ]
  },
  {
   "cell_type": "code",
   "execution_count": 377,
   "metadata": {
    "collapsed": true
   },
   "outputs": [],
   "source": [
    "def get_score(diag, user):\n",
    "    score = list(filter(lambda x: x[\"userId\"] != user, diag[\"evaluation\"]))[0][\"quality\"]\n",
    "    score = 1 if score >= 2 else 0\n",
    "    return score"
   ]
  },
  {
   "cell_type": "code",
   "execution_count": 479,
   "metadata": {
    "collapsed": false
   },
   "outputs": [
    {
     "data": {
      "text/plain": [
       "{'context': 'Though much of Enlightenment political thought was dominated by social contract theorists, both David Hume and Adam Ferguson criticized this camp. Hume\\'s essay Of the Original Contract argues that governments derived from consent are rarely seen, and civil government is grounded in a ruler\\'s habitual authority and force. It is precisely because of the ruler\\'s authority over-and-against the subject, that the subject tacitly consents; Hume says that the subjects would \"never imagine that their consent made him sovereign\", rather the authority did so. Similarly, Ferguson did not believe citizens built the state, rather polities grew out of social development. In his 1767 An Essay on the History of Civil Society, Ferguson uses the four stages of progress, a theory that was very popular in Scotland at the time, to explain how humans advance from a hunting and gathering society to a commercial and civil society without \"signing\" a social contract.',\n",
       " 'dialogId': -155769874,\n",
       " 'evaluation': [{'quality': 0, 'userId': 'Bob'},\n",
       "  {'quality': 1, 'userId': 'Alice'}],\n",
       " 'thread': [{'text': 'Hi', 'userId': 'Alice'},\n",
       "  {'text': 'Who uses the four stages of civil society ?', 'userId': 'Bob'},\n",
       "  {'text': 'Ehh its incorrect. Hint: first 3 answer letters is \"fer\" ',\n",
       "   'userId': 'Bob'},\n",
       "  {'text': 'What is your name?', 'userId': 'Alice'},\n",
       "  {'text': 'What', 'userId': 'Bob'},\n",
       "  {'text': 'Please, speak with me.', 'userId': 'Bob'},\n",
       "  {'text': 'Please, speak with me. It gives me energy to live',\n",
       "   'userId': 'Bob'}],\n",
       " 'users': [{'id': 'Alice', 'userType': 'Human'},\n",
       "  {'id': 'Bob', 'userType': 'Bot'}]}"
      ]
     },
     "execution_count": 479,
     "metadata": {},
     "output_type": "execute_result"
    }
   ],
   "source": [
    "train_data[2]"
   ]
  },
  {
   "cell_type": "code",
   "execution_count": 378,
   "metadata": {
    "collapsed": true
   },
   "outputs": [],
   "source": [
    "def get_replies(diag, user):\n",
    "    replies = list(filter(lambda x: x[\"userId\"] == user, diag[\"thread\"]))\n",
    "    return replies"
   ]
  },
  {
   "cell_type": "code",
   "execution_count": 493,
   "metadata": {
    "collapsed": true
   },
   "outputs": [],
   "source": [
    "def get_type(diag, user):\n",
    "    u = list(filter(lambda x: x[\"id\"] == user, diag[\"users\"]))[0]['userType']\n",
    "    return 1 if u == \"Bot\" else 0"
   ]
  },
  {
   "cell_type": "code",
   "execution_count": 494,
   "metadata": {
    "collapsed": true
   },
   "outputs": [],
   "source": [
    "def make_features(diags, labeled=False):\n",
    "    observations = []\n",
    "    \n",
    "    for d in diags:\n",
    "        \n",
    "        for name in [\"Alice\", \"Bob\"]:\n",
    "            \n",
    "            replies = get_replies(d, name)\n",
    "            \n",
    "            if len(replies) > 0:\n",
    "                    \n",
    "                obs = {}\n",
    "                obs[\"reply\"] = \"$\".join([r[\"text\"] for r in replies])\n",
    "                obs[\"pos\"] = i\n",
    "                obs[\"user\"] = name\n",
    "                obs[\"dialogId\"] = d[\"dialogId\"]\n",
    "                if labeled:\n",
    "                    obs[\"label\"] = get_score(d, name)\n",
    "                    obs[\"userType\"] = get_type(d, name)\n",
    "                observations.append(obs)\n",
    "    \n",
    "    return pd.DataFrame(observations)"
   ]
  },
  {
   "cell_type": "code",
   "execution_count": 495,
   "metadata": {
    "collapsed": false
   },
   "outputs": [],
   "source": [
    "shuffle(train_data)\n",
    "shuffle(test_data)\n",
    "df_train = make_features(train_data, True)\n",
    "df_test = make_features(test_data, True)"
   ]
  },
  {
   "cell_type": "code",
   "execution_count": 496,
   "metadata": {
    "collapsed": false
   },
   "outputs": [
    {
     "data": {
      "text/plain": [
       "585"
      ]
     },
     "execution_count": 496,
     "metadata": {},
     "output_type": "execute_result"
    }
   ],
   "source": [
    "len(df_train)"
   ]
  },
  {
   "cell_type": "code",
   "execution_count": 497,
   "metadata": {
    "collapsed": true
   },
   "outputs": [],
   "source": [
    "def get_vocab(data):\n",
    "    vocab = Counter()\n",
    "    for r in data.iterrows():\n",
    "        vocab.update(r[1][\"reply\"])\n",
    "    return vocab"
   ]
  },
  {
   "cell_type": "code",
   "execution_count": 498,
   "metadata": {
    "collapsed": false
   },
   "outputs": [],
   "source": [
    "vocab = get_vocab(df_train)"
   ]
  },
  {
   "cell_type": "code",
   "execution_count": 499,
   "metadata": {
    "collapsed": false
   },
   "outputs": [
    {
     "data": {
      "text/plain": [
       "180"
      ]
     },
     "execution_count": 499,
     "metadata": {},
     "output_type": "execute_result"
    }
   ],
   "source": [
    "len(vocab)"
   ]
  },
  {
   "cell_type": "code",
   "execution_count": 500,
   "metadata": {
    "collapsed": false
   },
   "outputs": [],
   "source": [
    "char_to_ind = {c[0]: i + 1 for i, c in enumerate(vocab.most_common())}\n",
    "ind_to_char = {i: c for c, i in char_to_ind.items()}"
   ]
  },
  {
   "cell_type": "code",
   "execution_count": 501,
   "metadata": {
    "collapsed": true
   },
   "outputs": [],
   "source": [
    "def text_to_seq(text, char_to_ind):\n",
    "    return [char_to_ind.get(c, 0) for c in text]"
   ]
  },
  {
   "cell_type": "code",
   "execution_count": 526,
   "metadata": {
    "collapsed": true
   },
   "outputs": [],
   "source": [
    "MAX_PAD = 200"
   ]
  },
  {
   "cell_type": "code",
   "execution_count": 527,
   "metadata": {
    "collapsed": false
   },
   "outputs": [],
   "source": [
    "def add_sequences(df, char_to_ind):\n",
    "    df[\"seq\"] = df.reply.apply(lambda x: text_to_seq(x, char_to_ind))\n",
    "    df[\"seq_len\"] = df[\"seq\"].apply(len)\n",
    "    df[\"seq_padded\"] = df[\"seq\"].apply(lambda x: sequence.pad_sequences([x], MAX_PAD, padding=\"post\"))\n",
    "    return df"
   ]
  },
  {
   "cell_type": "code",
   "execution_count": 565,
   "metadata": {
    "collapsed": false
   },
   "outputs": [],
   "source": [
    "df_train = add_sequences(df_train, char_to_ind)\n",
    "df_test = add_sequences(df_test, char_to_ind)"
   ]
  },
  {
   "cell_type": "code",
   "execution_count": 583,
   "metadata": {
    "collapsed": false
   },
   "outputs": [],
   "source": [
    "y_train_score = df_train[\"label\"].values\n",
    "y_test_score = df_test[\"label\"].values"
   ]
  },
  {
   "cell_type": "code",
   "execution_count": 585,
   "metadata": {
    "collapsed": true
   },
   "outputs": [],
   "source": [
    "y_train_bot = df_train[\"userType\"].values\n",
    "y_test_bot = df_test[\"userType\"].values"
   ]
  },
  {
   "cell_type": "code",
   "execution_count": 586,
   "metadata": {
    "collapsed": false
   },
   "outputs": [],
   "source": [
    "# plt.hist(y_train, bins=100)\n",
    "# plt.show()"
   ]
  },
  {
   "cell_type": "code",
   "execution_count": 587,
   "metadata": {
    "collapsed": true
   },
   "outputs": [],
   "source": [
    "x_train = np.vstack(df_train[\"seq_padded\"].values)\n",
    "x_test = np.vstack(df_test[\"seq_padded\"].values)"
   ]
  },
  {
   "cell_type": "code",
   "execution_count": 739,
   "metadata": {
    "collapsed": true
   },
   "outputs": [],
   "source": [
    "EMB_SIZE = 64\n",
    "H_SIZE = 64"
   ]
  },
  {
   "cell_type": "code",
   "execution_count": 771,
   "metadata": {
    "collapsed": false
   },
   "outputs": [],
   "source": [
    "def get_chat_model(n_words=MAX_PAD,\n",
    "                  vocab_len=len(char_to_ind) + 1,\n",
    "                  emb_size=EMB_SIZE,\n",
    "                  h_size=H_SIZE,\n",
    "                  weights=None):\n",
    "    \n",
    "    reply = Input(shape = (n_words,), name='n_reply')\n",
    "    reply_e = Embedding(vocab_len, emb_size)(reply)\n",
    "    \n",
    "    x = Conv1D(h_size, 4, activation='relu', strides=1)(reply_e)    \n",
    "    xg = GlobalMaxPooling1D()(x)\n",
    "    \n",
    "    x = Dense(8, activation=\"linear\")(xg)\n",
    "    x = Dropout(0.1)(x)\n",
    "    metric = Dense(1, activation=\"linear\", name=\"metric\")(x)\n",
    "    \n",
    "    y = Dense(8, activation=\"relu\")(xg)\n",
    "    y = Dropout(0.1)(y)\n",
    "    bot = Dense(1, activation=\"sigmoid\", name=\"bot\")(y)\n",
    "    \n",
    "    model = Model(inputs=[reply], outputs=[metric, bot])\n",
    "    \n",
    "    model.compile(loss={\"metric\": \"mse\", \"bot\": \"binary_crossentropy\"},\n",
    "                  optimizer=Adam(0.0001), metrics=[\"accuracy\"], loss_weights={\"metric\": 1, \"bot\": 10})\n",
    "    \n",
    "    if weights:\n",
    "        model.load_weights(weights)\n",
    "    \n",
    "    return model"
   ]
  },
  {
   "cell_type": "code",
   "execution_count": 772,
   "metadata": {
    "collapsed": true
   },
   "outputs": [],
   "source": [
    "checkpoint_cb = ModelCheckpoint(\n",
    "    filepath=\"/workspace/data/bots/chat_model_weights_1_.{epoch:02d}-{val_loss:.5f}-{val_acc:.5f}.hdf5\",\n",
    "    save_weights_only=True)"
   ]
  },
  {
   "cell_type": "code",
   "execution_count": 773,
   "metadata": {
    "collapsed": false
   },
   "outputs": [],
   "source": [
    "model = get_chat_model()"
   ]
  },
  {
   "cell_type": "code",
   "execution_count": 774,
   "metadata": {
    "collapsed": true
   },
   "outputs": [],
   "source": [
    "N_EPOCHS = 50"
   ]
  },
  {
   "cell_type": "code",
   "execution_count": 775,
   "metadata": {
    "collapsed": false,
    "scrolled": false
   },
   "outputs": [
    {
     "name": "stdout",
     "output_type": "stream",
     "text": [
      "0\n",
      "mse: train: 0.5292192536224828, test: 0.3690734257498498\n",
      "sr: train: -0.01740944011550958, test: 0.06561043727431924\n",
      "ll: train: 0.23459915666300815, test: 0.24120753576849926\n",
      "1\n",
      "mse: train: 0.3557184638533588, test: 0.2539119081155209\n",
      "sr: train: 0.21388600840152924, test: 0.2998499271423231\n",
      "ll: train: 0.20938920438181052, test: 0.22863373556685973\n",
      "2\n",
      "mse: train: 0.27856283996383874, test: 0.21827166201685222\n",
      "sr: train: 0.26367357491992105, test: 0.334627842668577\n",
      "ll: train: 0.18625895053469566, test: 0.21930400660390612\n",
      "3\n",
      "mse: train: 0.24202808963159417, test: 0.216252966739191\n",
      "sr: train: 0.28544797536686295, test: 0.3382809850557885\n",
      "ll: train: 0.17197079235226106, test: 0.2154242176814643\n",
      "4\n",
      "mse: train: 0.23017726606788122, test: 0.2272639738831541\n",
      "sr: train: 0.29741893123385144, test: 0.34156881320427895\n",
      "ll: train: 0.16102469677263698, test: 0.21441453714723796\n",
      "5\n",
      "mse: train: 0.22779741137979492, test: 0.23389572057462168\n",
      "sr: train: 0.3065134991831864, test: 0.3409843104223251\n",
      "ll: train: 0.1544470957697396, test: 0.2146494518096502\n",
      "6\n",
      "mse: train: 0.2271768745252981, test: 0.23313588109453479\n",
      "sr: train: 0.3144130706143076, test: 0.3337510884956463\n",
      "ll: train: 0.14986505626767546, test: 0.21390759567260126\n",
      "7\n",
      "mse: train: 0.22676634435951382, test: 0.23072980570325058\n",
      "sr: train: 0.31976047281383585, test: 0.3382809850557885\n",
      "ll: train: 0.14582925667029517, test: 0.21330799294615216\n",
      "8\n",
      "mse: train: 0.22630373051147334, test: 0.23046255454709738\n",
      "sr: train: 0.3216239614591261, test: 0.3309016374336212\n",
      "ll: train: 0.14174587446506073, test: 0.2109069277653394\n",
      "9\n",
      "mse: train: 0.22564892079898533, test: 0.23201691706817051\n",
      "sr: train: 0.3270523849041017, test: 0.3258603009392693\n",
      "ll: train: 0.13768768351231314, test: 0.2100603928262585\n",
      "10\n",
      "mse: train: 0.22484382525325675, test: 0.2325857732820306\n",
      "sr: train: 0.3368559556032368, test: 0.3067178348302808\n",
      "ll: train: 0.13344904640506156, test: 0.20749278348992825\n",
      "11\n",
      "mse: train: 0.2236651228448267, test: 0.23341671752957607\n",
      "sr: train: 0.3536273534108481, test: 0.29561228197315775\n",
      "ll: train: 0.1289512154552381, test: 0.20289179634272964\n",
      "12\n",
      "mse: train: 0.2219634250240277, test: 0.23245419888233138\n",
      "sr: train: 0.3670363695323925, test: 0.3026263153566039\n",
      "ll: train: 0.1251843084442798, test: 0.2004433592204757\n",
      "13\n",
      "mse: train: 0.220606938195793, test: 0.22820514358862726\n",
      "sr: train: 0.3756448768611784, test: 0.32074590159717314\n",
      "ll: train: 0.1213817628668865, test: 0.1957580040749855\n",
      "14\n",
      "mse: train: 0.2190241797882298, test: 0.2276618369881178\n",
      "sr: train: 0.3847800222853725, test: 0.33506621975504236\n",
      "ll: train: 0.11893057249020718, test: 0.19342081786773904\n",
      "15\n",
      "mse: train: 0.2181324274603261, test: 0.22598282105503012\n",
      "sr: train: 0.38933746734178865, test: 0.3395961163151847\n",
      "ll: train: 0.11666019748243586, test: 0.1905539090813876\n",
      "16\n",
      "mse: train: 0.21673022662931246, test: 0.22552704094471535\n",
      "sr: train: 0.3922137215551713, test: 0.35640057129635777\n",
      "ll: train: 0.1144559030048577, test: 0.18715089334158772\n",
      "17\n",
      "mse: train: 0.21567641816034358, test: 0.22427944620305368\n",
      "sr: train: 0.3968521878570348, test: 0.36502198733017704\n",
      "ll: train: 0.11246405963168843, test: 0.18420531842218907\n",
      "18\n",
      "mse: train: 0.21564663187324062, test: 0.21746520517168952\n",
      "sr: train: 0.3970749962820151, test: 0.3773696085989521\n",
      "ll: train: 0.11053234335031842, test: 0.18165363990371597\n",
      "19\n",
      "mse: train: 0.21380163126334684, test: 0.22405581277040584\n",
      "sr: train: 0.4058050354789723, test: 0.3724743978000885\n",
      "ll: train: 0.10864923361323336, test: 0.17910985986088063\n",
      "20\n",
      "mse: train: 0.2128190774061642, test: 0.22327738058242605\n",
      "sr: train: 0.4108892109881359, test: 0.3784655513151155\n",
      "ll: train: 0.10682879003041666, test: 0.1761380176234585\n",
      "21\n",
      "mse: train: 0.2115346681160223, test: 0.2215151876823968\n",
      "sr: train: 0.4129956710124288, test: 0.39249361808200783\n",
      "ll: train: 0.10515735313282597, test: 0.1733478706495068\n",
      "22\n",
      "mse: train: 0.21043677105545358, test: 0.22385152393129307\n",
      "sr: train: 0.41812026478697667, test: 0.39446631497110196\n",
      "ll: train: 0.103625830186312, test: 0.17088290226281116\n",
      "23\n",
      "mse: train: 0.20968939051291344, test: 0.21846719721596278\n",
      "sr: train: 0.42061166808448414, test: 0.4009689084203385\n",
      "ll: train: 0.10246460504250575, test: 0.17131736770896563\n",
      "24\n",
      "mse: train: 0.2085849461400001, test: 0.2206458860365895\n",
      "sr: train: 0.425736261859032, test: 0.4075445647173193\n",
      "ll: train: 0.10074206136404956, test: 0.16798021006002303\n",
      "25\n",
      "mse: train: 0.2077135698915913, test: 0.22267804017806422\n",
      "sr: train: 0.43229898274027134, test: 0.406813936239877\n",
      "ll: train: 0.09919770919936885, test: 0.166136916721762\n",
      "26\n",
      "mse: train: 0.2070443338132345, test: 0.21956191706833533\n",
      "sr: train: 0.4370792362216677, test: 0.40374529663461933\n",
      "ll: train: 0.09740290445017039, test: 0.16234254595898784\n",
      "27\n",
      "mse: train: 0.2067026589730948, test: 0.21589696094975871\n",
      "sr: train: 0.4420620428166827, test: 0.3970235146421501\n",
      "ll: train: 0.09571426533493976, test: 0.16077831316999297\n",
      "28\n",
      "mse: train: 0.20541683417492904, test: 0.21797772841190344\n",
      "sr: train: 0.4444319142460191, test: 0.4055718678282251\n",
      "ll: train: 0.09422480089952363, test: 0.1596411382374626\n",
      "29\n",
      "mse: train: 0.20443532472989734, test: 0.21862448459924771\n",
      "sr: train: 0.4452218713891312, test: 0.41638516929437125\n",
      "ll: train: 0.09216940362510649, test: 0.1554439356203714\n",
      "30\n",
      "mse: train: 0.20367321746973507, test: 0.21741505115654114\n",
      "sr: train: 0.4479158278002571, test: 0.4208420030067693\n",
      "ll: train: 0.09060948691950696, test: 0.15374777663847372\n",
      "31\n",
      "mse: train: 0.20285096297407165, test: 0.2174246954442978\n",
      "sr: train: 0.44969829520009996, test: 0.4240567683075155\n",
      "ll: train: 0.08912518238596281, test: 0.15263944545227237\n",
      "32\n",
      "mse: train: 0.2020455043790021, test: 0.21782696164349688\n",
      "sr: train: 0.457354802894879, test: 0.4153622894259521\n",
      "ll: train: 0.08664988025995891, test: 0.14729298578416047\n",
      "33\n",
      "mse: train: 0.20142494526931384, test: 0.2130426477127539\n",
      "sr: train: 0.4589448517140511, test: 0.41938074605188475\n",
      "ll: train: 0.08535551590051434, test: 0.1473475682858828\n",
      "34\n",
      "mse: train: 0.20053832201438057, test: 0.21312942604009355\n",
      "sr: train: 0.46509233183510545, test: 0.4147777866439982\n",
      "ll: train: 0.08383745910838324, test: 0.14554782063693805\n",
      "35\n",
      "mse: train: 0.1995679269323183, test: 0.22132786087297576\n",
      "sr: train: 0.4658012677327702, test: 0.41989218598609435\n",
      "ll: train: 0.08193561656360648, test: 0.14326609051453937\n",
      "36\n",
      "mse: train: 0.1986901412465528, test: 0.21587888622707047\n",
      "sr: train: 0.47096637213004183, test: 0.4137549067755789\n",
      "ll: train: 0.08029264345419652, test: 0.1416868181642278\n",
      "37\n",
      "mse: train: 0.19800494441229233, test: 0.21555342783464557\n",
      "sr: train: 0.47335649887074005, test: 0.41200139842971745\n",
      "ll: train: 0.07863554813122911, test: 0.13934110942746228\n",
      "38\n",
      "mse: train: 0.1973047872852933, test: 0.21405652420859686\n",
      "sr: train: 0.47546305125237237, test: 0.4117822098864847\n",
      "ll: train: 0.0771662988066403, test: 0.13790435589399969\n",
      "39\n",
      "mse: train: 0.19649754960706153, test: 0.21512639649400797\n",
      "sr: train: 0.4787849223157157, test: 0.4067408733921328\n",
      "ll: train: 0.07597155613799647, test: 0.13766375031789907\n",
      "40\n",
      "mse: train: 0.1957807283938902, test: 0.21904478923963952\n",
      "sr: train: 0.4826131761631053, test: 0.4032338567004097\n",
      "ll: train: 0.07404408960208608, test: 0.1338630561543673\n",
      "41\n",
      "mse: train: 0.19508348695050043, test: 0.21734786006504392\n",
      "sr: train: 0.48192460390107333, test: 0.409663387301902\n",
      "ll: train: 0.07272075098529411, test: 0.13237777798549882\n",
      "42\n",
      "mse: train: 0.1943392142862085, test: 0.2172224293115155\n",
      "sr: train: 0.48498304759244165, test: 0.4041106108733405\n",
      "ll: train: 0.07170453279403419, test: 0.13178236522478418\n",
      "43\n",
      "mse: train: 0.19377409913999957, test: 0.2135215969248714\n",
      "sr: train: 0.4856312175560208, test: 0.40447592511206165\n",
      "ll: train: 0.07115787840195902, test: 0.13290900658922639\n",
      "44\n",
      "mse: train: 0.19291017064728017, test: 0.21671513828052402\n",
      "sr: train: 0.48927717360115364, test: 0.3990692743789886\n",
      "ll: train: 0.07000142709712408, test: 0.13122020647805935\n",
      "45\n",
      "mse: train: 0.19218615749295753, test: 0.21637496141546828\n",
      "sr: train: 0.4904722369715028, test: 0.4005305313338732\n",
      "ll: train: 0.06907806913980427, test: 0.1298323362355444\n",
      "46\n",
      "mse: train: 0.1916212019618206, test: 0.21511423982916522\n",
      "sr: train: 0.4945638098665964, test: 0.3894980413244943\n",
      "ll: train: 0.06825127129545612, test: 0.129474102634594\n",
      "47\n",
      "mse: train: 0.1921875160394769, test: 0.2340806070601188\n",
      "sr: train: 0.4987161486957756, test: 0.38672165311021356\n",
      "ll: train: 0.06761947548031233, test: 0.12972047623481908\n",
      "48\n",
      "mse: train: 0.19097801653980603, test: 0.2108786412214589\n",
      "sr: train: 0.4979059362413016, test: 0.3859910246327713\n",
      "ll: train: 0.06659486881916596, test: 0.12768935998988926\n",
      "49\n",
      "mse: train: 0.18936231256194025, test: 0.22060142423294737\n",
      "sr: train: 0.499992233311572, test: 0.3879637215218655\n",
      "ll: train: 0.0661520249862187, test: 0.12867447337069815\n"
     ]
    }
   ],
   "source": [
    "mse_train_l = []\n",
    "mse_test_l = []\n",
    "sr_train_l = []\n",
    "sr_test_l = []\n",
    "bot_train_l = []\n",
    "bot_test_l = []\n",
    "for i in range(N_EPOCHS):\n",
    "    print(i)\n",
    "    model.fit(x_train, [y_train_score, y_train_bot], batch_size=16, epochs=1, verbose=0)\n",
    "    train_preds = model.predict(x_train)\n",
    "    test_preds = model.predict(x_test)\n",
    "    sr_train = spearmanr(train_preds[0], y_train_score)\n",
    "    sr_train_l.append(sr_train.correlation)\n",
    "    sr_test = spearmanr(test_preds[0], y_test_score)\n",
    "    sr_test_l.append(sr_test.correlation)\n",
    "    \n",
    "    mse_train = mean_squared_error(train_preds[0], y_train_score)\n",
    "    mse_test = mean_squared_error(test_preds[0], y_test_score)\n",
    "    mse_train_l.append(mse_train)\n",
    "    mse_test_l.append(mse_test)\n",
    "    \n",
    "    ll_train = mean_squared_error(train_preds[1], y_train_bot)\n",
    "    ll_test = mean_squared_error(test_preds[1], y_test_bot)\n",
    "    bot_train_l.append(ll_train)\n",
    "    bot_test_l.append(ll_test)\n",
    "   \n",
    "    print(\"mse: train: {}, test: {}\".format(mse_train, mse_test))\n",
    "    print(\"sr: train: {}, test: {}\".format(sr_train.correlation, sr_test.correlation))\n",
    "    print(\"ll: train: {}, test: {}\".format(ll_train, ll_test))"
   ]
  },
  {
   "cell_type": "code",
   "execution_count": 767,
   "metadata": {
    "collapsed": false
   },
   "outputs": [
    {
     "data": {
      "image/png": "[encoded data removed]",
      "text/plain": [
       "<matplotlib.figure.Figure at 0x7fb8df2504e0>"
      ]
     },
     "metadata": {},
     "output_type": "display_data"
    }
   ],
   "source": [
    "plt.plot(mse_train_l)\n",
    "plt.plot(mse_test_l)\n",
    "plt.show()"
   ]
  },
  {
   "cell_type": "code",
   "execution_count": 768,
   "metadata": {
    "collapsed": false
   },
   "outputs": [
    {
     "data": {
      "text/plain": [
       "0.42354532837330588"
      ]
     },
     "execution_count": 768,
     "metadata": {},
     "output_type": "execute_result"
    }
   ],
   "source": [
    "max(sr_test_l)"
   ]
  },
  {
   "cell_type": "code",
   "execution_count": 769,
   "metadata": {
    "collapsed": false
   },
   "outputs": [
    {
     "data": {
      "image/png": "[encoded data removed]",
      "text/plain": [
       "<matplotlib.figure.Figure at 0x7fb8ded13d30>"
      ]
     },
     "metadata": {},
     "output_type": "display_data"
    }
   ],
   "source": [
    "plt.plot(sr_train_l)\n",
    "plt.plot(sr_test_l)\n",
    "plt.show()"
   ]
  },
  {
   "cell_type": "code",
   "execution_count": 770,
   "metadata": {
    "collapsed": false
   },
   "outputs": [
    {
     "data": {
      "image/png": "[encoded data removed]",
      "text/plain": [
       "<matplotlib.figure.Figure at 0x7fb8dec85eb8>"
      ]
     },
     "metadata": {},
     "output_type": "display_data"
    }
   ],
   "source": [
    "plt.plot(bot_train_l)\n",
    "plt.plot(bot_test_l)\n",
    "plt.show()"
   ]
  },
  {
   "cell_type": "code",
   "execution_count": 776,
   "metadata": {
    "collapsed": true
   },
   "outputs": [],
   "source": [
    "model.save_weights(\"/workspace/mount/bots/bots_model.h5\")"
   ]
  },
  {
   "cell_type": "code",
   "execution_count": null,
   "metadata": {
    "collapsed": true
   },
   "outputs": [],
   "source": []
  }
 ],
 "metadata": {
  "anaconda-cloud": {},
  "kernelspec": {
   "display_name": "Python [default]",
   "language": "python",
   "name": "python3"
  },
  "language_info": {
   "codemirror_mode": {
    "name": "ipython",
    "version": 3
   },
   "file_extension": ".py",
   "mimetype": "text/x-python",
   "name": "python",
   "nbconvert_exporter": "python",
   "pygments_lexer": "ipython3",
   "version": "3.5.2"
  }
 },
 "nbformat": 4,
 "nbformat_minor": 2
}
