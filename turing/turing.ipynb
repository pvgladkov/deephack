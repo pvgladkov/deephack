{
 "cells": [
  {
   "cell_type": "code",
   "execution_count": 26,
   "metadata": {
    "collapsed": true
   },
   "outputs": [],
   "source": [
    "import pandas as pd\n",
    "import numpy as np\n",
    "import scipy.sparse as sp\n",
    "\n",
    "from sklearn.feature_extraction.text import CountVectorizer\n",
    "from sklearn.calibration import CalibratedClassifierCV\n",
    "from sklearn.svm import LinearSVC\n",
    "from sklearn.metrics import roc_auc_score, roc_curve"
   ]
  },
  {
   "cell_type": "code",
   "execution_count": 1,
   "metadata": {
    "collapsed": true
   },
   "outputs": [],
   "source": [
    "from xgboost.sklearn import XGBClassifier"
   ]
  },
  {
   "cell_type": "code",
   "execution_count": 6,
   "metadata": {
    "collapsed": true
   },
   "outputs": [],
   "source": [
    "import matplotlib.pyplot as plt\n",
    "import matplotlib.pylab as pylab\n",
    "%matplotlib inline"
   ]
  },
  {
   "cell_type": "markdown",
   "metadata": {},
   "source": [
    "## Чтение"
   ]
  },
  {
   "cell_type": "code",
   "execution_count": 2,
   "metadata": {
    "collapsed": true
   },
   "outputs": [],
   "source": [
    "df_train = pd.read_csv('data/train.txt', sep='\\t')"
   ]
  },
  {
   "cell_type": "code",
   "execution_count": 4,
   "metadata": {
    "collapsed": true
   },
   "outputs": [],
   "source": [
    "df_validate = pd.read_csv('data/validation.txt', sep='\\t')"
   ]
  },
  {
   "cell_type": "code",
   "execution_count": 3,
   "metadata": {
    "collapsed": false
   },
   "outputs": [
    {
     "data": {
      "text/html": [
       "<div>\n",
       "<table border=\"1\" class=\"dataframe\">\n",
       "  <thead>\n",
       "    <tr style=\"text-align: right;\">\n",
       "      <th></th>\n",
       "      <th>id</th>\n",
       "      <th>context</th>\n",
       "      <th>response</th>\n",
       "      <th>human-generated</th>\n",
       "    </tr>\n",
       "  </thead>\n",
       "  <tbody>\n",
       "    <tr>\n",
       "      <th>0</th>\n",
       "      <td>0</td>\n",
       "      <td>&lt;first_speaker&gt; 9@@ 5 de@@ gre@@ es with &lt;numb...</td>\n",
       "      <td>&lt;second_speaker&gt; &lt;at&gt; i forgot that thank@@ s@...</td>\n",
       "      <td>0</td>\n",
       "    </tr>\n",
       "    <tr>\n",
       "      <th>1</th>\n",
       "      <td>1</td>\n",
       "      <td>&lt;first_speaker&gt; &lt;at&gt; &lt;at&gt; y@@ ar ! o@@ y just ...</td>\n",
       "      <td>&lt;first_speaker&gt; &lt;at&gt; lol b we 'll see . we hea...</td>\n",
       "      <td>0</td>\n",
       "    </tr>\n",
       "    <tr>\n",
       "      <th>2</th>\n",
       "      <td>2</td>\n",
       "      <td>&lt;first_speaker&gt; ohh ! de@@ u cer@@ to ! ! dddd...</td>\n",
       "      <td>&lt;second_speaker&gt; &lt;at&gt; ac@@ or@@ de@@ i ag@@ or...</td>\n",
       "      <td>1</td>\n",
       "    </tr>\n",
       "    <tr>\n",
       "      <th>3</th>\n",
       "      <td>3</td>\n",
       "      <td>&lt;first_speaker&gt; ugh@@ hhh i wanted a pic@@ kle...</td>\n",
       "      <td>&lt;second_speaker&gt; &lt;at&gt; lol g@@ m</td>\n",
       "      <td>0</td>\n",
       "    </tr>\n",
       "    <tr>\n",
       "      <th>4</th>\n",
       "      <td>4</td>\n",
       "      <td>&lt;first_speaker&gt; &lt;at&gt; &lt;at&gt; &lt;at&gt; need to know to...</td>\n",
       "      <td>&lt;first_speaker&gt; &lt;at&gt; ok , will do - don 't be ...</td>\n",
       "      <td>1</td>\n",
       "    </tr>\n",
       "  </tbody>\n",
       "</table>\n",
       "</div>"
      ],
      "text/plain": [
       "   id                                            context  \\\n",
       "0   0  <first_speaker> 9@@ 5 de@@ gre@@ es with <numb...   \n",
       "1   1  <first_speaker> <at> <at> y@@ ar ! o@@ y just ...   \n",
       "2   2  <first_speaker> ohh ! de@@ u cer@@ to ! ! dddd...   \n",
       "3   3  <first_speaker> ugh@@ hhh i wanted a pic@@ kle...   \n",
       "4   4  <first_speaker> <at> <at> <at> need to know to...   \n",
       "\n",
       "                                            response  human-generated  \n",
       "0  <second_speaker> <at> i forgot that thank@@ s@...                0  \n",
       "1  <first_speaker> <at> lol b we 'll see . we hea...                0  \n",
       "2  <second_speaker> <at> ac@@ or@@ de@@ i ag@@ or...                1  \n",
       "3                    <second_speaker> <at> lol g@@ m                0  \n",
       "4  <first_speaker> <at> ok , will do - don 't be ...                1  "
      ]
     },
     "execution_count": 3,
     "metadata": {},
     "output_type": "execute_result"
    }
   ],
   "source": [
    "df_train.head()"
   ]
  },
  {
   "cell_type": "code",
   "execution_count": 7,
   "metadata": {
    "collapsed": false
   },
   "outputs": [
    {
     "data": {
      "text/plain": [
       "<matplotlib.axes._subplots.AxesSubplot at 0x7f7366720610>"
      ]
     },
     "execution_count": 7,
     "metadata": {},
     "output_type": "execute_result"
    },
    {
     "data": {
      "image/png": "[encoded data removed]",
      "text/plain": [
       "<matplotlib.figure.Figure at 0x7f7366720450>"
      ]
     },
     "metadata": {},
     "output_type": "display_data"
    }
   ],
   "source": [
    "df_train['human-generated'].hist()"
   ]
  },
  {
   "cell_type": "code",
   "execution_count": 5,
   "metadata": {
    "collapsed": false
   },
   "outputs": [
    {
     "data": {
      "text/html": [
       "<div>\n",
       "<table border=\"1\" class=\"dataframe\">\n",
       "  <thead>\n",
       "    <tr style=\"text-align: right;\">\n",
       "      <th></th>\n",
       "      <th>id</th>\n",
       "      <th>context</th>\n",
       "      <th>response</th>\n",
       "      <th>human-generated</th>\n",
       "    </tr>\n",
       "  </thead>\n",
       "  <tbody>\n",
       "    <tr>\n",
       "      <th>0</th>\n",
       "      <td>0</td>\n",
       "      <td>&lt;first_speaker&gt; morning &lt;second_speaker&gt; &lt;at&gt; ...</td>\n",
       "      <td>&lt;first_speaker&gt; &lt;at&gt; on the way to class</td>\n",
       "      <td>1</td>\n",
       "    </tr>\n",
       "    <tr>\n",
       "      <th>1</th>\n",
       "      <td>1</td>\n",
       "      <td>&lt;first_speaker&gt; c@@ loud compu@@ ting to drive...</td>\n",
       "      <td>&lt;second_speaker&gt; &lt;at&gt; except of course when th...</td>\n",
       "      <td>1</td>\n",
       "    </tr>\n",
       "    <tr>\n",
       "      <th>2</th>\n",
       "      <td>2</td>\n",
       "      <td>&lt;first_speaker&gt; my top followers &lt;at&gt; &lt;at&gt; &lt;at...</td>\n",
       "      <td>&lt;second_speaker&gt; &lt;at&gt; it obviously doesn 't co...</td>\n",
       "      <td>1</td>\n",
       "    </tr>\n",
       "    <tr>\n",
       "      <th>3</th>\n",
       "      <td>3</td>\n",
       "      <td>&lt;first_speaker&gt; life so cold you 'll free@@ ze...</td>\n",
       "      <td>&lt;second_speaker&gt; &lt;at&gt; i like ur profile pic th...</td>\n",
       "      <td>1</td>\n",
       "    </tr>\n",
       "    <tr>\n",
       "      <th>4</th>\n",
       "      <td>4</td>\n",
       "      <td>&lt;first_speaker&gt; me and &lt;at&gt; &lt;url&gt; yi@@ kes ! o...</td>\n",
       "      <td>&lt;third_speaker&gt; &lt;at&gt; u going show &lt;number&gt; nite</td>\n",
       "      <td>1</td>\n",
       "    </tr>\n",
       "  </tbody>\n",
       "</table>\n",
       "</div>"
      ],
      "text/plain": [
       "   id                                            context  \\\n",
       "0   0  <first_speaker> morning <second_speaker> <at> ...   \n",
       "1   1  <first_speaker> c@@ loud compu@@ ting to drive...   \n",
       "2   2  <first_speaker> my top followers <at> <at> <at...   \n",
       "3   3  <first_speaker> life so cold you 'll free@@ ze...   \n",
       "4   4  <first_speaker> me and <at> <url> yi@@ kes ! o...   \n",
       "\n",
       "                                            response  human-generated  \n",
       "0           <first_speaker> <at> on the way to class                1  \n",
       "1  <second_speaker> <at> except of course when th...                1  \n",
       "2  <second_speaker> <at> it obviously doesn 't co...                1  \n",
       "3  <second_speaker> <at> i like ur profile pic th...                1  \n",
       "4    <third_speaker> <at> u going show <number> nite                1  "
      ]
     },
     "execution_count": 5,
     "metadata": {},
     "output_type": "execute_result"
    }
   ],
   "source": [
    "df_validate.head()"
   ]
  },
  {
   "cell_type": "code",
   "execution_count": 8,
   "metadata": {
    "collapsed": false
   },
   "outputs": [
    {
     "data": {
      "text/plain": [
       "<matplotlib.axes._subplots.AxesSubplot at 0x7f7369504190>"
      ]
     },
     "execution_count": 8,
     "metadata": {},
     "output_type": "execute_result"
    },
    {
     "data": {
      "image/png": "[encoded data removed]",
      "text/plain": [
       "<matplotlib.figure.Figure at 0x7f745f011f50>"
      ]
     },
     "metadata": {},
     "output_type": "display_data"
    }
   ],
   "source": [
    "df_validate['human-generated'].hist()"
   ]
  },
  {
   "cell_type": "code",
   "execution_count": null,
   "metadata": {
    "collapsed": true
   },
   "outputs": [],
   "source": [
    "def train1(df_train, df_validate):\n",
    "    cv = CountVectorizer(token_pattern=r'\\S+', ngram_range=(1, 3), min_df=10, binary=True, dtype=np.uint8)\n",
    "    \n",
    "    X_train = cv.fit_transform(df_train.response)\n",
    "    y_train = df_train['human-generated'].values\n",
    "\n",
    "    X_validate = cv.transform(df_validate.response)\n",
    "    y_validate = df_validate['human-generated'].values\n",
    "    \n",
    "    C = 0.01\n",
    "    svm = LinearSVC(penalty='l1', dual=False, C=C, random_state=55)\n",
    "    svm.fit(X_train, y_train)\n",
    "    y_pred = svm.decision_function(X_validate)\n",
    "    \n",
    "    return roc_auc_score(y_validate, y_pred)"
   ]
  },
  {
   "cell_type": "code",
   "execution_count": null,
   "metadata": {
    "collapsed": true
   },
   "outputs": [],
   "source": [
    "def train2(df_train, df_validate):\n",
    "    cv = CountVectorizer(token_pattern=r'\\S+', ngram_range=(1, 3), min_df=10, binary=True, dtype=np.uint8)\n",
    "    \n",
    "    def repl(string):\n",
    "        return string.replace('@@ ', '')\n",
    "    \n",
    "    X_train = cv.fit_transform(map(repl, df_train.response))\n",
    "    y_train = df_train['human-generated'].values\n",
    "\n",
    "    X_validate = cv.transform(map(repl, df_validate.response))\n",
    "    y_validate = df_validate['human-generated'].values\n",
    "    \n",
    "    C = 0.01\n",
    "    svm = LinearSVC(penalty='l1', dual=False, C=C, random_state=55)\n",
    "    svm.fit(X_train, y_train)\n",
    "    y_pred = svm.decision_function(X_validate)\n",
    "    \n",
    "    return roc_auc_score(y_validate, y_pred)"
   ]
  },
  {
   "cell_type": "code",
   "execution_count": null,
   "metadata": {
    "collapsed": true
   },
   "outputs": [],
   "source": [
    "def train3(df_train, df_validate, df_test):\n",
    "    cv = CountVectorizer(token_pattern=r'\\S+', ngram_range=(1, 3), min_df=150, binary=True, dtype=np.uint8)\n",
    "    \n",
    "    print(\"train: {}, validate: {}\".format(df_train.shape, df_validate.shape))\n",
    "    \n",
    "    print(\"copy and concat\")\n",
    "    df_tmp = df_train.copy()\n",
    "    df_tmp['response'] = df_train['context']\n",
    "    df_tmp['human-generated'] = 1\n",
    "    df_train = pd.concat((df_train, df_tmp))\n",
    "    \n",
    "    print(\"train: {}, validate: {}\".format(df_train.shape, df_validate.shape))\n",
    "    \n",
    "    print(\"fit & transform\")\n",
    "    X_train = cv.fit_transform(df_train.response)\n",
    "    y_train = df_train['human-generated'].values\n",
    "    \n",
    "    print(\"fit\")\n",
    "    C = 0.01\n",
    "    svm = LinearSVC(penalty='l1', dual=False, C=C, random_state=55)\n",
    "    svm.fit(X_train, y_train)\n",
    "    \n",
    "    print('validate')\n",
    "    X_validate = cv.transform(df_validate.response)\n",
    "    y_validate = df_validate['human-generated'].values\n",
    "    y_pred = svm.decision_function(X_validate)\n",
    "    print(roc_auc_score(y_validate, y_pred))\n",
    "    \n",
    "    print('test submit')\n",
    "    X_test = cv.transform(df_test.response)\n",
    "    y_pred = svm.decision_function(X_test)\n",
    "    df_res = pd.DataFrame()\n",
    "    df_res['id'] = df_test.id\n",
    "    df_res['human-generated'] = y_pred\n",
    "\n",
    "    df_res.to_csv('sub150.csv', index=False)\n",
    "    \n",
    "    return True"
   ]
  },
  {
   "cell_type": "code",
   "execution_count": null,
   "metadata": {
    "collapsed": true
   },
   "outputs": [],
   "source": [
    "def train_c(df_train, df_validate, df_test):\n",
    "    cv = CountVectorizer(token_pattern=r'\\S+', ngram_range=(1, 3), min_df=10, binary=True, dtype=np.uint8)\n",
    "    \n",
    "    X_train = cv.fit_transform(df_train.response)\n",
    "    y_train = df_train['human-generated'].values\n",
    "    \n",
    "    C = 0.01\n",
    "    svm = LinearSVC(penalty='l1', dual=False, C=C, random_state=55)\n",
    "    svm.fit(X_train, y_train)\n",
    "    \n",
    "    X_validate = cv.transform(df_validate.response)\n",
    "    y_validate = df_validate['human-generated'].values\n",
    "    \n",
    "    cclf = CalibratedClassifierCV(svm, cv='prefit')\n",
    "    cclf.fit(X_validate, y_validate)\n",
    "    \n",
    "    X_test = cv.transform(df_test.response)\n",
    "    y_pred = cclf.predict_proba(X_test)\n",
    "    \n",
    "    return y_pred[:, 1]"
   ]
  },
  {
   "cell_type": "code",
   "execution_count": null,
   "metadata": {
    "collapsed": true
   },
   "outputs": [],
   "source": [
    "def train_c2(df_train, df_validate, df_test):\n",
    "    cv = CountVectorizer(token_pattern=r'\\S+', ngram_range=(1, 3), min_df=10, binary=True, dtype=np.uint8)\n",
    "    \n",
    "    df_all = pd.concat((df_train, df_validate))\n",
    "    \n",
    "    X_train = cv.fit_transform(df_all.response)\n",
    "    y_train = df_all['human-generated'].values\n",
    "    \n",
    "    C = 0.01\n",
    "    svm = LinearSVC(penalty='l1', dual=False, C=C, random_state=55)\n",
    "    \n",
    "    cclf = CalibratedClassifierCV(svm, cv=3)\n",
    "    cclf.fit(X_train, y_train)\n",
    "    \n",
    "    X_test = cv.transform(df_test.response)\n",
    "    y_pred = cclf.predict_proba(X_test)\n",
    "    \n",
    "    return y_pred[:, 1]"
   ]
  },
  {
   "cell_type": "markdown",
   "metadata": {},
   "source": [
    "max_depth=9, learning_rate=0.3, n_estimators=30: 0.730531301162\n",
    "max_depth=9, learning_rate=0.3, n_estimators=40: 0.733016387935\n",
    "max_depth=9, learning_rate=0.3, n_estimators=50: 0.734467133733\n",
    "max_depth=9, learning_rate=0.35, n_estimators=30: 0.731940762131\n",
    "max_depth=9, learning_rate=0.35, n_estimators=40: 0.734602830081\n",
    "max_depth=9, learning_rate=0.35, n_estimators=50: 0.736967875947\n",
    "max_depth=9, learning_rate=0.4, n_estimators=30: 0.7327362721\n",
    "max_depth=9, learning_rate=0.4, n_estimators=40: 0.735523295579\n",
    "max_depth=9, learning_rate=0.4, n_estimators=50: 0.737205045947\n",
    "max_depth=12, learning_rate=0.3, n_estimators=30: 0.737724933709\n",
    "max_depth=12, learning_rate=0.3, n_estimators=40: 0.739762731372\n",
    "max_depth=12, learning_rate=0.3, n_estimators=50: 0.740798688574\n",
    "max_depth=12, learning_rate=0.35, n_estimators=30: 0.739264528482\n",
    "max_depth=12, learning_rate=0.35, n_estimators=40: 0.740997666217\n",
    "max_depth=12, learning_rate=0.35, n_estimators=50: 0.742553640512\n",
    "max_depth=12, learning_rate=0.4, n_estimators=30: 0.739860481743\n",
    "max_depth=12, learning_rate=0.4, n_estimators=40: 0.741451254529\n",
    "max_depth=12, learning_rate=0.4, n_estimators=50: 0.743342295575\n",
    "max_depth=15, learning_rate=0.3, n_estimators=30: 0.739704328564\n",
    "max_depth=15, learning_rate=0.3, n_estimators=40: 0.741261601073\n",
    "max_depth=15, learning_rate=0.3, n_estimators=50: 0.742359363414\n",
    "max_depth=15, learning_rate=0.35, n_estimators=30: 0.741648472742\n",
    "max_depth=15, learning_rate=0.35, n_estimators=40: 0.743009186008\n",
    "max_depth=15, learning_rate=0.35, n_estimators=50: 0.743482153325\n",
    "max_depth=15, learning_rate=0.4, n_estimators=30: 0.742572738264\n",
    "max_depth=15, learning_rate=0.4, n_estimators=40: 0.743386492486\n",
    "max_depth=15, learning_rate=0.4, n_estimators=50: 0.743961912531\n",
    "\n",
    "max_depth=9, learning_rate=0.3, n_estimators=40: 0.797757098686\n",
    "max_depth=9, learning_rate=0.3, n_estimators=50: 0.799352694518\n",
    "max_depth=9, learning_rate=0.3, n_estimators=60: 0.801463465847\n",
    "max_depth=9, learning_rate=0.35, n_estimators=40: 0.798742104323\n",
    "max_depth=9, learning_rate=0.35, n_estimators=50: 0.800509648725\n",
    "max_depth=9, learning_rate=0.35, n_estimators=60: 0.801562354951\n",
    "max_depth=9, learning_rate=0.4, n_estimators=40: 0.799853407444\n",
    "max_depth=9, learning_rate=0.4, n_estimators=50: 0.807889555966\n",
    "max_depth=9, learning_rate=0.4, n_estimators=60: 0.808537496512\n",
    "max_depth=12, learning_rate=0.3, n_estimators=40: 0.811986245915\n",
    "max_depth=12, learning_rate=0.3, n_estimators=50: 0.814180983261\n",
    "max_depth=12, learning_rate=0.3, n_estimators=60: 0.814707579962\n",
    "max_depth=12, learning_rate=0.35, n_estimators=40: 0.811337429828\n",
    "max_depth=12, learning_rate=0.35, n_estimators=50: 0.813396106923\n",
    "max_depth=12, learning_rate=0.35, n_estimators=60: 0.81394350428\n",
    "max_depth=12, learning_rate=0.4, n_estimators=40: 0.81292538884\n",
    "max_depth=12, learning_rate=0.4, n_estimators=50: 0.814450810983\n",
    "max_depth=12, learning_rate=0.4, n_estimators=60: 0.815869808642\n",
    "max_depth=15, learning_rate=0.3, n_estimators=40: 0.815225701432\n",
    "max_depth=15, learning_rate=0.3, n_estimators=50: 0.815635137212\n",
    "max_depth=15, learning_rate=0.3, n_estimators=60: 0.816104280624\n",
    "max_depth=15, learning_rate=0.35, n_estimators=40: 0.816238384938\n",
    "max_depth=15, learning_rate=0.35, n_estimators=50: 0.816404062881\n",
    "max_depth=15, learning_rate=0.35, n_estimators=60: 0.816928457221\n",
    "max_depth=15, learning_rate=0.4, n_estimators=40: 0.815213553281\n",
    "max_depth=15, learning_rate=0.4, n_estimators=50: 0.817560827636\n",
    "max_depth=15, learning_rate=0.4, n_estimators=60: 0.817604208695\n",
    "\n"
   ]
  },
  {
   "cell_type": "code",
   "execution_count": null,
   "metadata": {
    "collapsed": true
   },
   "outputs": [],
   "source": [
    "def train_xgb(df_train, df_validate, df_test):\n",
    "    \n",
    "    print('test submit')\n",
    "    cv = CountVectorizer(token_pattern=r'\\S+', ngram_range=(1, 3), min_df=10, binary=True, dtype=np.uint8)\n",
    "    df_all = pd.concat((df_train, df_validate))\n",
    "    \n",
    "    print('fit & transform')\n",
    "    X_train = cv.fit_transform(df_all.response)\n",
    "    X_train = add_features(df_all, X_train)\n",
    "    y_train = df_all['human-generated'].values\n",
    "    \n",
    "    print('fit')\n",
    "    xgb = XGBClassifier(max_depth=15, learning_rate=0.4, n_estimators=60, nthread=30)\n",
    "    xgb.fit(X_train, y_train)\n",
    "    \n",
    "    X_test = cv.transform(df_test.response)\n",
    "    X_test = add_features(df_test, X_test)\n",
    "    y_pred = xgb.predict_proba(X_test)\n",
    "    df_res = pd.DataFrame()\n",
    "    df_res['id'] = df_test.id\n",
    "    df_res['human-generated'] = y_pred[:, 1]\n",
    "\n",
    "    df_res.to_csv('sub_xgb_features_1.csv', index=False)\n",
    "    \n",
    "    return True"
   ]
  },
  {
   "cell_type": "code",
   "execution_count": null,
   "metadata": {
    "collapsed": true
   },
   "outputs": [],
   "source": [
    "def add_features(df, X):\n",
    "    context_has_first = df.context.apply(lambda x: x.count('first_speaker'))\n",
    "    context_has_second = df.context.apply(lambda x: x.count('second_speaker'))\n",
    "    context_has_third = df.context.apply(lambda x: x.count('third_speaker'))\n",
    "\n",
    "    response_has_first = df.response.apply(lambda x: x.count('first_speaker'))\n",
    "    response_has_second = df.response.apply(lambda x: x.count('second_speaker'))\n",
    "    response_has_third = df.response.apply(lambda x: x.count('third_speaker'))\n",
    "    \n",
    "    response_len = df.response.apply(lambda x: len(x))\n",
    "    context_len = df.context.apply(lambda x: len(x))\n",
    "    \n",
    "    dogs_count_response = df.response.apply(lambda x: x.count('@'))\n",
    "    dogs_count_context = df.context.apply(lambda x: x.count('@'))\n",
    "    \n",
    "    context_words = df.context.apply(lambda x: len(x.replace('@@ ', '').split()) * 1.0)\n",
    "    context_chars = df.context.apply(lambda x: len(x.replace('@@ ', '')) * 1.0)\n",
    "    context_avg_word_len = pd.Series(np.divide(context_chars, context_words))\n",
    "    \n",
    "    response_words = df.response.apply(lambda x: len(x.replace('@@ ', '').split()) * 1.0)\n",
    "    response_chars = df.response.apply(lambda x: len(x.replace('@@ ', '')) * 1.0)\n",
    "    response_avg_word_len = pd.Series(np.divide(response_chars, response_words))\n",
    "    \n",
    "    cols = [context_has_first, context_has_second, context_has_third, response_has_first, response_has_second,\n",
    "            response_has_third, response_len, context_len, dogs_count_response, dogs_count_context, \n",
    "            context_words, context_chars, context_avg_word_len, response_words, response_chars, response_avg_word_len]\n",
    "    \n",
    "    return sp.hstack([X] + [m.values[:,None] for m in cols])\n",
    "\n",
    "def train_xgb_search(df_train, df_validate, df_test):\n",
    "    cv = CountVectorizer(token_pattern=r'\\S+', ngram_range=(1, 3), min_df=10, binary=True, dtype=np.uint8)\n",
    "    \n",
    "    print('fit & transform')\n",
    "    X_train = cv.fit_transform(df_train.response)\n",
    "    X_train = add_features(df_train, X_train)\n",
    "    \n",
    "    y_train = df_train['human-generated'].values\n",
    "    \n",
    "    X_validate = cv.transform(df_validate.response)\n",
    "    X_validate = add_features(df_validate, X_validate)\n",
    "    y_validate = df_validate['human-generated'].values\n",
    "    \n",
    "    for d in [9, 12, 15]:\n",
    "        for lr in [0.3, 0.35, 0.4]:\n",
    "            for ne in [40, 50, 60]:\n",
    "                xgb = XGBClassifier(max_depth=d, learning_rate=lr, n_estimators=ne, nthread=30)\n",
    "                xgb.fit(X_train, y_train)\n",
    "                y_pred = xgb.predict_proba(X_validate)\n",
    "                score = roc_auc_score(y_validate, y_pred[:, 1])\n",
    "                print(\"max_depth={}, learning_rate={}, n_estimators={}: {}\".format(d, lr, ne, score))"
   ]
  },
  {
   "cell_type": "code",
   "execution_count": 25,
   "metadata": {
    "collapsed": false
   },
   "outputs": [
    {
     "name": "stdout",
     "output_type": "stream",
     "text": [
      "0.735158954307\n"
     ]
    }
   ],
   "source": [
    "print roc_auc_score(y_validate, y_pred)"
   ]
  },
  {
   "cell_type": "code",
   "execution_count": 24,
   "metadata": {
    "collapsed": false
   },
   "outputs": [
    {
     "data": {
      "image/png": "[encoded data removed]",
      "text/plain": [
       "<matplotlib.figure.Figure at 0x7f72c303bd10>"
      ]
     },
     "metadata": {},
     "output_type": "display_data"
    }
   ],
   "source": [
    "fpr, tpr, thresholds = roc_curve(y_validate, y_pred)\n",
    "\n",
    "plt.plot(fpr, tpr, label='ROC curve (area = %0.2f)' % roc_auc_score(y_validate, y_pred))\n",
    "plt.xlabel('False Positive Rate')\n",
    "plt.ylabel('True Positive Rate')\n",
    "plt.title('ROC')\n",
    "plt.legend(loc=\"lower right\")\n",
    "plt.show()"
   ]
  },
  {
   "cell_type": "markdown",
   "metadata": {},
   "source": [
    "## Подготовка"
   ]
  },
  {
   "cell_type": "code",
   "execution_count": 9,
   "metadata": {
    "collapsed": true
   },
   "outputs": [],
   "source": [
    "cv = CountVectorizer(token_pattern=r'\\S+', ngram_range=(1, 3), min_df=10, binary=True, dtype=np.uint8)"
   ]
  },
  {
   "cell_type": "code",
   "execution_count": 11,
   "metadata": {
    "collapsed": false
   },
   "outputs": [
    {
     "name": "stdout",
     "output_type": "stream",
     "text": [
      "(7190976, 4)\n",
      "(524342, 4)\n",
      "(7715318, 4)\n"
     ]
    }
   ],
   "source": [
    "df_all = pd.concat((df_train, df_validate))\n",
    "print df_train.shape\n",
    "print df_validate.shape\n",
    "print df_all.shape"
   ]
  },
  {
   "cell_type": "code",
   "execution_count": 13,
   "metadata": {
    "collapsed": false
   },
   "outputs": [],
   "source": [
    "X_train = cv.fit_transform(df_all.response)\n",
    "y_train = df_all['human-generated'].values"
   ]
  },
  {
   "cell_type": "markdown",
   "metadata": {},
   "source": [
    "## Обучение"
   ]
  },
  {
   "cell_type": "code",
   "execution_count": 14,
   "metadata": {
    "collapsed": false
   },
   "outputs": [
    {
     "data": {
      "text/plain": [
       "LinearSVC(C=0.01, class_weight=None, dual=False, fit_intercept=True,\n",
       "     intercept_scaling=1, loss='squared_hinge', max_iter=1000,\n",
       "     multi_class='ovr', penalty='l1', random_state=55, tol=0.0001,\n",
       "     verbose=0)"
      ]
     },
     "execution_count": 14,
     "metadata": {},
     "output_type": "execute_result"
    }
   ],
   "source": [
    "C = 0.01\n",
    "svm = LinearSVC(penalty='l1', dual=False, C=C, random_state=55)\n",
    "svm.fit(X_train, y_train)"
   ]
  },
  {
   "cell_type": "code",
   "execution_count": 15,
   "metadata": {
    "collapsed": true
   },
   "outputs": [],
   "source": [
    "df_test = pd.read_csv('data/test.txt', sep='\\t')\n",
    "X_test = cv.transform(df_test.response)\n",
    "y_pred = svm.decision_function(X_test)"
   ]
  },
  {
   "cell_type": "code",
   "execution_count": 16,
   "metadata": {
    "collapsed": true
   },
   "outputs": [],
   "source": [
    "df_res = pd.DataFrame()\n",
    "df_res['id'] = df_test.id\n",
    "df_res['human-generated'] = y_pred\n",
    "\n",
    "\n",
    "df_res.to_csv('sub.csv', index=False)"
   ]
  },
  {
   "cell_type": "code",
   "execution_count": 27,
   "metadata": {
    "collapsed": true
   },
   "outputs": [],
   "source": [
    "import joblib"
   ]
  },
  {
   "cell_type": "code",
   "execution_count": 28,
   "metadata": {
    "collapsed": true
   },
   "outputs": [],
   "source": [
    "y_pred = joblib.load('y_pred.joblib')"
   ]
  },
  {
   "cell_type": "code",
   "execution_count": 29,
   "metadata": {
    "collapsed": true
   },
   "outputs": [],
   "source": [
    "_id = joblib.load('id.joblib')"
   ]
  },
  {
   "cell_type": "code",
   "execution_count": 32,
   "metadata": {
    "collapsed": false
   },
   "outputs": [
    {
     "data": {
      "text/plain": [
       "array([[ 0.85530499,  0.14469501],\n",
       "       [ 0.97592652,  0.02407348],\n",
       "       [ 0.82789098,  0.17210902],\n",
       "       [ 0.80253026,  0.19746974]])"
      ]
     },
     "execution_count": 32,
     "metadata": {},
     "output_type": "execute_result"
    }
   ],
   "source": [
    "y_pred[:4]"
   ]
  },
  {
   "cell_type": "code",
   "execution_count": 33,
   "metadata": {
    "collapsed": false
   },
   "outputs": [],
   "source": [
    "df_res = pd.DataFrame()\n",
    "df_res['id'] = _id\n",
    "df_res['human-generated'] = y_pred[:, 1]\n",
    "\n",
    "df_res.to_csv('sub1.csv', index=False)"
   ]
  }
 ],
 "metadata": {
  "kernelspec": {
   "display_name": "Python 2",
   "language": "python",
   "name": "python2"
  },
  "language_info": {
   "codemirror_mode": {
    "name": "ipython",
    "version": 2
   },
   "file_extension": ".py",
   "mimetype": "text/x-python",
   "name": "python",
   "nbconvert_exporter": "python",
   "pygments_lexer": "ipython2",
   "version": "2.7.9"
  }
 },
 "nbformat": 4,
 "nbformat_minor": 1
}
